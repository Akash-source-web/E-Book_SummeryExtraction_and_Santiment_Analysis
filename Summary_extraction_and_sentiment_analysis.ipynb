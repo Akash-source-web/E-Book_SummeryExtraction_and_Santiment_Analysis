{
 "cells": [
  {
   "cell_type": "code",
   "execution_count": 1,
   "id": "fb9d3cca",
   "metadata": {},
   "outputs": [],
   "source": [
    "import spacy\n",
    "from spacy.lang.en.stop_words import STOP_WORDS\n",
    "from string import punctuation\n",
    "import sys, fitz"
   ]
  },
  {
   "cell_type": "code",
   "execution_count": 2,
   "id": "029631e4",
   "metadata": {},
   "outputs": [
    {
     "data": {
      "text/plain": [
       "['myself',\n",
       " 'beforehand',\n",
       " 'take',\n",
       " 'again',\n",
       " 'of',\n",
       " 'regarding',\n",
       " 'sometimes',\n",
       " 'still',\n",
       " 'between',\n",
       " '’ll',\n",
       " 'become',\n",
       " '’d',\n",
       " '‘m',\n",
       " 'beyond',\n",
       " 'am',\n",
       " 'another',\n",
       " 'each',\n",
       " 'an',\n",
       " 'perhaps',\n",
       " 'ours',\n",
       " 'were',\n",
       " 'noone',\n",
       " 'via',\n",
       " '’s',\n",
       " 'off',\n",
       " 'yourself',\n",
       " 'seem',\n",
       " 'own',\n",
       " 'already',\n",
       " 'onto',\n",
       " 'although',\n",
       " 'though',\n",
       " 'might',\n",
       " 'seemed',\n",
       " 'they',\n",
       " 'when',\n",
       " 'others',\n",
       " 'themselves',\n",
       " 'during',\n",
       " 'hence',\n",
       " 'done',\n",
       " 'once',\n",
       " 'what',\n",
       " 'next',\n",
       " 'along',\n",
       " 'much',\n",
       " 'she',\n",
       " 'whereas',\n",
       " 'all',\n",
       " 'first',\n",
       " 'never',\n",
       " 'fifty',\n",
       " '’m',\n",
       " 'nevertheless',\n",
       " 'but',\n",
       " 'somehow',\n",
       " 'yours',\n",
       " 'everywhere',\n",
       " 'would',\n",
       " 'could',\n",
       " '‘ve',\n",
       " 'enough',\n",
       " 'fifteen',\n",
       " 'twenty',\n",
       " 'yet',\n",
       " 'hundred',\n",
       " 'unless',\n",
       " 'ten',\n",
       " 'over',\n",
       " 'seems',\n",
       " 'per',\n",
       " 'under',\n",
       " 'a',\n",
       " 'below',\n",
       " 'former',\n",
       " 'we',\n",
       " 'four',\n",
       " 'mostly',\n",
       " '’re',\n",
       " 'be',\n",
       " 'about',\n",
       " 'it',\n",
       " 'latter',\n",
       " 'than',\n",
       " 'less',\n",
       " 'hereupon',\n",
       " 'from',\n",
       " 'if',\n",
       " 'wherever',\n",
       " 'he',\n",
       " 'move',\n",
       " 'cannot',\n",
       " \"'d\",\n",
       " 'whom',\n",
       " 'same',\n",
       " 'indeed',\n",
       " 'since',\n",
       " \"'re\",\n",
       " 'whoever',\n",
       " 'to',\n",
       " 'him',\n",
       " 'how',\n",
       " 'other',\n",
       " 'more',\n",
       " 'anyone',\n",
       " '‘re',\n",
       " 'thru',\n",
       " 'therein',\n",
       " 'in',\n",
       " 'whose',\n",
       " 'thereupon',\n",
       " 'used',\n",
       " 'can',\n",
       " 'them',\n",
       " 'using',\n",
       " 'however',\n",
       " 'very',\n",
       " 'their',\n",
       " 'somewhere',\n",
       " 'up',\n",
       " 'by',\n",
       " 'else',\n",
       " 'go',\n",
       " 'together',\n",
       " 'down',\n",
       " 'before',\n",
       " 'many',\n",
       " 'too',\n",
       " 'these',\n",
       " 'almost',\n",
       " 'both',\n",
       " 'did',\n",
       " 'any',\n",
       " 'further',\n",
       " 'bottom',\n",
       " 'us',\n",
       " 'across',\n",
       " 'rather',\n",
       " 'one',\n",
       " 'because',\n",
       " 'sixty',\n",
       " 'twelve',\n",
       " 'third',\n",
       " 'do',\n",
       " 'herein',\n",
       " 'someone',\n",
       " 'sometime',\n",
       " 'around',\n",
       " 'six',\n",
       " 'really',\n",
       " 'every',\n",
       " 'why',\n",
       " 'toward',\n",
       " \"n't\",\n",
       " 'me',\n",
       " 'namely',\n",
       " 'that',\n",
       " 'my',\n",
       " 'only',\n",
       " 'some',\n",
       " 'none',\n",
       " 'yourselves',\n",
       " 'show',\n",
       " 'above',\n",
       " \"'ll\",\n",
       " 'are',\n",
       " 'quite',\n",
       " 'either',\n",
       " 'side',\n",
       " 'made',\n",
       " 'such',\n",
       " 'on',\n",
       " 'everyone',\n",
       " 'just',\n",
       " 'whenever',\n",
       " 'most',\n",
       " 'least',\n",
       " 'no',\n",
       " 'at',\n",
       " 'put',\n",
       " 'afterwards',\n",
       " 'now',\n",
       " 'whole',\n",
       " 'or',\n",
       " 'front',\n",
       " 'keep',\n",
       " 'neither',\n",
       " 'see',\n",
       " 'name',\n",
       " 'well',\n",
       " 'which',\n",
       " 'our',\n",
       " 'anyhow',\n",
       " 'seeming',\n",
       " 'your',\n",
       " 'whence',\n",
       " 'something',\n",
       " 'her',\n",
       " 'thereby',\n",
       " 'eleven',\n",
       " '‘ll',\n",
       " 'being',\n",
       " 'beside',\n",
       " 'anything',\n",
       " '’ve',\n",
       " 'should',\n",
       " 'ourselves',\n",
       " 'n‘t',\n",
       " 'always',\n",
       " 'while',\n",
       " 'anyway',\n",
       " 'will',\n",
       " 'herself',\n",
       " 'say',\n",
       " 'also',\n",
       " 'formerly',\n",
       " 'three',\n",
       " 'five',\n",
       " 'last',\n",
       " 'through',\n",
       " \"'m\",\n",
       " 'for',\n",
       " 'doing',\n",
       " 'latterly',\n",
       " 'two',\n",
       " 'throughout',\n",
       " 'amongst',\n",
       " 'then',\n",
       " 'whereupon',\n",
       " 'within',\n",
       " '‘d',\n",
       " 'whatever',\n",
       " 'whereby',\n",
       " 'becoming',\n",
       " 'n’t',\n",
       " 'has',\n",
       " 'becomes',\n",
       " 'several',\n",
       " 'hereby',\n",
       " 'upon',\n",
       " 'ever',\n",
       " 'where',\n",
       " 'must',\n",
       " 'wherein',\n",
       " 'empty',\n",
       " 'otherwise',\n",
       " 'top',\n",
       " 'hereafter',\n",
       " 'besides',\n",
       " 'been',\n",
       " 'except',\n",
       " 'back',\n",
       " 'its',\n",
       " 'due',\n",
       " 'without',\n",
       " 'elsewhere',\n",
       " 'against',\n",
       " 'everything',\n",
       " 'as',\n",
       " 'those',\n",
       " 'please',\n",
       " 'behind',\n",
       " 'became',\n",
       " 'amount',\n",
       " 'often',\n",
       " 'nor',\n",
       " 'out',\n",
       " 'after',\n",
       " 'call',\n",
       " 'this',\n",
       " 'among',\n",
       " 'meanwhile',\n",
       " 'therefore',\n",
       " 'nowhere',\n",
       " 'get',\n",
       " \"'s\",\n",
       " 'does',\n",
       " 'may',\n",
       " 'not',\n",
       " 'whether',\n",
       " 'have',\n",
       " 'itself',\n",
       " 'who',\n",
       " 'until',\n",
       " 'nine',\n",
       " 'was',\n",
       " 'various',\n",
       " 'hers',\n",
       " 'his',\n",
       " 'towards',\n",
       " 'mine',\n",
       " 'nobody',\n",
       " 'and',\n",
       " 'the',\n",
       " 'you',\n",
       " 'moreover',\n",
       " 'with',\n",
       " \"'ve\",\n",
       " 'whither',\n",
       " 'himself',\n",
       " 'here',\n",
       " 'alone',\n",
       " 'thus',\n",
       " 'i',\n",
       " 'so',\n",
       " 'few',\n",
       " 'thence',\n",
       " 'ca',\n",
       " 'eight',\n",
       " 'anywhere',\n",
       " 'serious',\n",
       " 'nothing',\n",
       " 'there',\n",
       " 'give',\n",
       " 'thereafter',\n",
       " 'into',\n",
       " 'part',\n",
       " 'is',\n",
       " 'had',\n",
       " '‘s',\n",
       " 're',\n",
       " 'full',\n",
       " 'forty',\n",
       " 'even',\n",
       " 'make',\n",
       " 'whereafter']"
      ]
     },
     "execution_count": 2,
     "metadata": {},
     "output_type": "execute_result"
    }
   ],
   "source": [
    "stopwords = list(STOP_WORDS)\n",
    "stopwords"
   ]
  },
  {
   "cell_type": "code",
   "execution_count": 3,
   "id": "deb4010e",
   "metadata": {},
   "outputs": [],
   "source": [
    "nlp = spacy.load('en_core_web_sm')"
   ]
  },
  {
   "cell_type": "code",
   "execution_count": 6,
   "id": "3674e754",
   "metadata": {},
   "outputs": [
    {
     "name": "stdout",
     "output_type": "stream",
     "text": [
      "That’s Not LoveBy Elisabeth Sanxay HoldingTable of ContentsIIIIIIIVVVIVIIVIIIIXThat’s Not LoveA gay world, that summer morning! The sprinkler on the lawnflung a rainbow mist into the air, and left tiny diamondsshining on the grass blades. Everything was astir—the leavesrustling on the trees, gay flowers swaying on their stalks.Curtains fluttered at the open windows, and through the cool,bright house voices came floating, light as butterflies. SerenaPage had arisen.To be sure, she had told her house guests the night before thatjust because she had to get up was no reason why any one elseshould be disturbed at the outrageous hour of half past eight;but somehow everybody was disturbed. Somehow her gettingup made confusion all through the house; for that was Serena’sespecial talent—to create an exciting sort of bustle about her,without herself doing anything at all. Serena! Never was awoman so misnamed!She came down the stairs, her filmy black negligee floating outbehind her, so that she seemed, as always, to be coming in abreeze—an artificial breeze, though, perfumed and enervating,bringing no health or color. She was without make-up at thisearly hour. Her handsome, haggard face was pale, her eyeswere heavy.She entered the breakfast room, and there was the Moriartygirl, standing by the window.“Good morning, Mrs. Page,” she said, with that enigmatic smileof hers.Serena smiled, too, but faintly. Geraldine Moriarty wasbeginning to get on her nerves very badly, and she was longingfor an excuse to fly into a rage with the girl. That was the onlyway Serena could get rid of people. She could do nothing incold blood. She had taken on Geraldine in an outburst ofgenerosity, and she would have to have an outburst of angerbefore she could send her away.“Had breakfast?” she inquired.“No—I was waiting for you, Mrs. Page.”Serena took her place at the table, and the Japanese butlercame forward to serve her. She did not know his name. Shewas not even sure that she had seen him before. She got herservants from an agency in the city, which upon demand wouldsend her out a “crew” commanded by a butler. Sometimesthings went wrong, and the whole lot left together; but anothercrew always came promptly, and her household suffered verylittle from the change. She had the art of making her home asimpersonal as a hotel; but she did notice this butler. She smiledupon him, because his charmingly deferential air pleased her.He seemed to appreciate the solemnity of the occasion.It was indeed an important occasion. It was the beginning ofSerena’s diet. Before this elegant and luxurious creature thebutler set half of a grapefruit, two slices of Graham bread toastwithout butter, and a cup of black coffee.She shuddered a little, and closed her eyes. Every morning,henceforth, she was to get up at half past eight, go through aset of exercises, take a cold shower, and come downstairs—tothis! Every one said she wouldn’t be able to stand it. Those whopleased her best said she had absolutely no need of a reducingdiet, and would be made ill by it.Only the Moriarty girl showed no interest at all. Serenaobserved that Geraldine had a slice of grilled Virginia ham onher plate.“How Connie could ever have called her a sweet child!” shethought. “She’s as hard as nails!”Some six weeks ago Connie Blanchard had come to Serena witha most piteous tale about Geraldine Moriarty.“Her mother and I went to the same school in Paris,” she hadsaid; “and now this sweet child’s all alone in the world.Something awful happened to her father. He went bankrupt, orlost his mind, or something—I can’t remember now—andGeraldine simply hasn’t a penny. Fine old Irish family, youknow, and she’s awfully well educated. I’d love to help her, butyou know how it is with me, my dear, living as I do in hotels—and I’m not strong. Do please do something for the poor child,Serena!”Who could have done more? Serena had at once engaged MissMoriarty as secretary-companion, and here she was, getting anice little salary, and with practically no work to do. Thesecretarial duties were almost nonexistent, for Serena veryseldom wrote or even answered a letter. She and her friendscarried on their social activities by telephone, and they liked todo their own talking.As for the companion part, that was absurd. Serena was alwayssurrounded by companions, and mighty obliging ones, too—penniless cousins, ambitious and ambiguous ladies, all sorts ofeager and pliant creatures, who made up a little court whereSerena ruled magnificently. No—all the Moriarty girl had to dowas to look on, and of course to admire; and it was at thissimple task that she so utterly failed.She didn’t seem to admire anything or anybody, not evenherself. She was ironically indifferent to her own dark beauty.She had no decent clothes, and when Serena had offered hersome very good things that she was tired of, Geraldine hadrefused—politely, of course. She was always polite, alwayscareful not to give Serena any excuse for getting rid of her.“But you’ll go, my dear!” thought Serena. “I’ve done quiteenough for you!”She glanced across the table at her silent companion.“Hopeless!” she reflected. “Simply hopeless! Of course she’sgood-looking, in a way—but she has absolutely no charm, andno figure.”Miss Moriarty went on eating with an excellent appetite. Shewas never talkative. She was quiet, but with a quiet whichSerena did not find restful or soothing. She was a tall girl, thinand supple, with a careless grace in every movement. Her facehad a gypsy darkness, with high cheek bones, features delicateand yet bold, and black eyes with a scornful light in them. Shewas dressed in a black skirt, a black jersey, and a plain whiteblouse—a costume that made her look lanky, thought thedieting Serena; and she had that air of not caring.“For Heaven’s sake, do talk, my dear!” cried Serena, overcomeby exasperation. “I’m all on edge this morning, and it makes mehorribly nervous to see you sitting there like a—like a gravenimage!”“I’ll try,” said Miss Moriarty obligingly. “Have you seen thedelphiniums?”“Never heard of the things,” said Serena. “Oh, do answer thatfor me, my dear!”For the butler had come forward to say that a “generman”wanted to speak to Mrs. Page on the telephone.There was, inevitably, a telephone in the breakfast room. Therewere telephones everywhere in that house, so that, in order tospeak to a friend perhaps a hundred miles away, one need nothave the fatigue of walking more than twenty feet. Geraldinetook up the receiver.“This is Mrs. Page’s secretary,” she said. “Will you give me themessage, please?”“Tell Mrs. Page it’s Sambo,” said a curt and very clear masculinevoice.“It’s Sambo,” repeated Miss Moriarty, turning toward Serena.She was surprised by the change that came over that haggard,petulant face. Forgotten were the nerves and the cruel diet.Serena sprang to her feet and ran to the telephone, and evenher voice was changed.“Sambo!” she cried. “What an hour! Yes, I know, but why didn’tyou write me, just once? I’m not reproaching you, silly boy!Only I did think you’d have time just for a line. No, no! To-day,Sambo? But can’t you give me some idea what time? Surelysome time to-day? Oh, all right! By-by, big boy!”She came back to the table and sank into her chair, laughing.“I’ll take a slice of that ham,” she said to the butler, “and creamfor my coffee. Quick! I’m starving!” Then she looked atGeraldine. “Sammy Randall is coming,” she announced.“How nice,” said Geraldine.But Serena missed any irony there may have been in the words.Mrs. Anson had appeared in the doorway, and she called to her:“Betty, Sambo’s coming out to-day!”“My dear, how simply marvelous!” cried Betty Anson, withfervor.Serena expected that fervor. She took it for granted that all herfriends would rejoice with her; and so they did. Serena, thequeen, was happy, and all her court was happy, too, reaping thebenefits of her good humor.“But that awful Moriarty!” she whispered to Betty Anson.“She’s worse than usual this morning. I don’t know what’s thematter with her. She’s so indifferent and ungrateful!”“Thosepeoplearealwaysenvious,”saidMrs.Anson.“Governesses and companions—they’re not exactly servants,you know, and yet they’re not—well, they’re simply out ofeverything.”“I wish she’d stay out altogether!” said Serena.Geraldine Moriarty wished the same thing. As she stepped outthrough the long window of the breakfast room to the lawn,she wished that she need never set foot in that house again.She hated it, she hated the life there, and at times she camedangerously close to hating the people in it.For, though Serena’s conclusion that the girl was “as hard asnails” was an exaggeration, there was a grain of truth in it. Shehad, for her nineteen years, a character remarkably definiteand independent. She had fortitude, courage, and the pride ofLucifer. She had come here, penniless, solitary, and so young,direct from the almost cloistered life she had led with herinvalid mother, and not for one instant had she been dazzled orswayed by the luxury and the feverish gayety about her. Shestayed because she knew no other way to earn her bread, butall her salary she put into a savings bank, and would not toucha penny of it. When there was enough, she meant to go away.She would learn typing and shorthand, find work in an office,and be done with this existence which she hated.She lived here in exile, utterly alien and lonely, among thesepeople whom she neither comprehended nor pitied. Herpeople had been gentlefolk. She had been brought up in atradition of dignity, honor, and reserve, and she clung to thattradition with all the strength of her loyal heart. What herpeople had been, she would be. Their ways were the right ways.Their manners, their speech, their tastes, formed the standardsby which all others should be judged. And, so judged, Serenaand her friends were damned. Geraldine saw no good in themat all. They were base, heartless, and vulgar.She walked across the lawn to the sea wall at the foot of thegarden, and jumped down to the beach, a few feet below. Shewanted to be alone for a little while in the fresh, sweet summermorning, in the sun and the salt wind, and to forget themonstrous thing she had seen; but she could not forget. Inanger, in contempt, she was obliged to remember Serena’s faceat the mention of that man’s name.Evidently Serena “loved” this man with the mountebank name,and her friends seemed to think it a charming idyl—the “love”of a woman of forty, who had divorced one husband and wasliving in constant bickering with a second. The fact of her beingmarried was simply a side issue. Faith and honor had nomeaning at all for these people, and love—that was what theycalled “love”!IIThe summer day was drawing to a close. The shadows of thetrees were long upon the grass, the sun was sinking through asky wistful and delicate, faint rose and yellow.There was a blessed quiet all through the house. Serena andher friends had certainly intended to be back for tea, but theyhad not come. They never could do what they meant to do.Obstacles intervened, and they were not well equipped fordealing with obstacles. It took so little to stop them, to bar aroad, to turn them off toward a new destination. They had notcome back, and Geraldine was having her tea alone in thelibrary, reading a book as she sipped it.That was how Sambo first saw her, sitting, very straight, in ahigh-backed chair, with the last light of the sunset on her clear,pale face. He said later that she had put him in mind of aMadonna, and there were not many women he knew whocould do that. He stood in the doorway, staring at her, for quitea long time—so long that he never afterward forgot how shelooked then, so still, so lovely, so aloof.For a moment he was almost afraid to disturb her.But the fear of disturbing other persons had not yet greatlyinfluenced young Samuel Randall. He was a conqueror,nonchalant and superb. He took whatever things pleased himin this world. Slender, almost slight, with his fine features, hismournful dark eyes, he had a poetic and touching look abouthim; but it belied him. He was not poetic. He was greedy, andwillful, and reckless.He wanted to talk to this lovely image, so in he went.“This a gentle hint?” he asked.Geraldine put down her book and looked at him.“I said I was coming to-day,” he went on, “and they’re all out.That mean I’m not wanted?”And he smiled his charming, arrogant smile, for he knew sowell that he was always wanted.“Mrs. Page meant to be home by five,” said Geraldine, with nosmile at all. “Something must have delayed her.”“Then you’ll give me a cup of tea, won’t you? I’m Randall, youknow.”She said yes, none too cordially, and rang the bell for fresh tea.He sat down opposite her, slouching in his chair, his handsomehead thrown back, his dark eyes watching her.“I’m Mrs. Page’s secretary,” she explained with cold formality.“Lucky, lucky Mrs. Page!” said he.A faint color rose in her cheeks. She resented his attitude, hiseasy and careless manner, his appraising glance, and he readthe resentment in her face.“Prudish!” he thought.This did not annoy him. He liked this tall, dark, unsmiling girljust as she was, a charming novelty; but he would have tochange his tactics.“You were reading, weren’t you?” he said respectfully. “I hope Ididn’t interrupt you.”“No, Mr. Randall,” she answered.Then, suddenly, his undisciplined soul was filled with a sort ofenvy for this untroubled and superior creature who read books.“I try to read,” he said. “I wish to Heaven I could; but it’s toolate now.”“I don’t see how it could ever be too late to read,” saidGeraldine, with a trace of scorn.He had straightened up in his chair. He was no longer staring ather, but at the unlighted cigarette that he was rolling betweenhis fingers.“The thing is,” he said, “I’ve been spoiled. People listen to me—any damned nonsense I spout—and I’ve got out of the way oflistening myself. Now, you see, when I take up a book that’sworth reading, I feel as if the writer fellow had got me into acorner, and was trying to lay down the law; so I want tocontradict him, and I chuck the blamed thing across the room.”He spoke earnestly, and he was in earnest. It was his greatcharm that he was always sincere. He was not inventing thingsto say to this girl. He was simply selecting from his restless,curious mind those things which he thought would interest her.He was succeeding, too—he saw that.Geraldine did not speak, because to her reserved and proudspirit it was impossible to speak easily to a stranger; but shethought over his words with an odd sensation of distress. Shefelt sorry for the conquering Sambo.He had picked up her book, and was turning the pages. It was acopy of “The Hound of Heaven,” which her father had given herlong ago.“Poetry!” he said. “Queer sort of stuff!”Then he read aloud:“I fled Him, down the nights and down the days;I fled Him, down the arches of the years;I fled Him, down the labyrinthine waysOf my own mind—”He stopped, and for a moment he sat silent. The light wasfading out of the sky now, and in the dusk his face looked whiteand strained. The echo of his strong young voice seemed still todrift through the shadowy room.Looking at him, Geraldine had an extraordinary fancy, almost avision, of his terribly defiant soul fleeing, swift and laughing, toits own destruction. She was filled with an austere compassionand wonder. It was as if, in an instant, and without a wordspoken, he had told her all the long tale of his wasted years.“Sometimes,” he said, “the prey gets away from Him!”“No!” said Geraldine steadily. “No—never!”He struck a match, and by the flame that sprang out, vivid inthe gray dusk, she had a glimpse of his face, with eyes halfclosed, proud and sorrowful; and he was changed in her sightforever. She saw him, not as a puppet in a shameful drama, butas a fellow creature with a soul.“You know,” he said, “I’ve got lost!”The match went out, and the room seemed very dark now.Geraldine wanted to speak, to tell him something, but she couldnot remember, afterward, what incredible words had come toher mind. They were never to be spoken, however, for just atthat moment Serena came home.IIIIn her first generous enthusiasm Serena had declared that the“sweet child” must dine with them, no matter who was there,and now neither she nor Geraldine could find a plausiblereason for altering the arrangement which had grown soirksome. This evening, as usual, Geraldine went upstairs to puton her one and only dinner dress.But she was not so reluctant as usual, nor so disdainful. She feltthat she was no longer utterly alone. This man who had cometo the house was different from the others. She rememberedhis face as she had seen it in the flare of the match, andremembered the sound of his voice. If he was lost, it wasbecause he had been misguided. He was somehow a victim.Nobody noticed Miss Moriarty when she came to the table, forthey were all very well used to her and her one eveninggown—that is, nobody but Sambo; and to him she was new andlovely and profoundly interesting. He thought that her slenderhands were beautiful. So was the sweep of her shining blackhair away from her temples, and so was the proud arch of herbrows; and he thought that her poor little black dress, and heryouth and her disdainful air, were beyond measure touching.But he prudently kept his interest in Miss Moriarty to himself,and behaved as he was expected to behave. The diet waspostponed, and Serena had asked the butler to see that therewas “an awfully good dinner.” He had justified her blind faith inhim, for the dinner was an excellent one. From the well stockedcellar he had selected the proper wines; but nobody cared forthese. They all preferred whisky. Throughout the meal theydrank whisky and smoked cigarettes, and their talk was inkeeping with this.“It’s not my business,” thought Geraldine. “I can’t change theworld. I’m just here to earn a living.”But the contempt and indifference which until now had beenher armor failed her to-night. She was troubled and veryunhappy. None of these people were mere puppets any longer.They had come alive, and they were pitiful, and a little horrible.There was the girl they called Jinky—tall, gaunt, with a sort ofwasted beauty in her face. A year ago she had eloped with avery young millionaire, and, as he was under age, his parentshad had the marriage annulled—annulled, wiped out, so thatJinky had come back from her wedding trip discredited andshamed before all her world. She didn’t seem to care. Sheseemed hilariously amused by the whispered conversation ofLevering, who sat next her; but to-night Geraldine felt sure thatJinky did care—that the wound had left a cruel scar.There was Levering himself, with his supercilious, high-bredface. He had married for money, and he hadn’t got the money.It was a notorious joke in that circle that his middle-aged wifebegrudgedhimeverypenny.Hesufferedhisignoblehumiliation, and his wife suffered, too, because of her jealousand bitter infatuation for him.There was the chic and lively little Mrs. Anson, with her eternalscheming for invitations and other benefits. There was herhusband, gray-haired, distinguished in appearance, a slave toher ambition and his own weakness.There was Serena, magnificent in her diamonds, talking only toSambo, looking only at Sambo. There was Sambo himself, theman who had said that he was lost. He listened to Serenacarelessly, and smiled, even when her face was anxious andfrowning. He smoked incessantly. The light ashes from hiscigarettes fell upon his plate, into his glass, and he swallowedthem, as if he neither knew nor cared what was barren ash andwhat life-giving food.“Now what?” cried Serena, jumping up. “Bridge, or dancing, orwhat?”Geraldine had risen, too, and she fancied that she heard Mr.Anson, standing beside her, mutter:“The deluge!”He was unsteady on his feet, and his weary face was a curiousgray. Geraldine had seen him like this before. He was trying toplay, trying to be one of them, to forget—and he never could.“Oh, dancing, of course!” said Jinky. They all went into thedrawing-room, and one of the servants started the phonographplaying. The music began, the thud of drums like bare feetstamping, the sweet whine of Hawaiian guitars, like lazylaughter. Geraldine had followed the others, meaning only topass through on her way to the garden, but halfway across theroom Sambo stopped her.Thank You for previewing this eBook You can read the full version of this eBook in different formats:  HTML (Free /Available to everyone)   PDF / TXT (Available to V.I.P. members. Free Standard members can access up to 5 PDF/TXT eBooks per month each month)   Epub & Mobipocket (Exclusive to V.I.P. members) To download this full book, simply select the format you desire below    \n"
     ]
    },
    {
     "name": "stderr",
     "output_type": "stream",
     "text": [
      "Deprecation: 'getText' removed from class 'Page' after v1.19 - use 'get_text'.\n"
     ]
    }
   ],
   "source": [
    "fname = 'SummaryBook.pdf'\n",
    "doc = fitz.open(fname)\n",
    "text = \"\"\n",
    "for page in doc:\n",
    "    text = text + str(page.getText())\n",
    "\n",
    "tx = \"\".join(text.split('\\n'))\n",
    "print(tx)"
   ]
  },
  {
   "cell_type": "code",
   "execution_count": 7,
   "id": "77d1994d",
   "metadata": {},
   "outputs": [
    {
     "data": {
      "text/plain": [
       "20803"
      ]
     },
     "execution_count": 7,
     "metadata": {},
     "output_type": "execute_result"
    }
   ],
   "source": [
    "len(tx)"
   ]
  },
  {
   "cell_type": "code",
   "execution_count": 8,
   "id": "e09214dd",
   "metadata": {},
   "outputs": [],
   "source": [
    "nlp = spacy.load('en_core_web_sm')"
   ]
  },
  {
   "cell_type": "code",
   "execution_count": 9,
   "id": "a1a10338",
   "metadata": {},
   "outputs": [],
   "source": [
    "doc = nlp(tx)"
   ]
  },
  {
   "cell_type": "code",
   "execution_count": 10,
   "id": "5f085a90",
   "metadata": {},
   "outputs": [
    {
     "name": "stdout",
     "output_type": "stream",
     "text": [
      "['That', '’s', 'Not', 'LoveBy', 'Elisabeth', 'Sanxay', 'HoldingTable', 'of', 'ContentsIIIIIIIVVVIVIIVIIIIXThat', '’s', 'Not', 'LoveA', 'gay', 'world', ',', 'that', 'summer', 'morning', '!', 'The', 'sprinkler', 'on', 'the', 'lawnflung', 'a', 'rainbow', 'mist', 'into', 'the', 'air', ',', 'and', 'left', 'tiny', 'diamondsshining', 'on', 'the', 'grass', 'blades', '.', 'Everything', 'was', 'astir', '—', 'the', 'leavesrustling', 'on', 'the', 'trees', ',', 'gay', 'flowers', 'swaying', 'on', 'their', 'stalks', '.', 'Curtains', 'fluttered', 'at', 'the', 'open', 'windows', ',', 'and', 'through', 'the', 'cool', ',', 'bright', 'house', 'voices', 'came', 'floating', ',', 'light', 'as', 'butterflies', '.', 'SerenaPage', 'had', 'arisen', '.', 'To', 'be', 'sure', ',', 'she', 'had', 'told', 'her', 'house', 'guests', 'the', 'night', 'before', 'thatjust', 'because', 'she', 'had', 'to', 'get', 'up', 'was', 'no', 'reason', 'why', 'any', 'one', 'elseshould', 'be', 'disturbed', 'at', 'the', 'outrageous', 'hour', 'of', 'half', 'past', 'eight;but', 'somehow', 'everybody', 'was', 'disturbed', '.', 'Somehow', 'her', 'gettingup', 'made', 'confusion', 'all', 'through', 'the', 'house', ';', 'for', 'that', 'was', 'Serena’sespecial', 'talent', '—', 'to', 'create', 'an', 'exciting', 'sort', 'of', 'bustle', 'about', 'her', ',', 'without', 'herself', 'doing', 'anything', 'at', 'all', '.', 'Serena', '!', 'Never', 'was', 'awoman', 'so', 'misnamed!She', 'came', 'down', 'the', 'stairs', ',', 'her', 'filmy', 'black', 'negligee', 'floating', 'outbehind', 'her', ',', 'so', 'that', 'she', 'seemed', ',', 'as', 'always', ',', 'to', 'be', 'coming', 'in', 'abreeze', '—', 'an', 'artificial', 'breeze', ',', 'though', ',', 'perfumed', 'and', 'enervating', ',', 'bringing', 'no', 'health', 'or', 'color', '.', 'She', 'was', 'without', 'make', '-', 'up', 'at', 'thisearly', 'hour', '.', 'Her', 'handsome', ',', 'haggard', 'face', 'was', 'pale', ',', 'her', 'eyeswere', 'heavy', '.', 'She', 'entered', 'the', 'breakfast', 'room', ',', 'and', 'there', 'was', 'the', 'Moriartygirl', ',', 'standing', 'by', 'the', 'window', '.', '“Good', 'morning', ',', 'Mrs.', 'Page', ',', '”', 'she', 'said', ',', 'with', 'that', 'enigmatic', 'smileof', 'hers', '.', 'Serena', 'smiled', ',', 'too', ',', 'but', 'faintly', '.', 'Geraldine', 'Moriarty', 'wasbeginning', 'to', 'get', 'on', 'her', 'nerves', 'very', 'badly', ',', 'and', 'she', 'was', 'longingfor', 'an', 'excuse', 'to', 'fly', 'into', 'a', 'rage', 'with', 'the', 'girl', '.', 'That', 'was', 'the', 'onlyway', 'Serena', 'could', 'get', 'rid', 'of', 'people', '.', 'She', 'could', 'do', 'nothing', 'incold', 'blood', '.', 'She', 'had', 'taken', 'on', 'Geraldine', 'in', 'an', 'outburst', 'ofgenerosity', ',', 'and', 'she', 'would', 'have', 'to', 'have', 'an', 'outburst', 'of', 'angerbefore', 'she', 'could', 'send', 'her', 'away', '.', '“Had', 'breakfast', '?', '”', 'she', 'inquired', '.', '“No', '—', 'I', 'was', 'waiting', 'for', 'you', ',', 'Mrs.', 'Page', '.', '”Serena', 'took', 'her', 'place', 'at', 'the', 'table', ',', 'and', 'the', 'Japanese', 'butlercame', 'forward', 'to', 'serve', 'her', '.', 'She', 'did', 'not', 'know', 'his', 'name', '.', 'Shewas', 'not', 'even', 'sure', 'that', 'she', 'had', 'seen', 'him', 'before', '.', 'She', 'got', 'herservants', 'from', 'an', 'agency', 'in', 'the', 'city', ',', 'which', 'upon', 'demand', 'wouldsend', 'her', 'out', 'a', '“', 'crew', '”', 'commanded', 'by', 'a', 'butler', '.', 'Sometimesthings', 'went', 'wrong', ',', 'and', 'the', 'whole', 'lot', 'left', 'together', ';', 'but', 'anothercrew', 'always', 'came', 'promptly', ',', 'and', 'her', 'household', 'suffered', 'verylittle', 'from', 'the', 'change', '.', 'She', 'had', 'the', 'art', 'of', 'making', 'her', 'home', 'asimpersonal', 'as', 'a', 'hotel', ';', 'but', 'she', 'did', 'notice', 'this', 'butler', '.', 'She', 'smiledupon', 'him', ',', 'because', 'his', 'charmingly', 'deferential', 'air', 'pleased', 'her', '.', 'He', 'seemed', 'to', 'appreciate', 'the', 'solemnity', 'of', 'the', 'occasion', '.', 'It', 'was', 'indeed', 'an', 'important', 'occasion', '.', 'It', 'was', 'the', 'beginning', 'ofSerena', '’s', 'diet', '.', 'Before', 'this', 'elegant', 'and', 'luxurious', 'creature', 'thebutler', 'set', 'half', 'of', 'a', 'grapefruit', ',', 'two', 'slices', 'of', 'Graham', 'bread', 'toastwithout', 'butter', ',', 'and', 'a', 'cup', 'of', 'black', 'coffee', '.', 'She', 'shuddered', 'a', 'little', ',', 'and', 'closed', 'her', 'eyes', '.', 'Every', 'morning', ',', 'henceforth', ',', 'she', 'was', 'to', 'get', 'up', 'at', 'half', 'past', 'eight', ',', 'go', 'through', 'aset', 'of', 'exercises', ',', 'take', 'a', 'cold', 'shower', ',', 'and', 'come', 'downstairs', '—', 'tothis', '!', 'Every', 'one', 'said', 'she', 'would', 'n’t', 'be', 'able', 'to', 'stand', 'it', '.', 'Those', 'whopleased', 'her', 'best', 'said', 'she', 'had', 'absolutely', 'no', 'need', 'of', 'a', 'reducingdiet', ',', 'and', 'would', 'be', 'made', 'ill', 'by', 'it', '.', 'Only', 'the', 'Moriarty', 'girl', 'showed', 'no', 'interest', 'at', 'all', '.', 'Serenaobserved', 'that', 'Geraldine', 'had', 'a', 'slice', 'of', 'grilled', 'Virginia', 'ham', 'onher', 'plate', '.', '“How', 'Connie', 'could', 'ever', 'have', 'called', 'her', 'a', 'sweet', 'child', '!', '”', 'shethought', '.', '“', 'She', '’s', 'as', 'hard', 'as', 'nails!”Some', 'six', 'weeks', 'ago', 'Connie', 'Blanchard', 'had', 'come', 'to', 'Serena', 'witha', 'most', 'piteous', 'tale', 'about', 'Geraldine', 'Moriarty', '.', '“Her', 'mother', 'and', 'I', 'went', 'to', 'the', 'same', 'school', 'in', 'Paris', ',', '”', 'she', 'hadsaid', ';', '“', 'and', 'now', 'this', 'sweet', 'child', '’s', 'all', 'alone', 'in', 'the', 'world', '.', 'Something', 'awful', 'happened', 'to', 'her', 'father', '.', 'He', 'went', 'bankrupt', ',', 'orlost', 'his', 'mind', ',', 'or', 'something', '—', 'I', 'ca', 'n’t', 'remember', 'now', '—', 'andGeraldine', 'simply', 'has', 'n’t', 'a', 'penny', '.', 'Fine', 'old', 'Irish', 'family', ',', 'youknow', ',', 'and', 'she', '’s', 'awfully', 'well', 'educated', '.', 'I', '’d', 'love', 'to', 'help', 'her', ',', 'butyou', 'know', 'how', 'it', 'is', 'with', 'me', ',', 'my', 'dear', ',', 'living', 'as', 'I', 'do', 'in', 'hotels', '—', 'and', 'I', '’m', 'not', 'strong', '.', 'Do', 'please', 'do', 'something', 'for', 'the', 'poor', 'child', ',', 'Serena!”Who', 'could', 'have', 'done', 'more', '?', 'Serena', 'had', 'at', 'once', 'engaged', 'MissMoriarty', 'as', 'secretary', '-', 'companion', ',', 'and', 'here', 'she', 'was', ',', 'getting', 'anice', 'little', 'salary', ',', 'and', 'with', 'practically', 'no', 'work', 'to', 'do', '.', 'Thesecretarial', 'duties', 'were', 'almost', 'nonexistent', ',', 'for', 'Serena', 'veryseldom', 'wrote', 'or', 'even', 'answered', 'a', 'letter', '.', 'She', 'and', 'her', 'friendscarried', 'on', 'their', 'social', 'activities', 'by', 'telephone', ',', 'and', 'they', 'liked', 'todo', 'their', 'own', 'talking', '.', 'As', 'for', 'the', 'companion', 'part', ',', 'that', 'was', 'absurd', '.', 'Serena', 'was', 'alwayssurrounded', 'by', 'companions', ',', 'and', 'mighty', 'obliging', 'ones', ',', 'too', '—', 'penniless', 'cousins', ',', 'ambitious', 'and', 'ambiguous', 'ladies', ',', 'all', 'sorts', 'ofeager', 'and', 'pliant', 'creatures', ',', 'who', 'made', 'up', 'a', 'little', 'court', 'whereSerena', 'ruled', 'magnificently', '.', 'No', '—', 'all', 'the', 'Moriarty', 'girl', 'had', 'to', 'dowas', 'to', 'look', 'on', ',', 'and', 'of', 'course', 'to', 'admire', ';', 'and', 'it', 'was', 'at', 'thissimple', 'task', 'that', 'she', 'so', 'utterly', 'failed', '.', 'She', 'did', 'n’t', 'seem', 'to', 'admire', 'anything', 'or', 'anybody', ',', 'not', 'evenherself', '.', 'She', 'was', 'ironically', 'indifferent', 'to', 'her', 'own', 'dark', 'beauty', '.', 'She', 'had', 'no', 'decent', 'clothes', ',', 'and', 'when', 'Serena', 'had', 'offered', 'hersome', 'very', 'good', 'things', 'that', 'she', 'was', 'tired', 'of', ',', 'Geraldine', 'hadrefused', '—', 'politely', ',', 'of', 'course', '.', 'She', 'was', 'always', 'polite', ',', 'alwayscareful', 'not', 'to', 'give', 'Serena', 'any', 'excuse', 'for', 'getting', 'rid', 'of', 'her', '.', '“But', 'you', '’ll', 'go', ',', 'my', 'dear', '!', '”', 'thought', 'Serena', '.', '“', 'I', '’ve', 'done', 'quiteenough', 'for', 'you!”She', 'glanced', 'across', 'the', 'table', 'at', 'her', 'silent', 'companion', '.', '“Hopeless', '!', '”', 'she', 'reflected', '.', '“', 'Simply', 'hopeless', '!', 'Of', 'course', 'she’sgood', '-', 'looking', ',', 'in', 'a', 'way', '—', 'but', 'she', 'has', 'absolutely', 'no', 'charm', ',', 'andno', 'figure', '.', '”Miss', 'Moriarty', 'went', 'on', 'eating', 'with', 'an', 'excellent', 'appetite', '.', 'Shewas', 'never', 'talkative', '.', 'She', 'was', 'quiet', ',', 'but', 'with', 'a', 'quiet', 'whichSerena', 'did', 'not', 'find', 'restful', 'or', 'soothing', '.', 'She', 'was', 'a', 'tall', 'girl', ',', 'thinand', 'supple', ',', 'with', 'a', 'careless', 'grace', 'in', 'every', 'movement', '.', 'Her', 'facehad', 'a', 'gypsy', 'darkness', ',', 'with', 'high', 'cheek', 'bones', ',', 'features', 'delicateand', 'yet', 'bold', ',', 'and', 'black', 'eyes', 'with', 'a', 'scornful', 'light', 'in', 'them', '.', 'Shewas', 'dressed', 'in', 'a', 'black', 'skirt', ',', 'a', 'black', 'jersey', ',', 'and', 'a', 'plain', 'whiteblouse', '—', 'a', 'costume', 'that', 'made', 'her', 'look', 'lanky', ',', 'thought', 'thedieting', 'Serena', ';', 'and', 'she', 'had', 'that', 'air', 'of', 'not', 'caring', '.', '“For', 'Heaven', '’s', 'sake', ',', 'do', 'talk', ',', 'my', 'dear', '!', '”', 'cried', 'Serena', ',', 'overcomeby', 'exasperation', '.', '“', 'I', '’m', 'all', 'on', 'edge', 'this', 'morning', ',', 'and', 'it', 'makes', 'mehorribly', 'nervous', 'to', 'see', 'you', 'sitting', 'there', 'like', 'a', '—', 'like', 'a', 'gravenimage!”“I’ll', 'try', ',', '”', 'said', 'Miss', 'Moriarty', 'obligingly', '.', '“', 'Have', 'you', 'seen', 'thedelphiniums?”“Never', 'heard', 'of', 'the', 'things', ',', '”', 'said', 'Serena', '.', '“', 'Oh', ',', 'do', 'answer', 'thatfor', 'me', ',', 'my', 'dear!”For', 'the', 'butler', 'had', 'come', 'forward', 'to', 'say', 'that', 'a', '“', 'generman”wanted', 'to', 'speak', 'to', 'Mrs.', 'Page', 'on', 'the', 'telephone', '.', 'There', 'was', ',', 'inevitably', ',', 'a', 'telephone', 'in', 'the', 'breakfast', 'room', '.', 'Therewere', 'telephones', 'everywhere', 'in', 'that', 'house', ',', 'so', 'that', ',', 'in', 'order', 'tospeak', 'to', 'a', 'friend', 'perhaps', 'a', 'hundred', 'miles', 'away', ',', 'one', 'need', 'nothave', 'the', 'fatigue', 'of', 'walking', 'more', 'than', 'twenty', 'feet', '.', 'Geraldinetook', 'up', 'the', 'receiver', '.', '“This', 'is', 'Mrs.', 'Page', '’s', 'secretary', ',', '”', 'she', 'said', '.', '“', 'Will', 'you', 'give', 'me', 'themessage', ',', 'please?”“Tell', 'Mrs.', 'Page', 'it', '’s', 'Sambo', ',', '”', 'said', 'a', 'curt', 'and', 'very', 'clear', 'masculinevoice', '.', '“It', '’s', 'Sambo', ',', '”', 'repeated', 'Miss', 'Moriarty', ',', 'turning', 'toward', 'Serena', '.', 'She', 'was', 'surprised', 'by', 'the', 'change', 'that', 'came', 'over', 'that', 'haggard', ',', 'petulant', 'face', '.', 'Forgotten', 'were', 'the', 'nerves', 'and', 'the', 'cruel', 'diet', '.', 'Serena', 'sprang', 'to', 'her', 'feet', 'and', 'ran', 'to', 'the', 'telephone', ',', 'and', 'evenher', 'voice', 'was', 'changed', '.', '“Sambo', '!', '”', 'she', 'cried', '.', '“', 'What', 'an', 'hour', '!', 'Yes', ',', 'I', 'know', ',', 'but', 'why', 'didn’tyou', 'write', 'me', ',', 'just', 'once', '?', 'I', '’m', 'not', 'reproaching', 'you', ',', 'silly', 'boy!Only', 'I', 'did', 'think', 'you', '’d', 'have', 'time', 'just', 'for', 'a', 'line', '.', 'No', ',', 'no', '!', 'To', '-', 'day', ',', 'Sambo', '?', 'But', 'ca', 'n’t', 'you', 'give', 'me', 'some', 'idea', 'what', 'time', '?', 'Surelysome', 'time', 'to', '-', 'day', '?', 'Oh', ',', 'all', 'right', '!', 'By', '-', 'by', ',', 'big', 'boy!”She', 'came', 'back', 'to', 'the', 'table', 'and', 'sank', 'into', 'her', 'chair', ',', 'laughing', '.', '“I’ll', 'take', 'a', 'slice', 'of', 'that', 'ham', ',', '”', 'she', 'said', 'to', 'the', 'butler', ',', '“', 'and', 'creamfor', 'my', 'coffee', '.', 'Quick', '!', 'I', '’m', 'starving', '!', '”', 'Then', 'she', 'looked', 'atGeraldine', '.', '“', 'Sammy', 'Randall', 'is', 'coming', ',', '”', 'she', 'announced', '.', '“How', 'nice', ',', '”', 'said', 'Geraldine', '.', 'But', 'Serena', 'missed', 'any', 'irony', 'there', 'may', 'have', 'been', 'in', 'the', 'words', '.', 'Mrs', '.', 'Anson', 'had', 'appeared', 'in', 'the', 'doorway', ',', 'and', 'she', 'called', 'to', 'her:“Betty', ',', 'Sambo', '’s', 'coming', 'out', 'to', '-', 'day!”“My', 'dear', ',', 'how', 'simply', 'marvelous', '!', '”', 'cried', 'Betty', 'Anson', ',', 'withfervor', '.', 'Serena', 'expected', 'that', 'fervor', '.', 'She', 'took', 'it', 'for', 'granted', 'that', 'all', 'herfriends', 'would', 'rejoice', 'with', 'her', ';', 'and', 'so', 'they', 'did', '.', 'Serena', ',', 'thequeen', ',', 'was', 'happy', ',', 'and', 'all', 'her', 'court', 'was', 'happy', ',', 'too', ',', 'reaping', 'thebenefits', 'of', 'her', 'good', 'humor', '.', '“But', 'that', 'awful', 'Moriarty', '!', '”', 'she', 'whispered', 'to', 'Betty', 'Anson', '.', '“She', '’s', 'worse', 'than', 'usual', 'this', 'morning', '.', 'I', 'do', 'n’t', 'know', 'what', '’s', 'thematter', 'with', 'her', '.', 'She', '’s', 'so', 'indifferent', 'and', 'ungrateful!”“Thosepeoplearealwaysenvious,”saidMrs', '.', 'Anson', '.', '“Governesses', 'and', 'companions', '—', 'they’re', 'not', 'exactly', 'servants', ',', 'you', 'know', ',', 'and', 'yet', 'they', '’re', 'not', '—', 'well', ',', 'they', '’re', 'simply', 'out', 'ofeverything', '.', '”“I', 'wish', 'she', '’d', 'stay', 'out', 'altogether', '!', '”', 'said', 'Serena', '.', 'Geraldine', 'Moriarty', 'wished', 'the', 'same', 'thing', '.', 'As', 'she', 'stepped', 'outthrough', 'the', 'long', 'window', 'of', 'the', 'breakfast', 'room', 'to', 'the', 'lawn', ',', 'she', 'wished', 'that', 'she', 'need', 'never', 'set', 'foot', 'in', 'that', 'house', 'again', '.', 'She', 'hated', 'it', ',', 'she', 'hated', 'the', 'life', 'there', ',', 'and', 'at', 'times', 'she', 'camedangerously', 'close', 'to', 'hating', 'the', 'people', 'in', 'it', '.', 'For', ',', 'though', 'Serena', '’s', 'conclusion', 'that', 'the', 'girl', 'was', '“', 'as', 'hard', 'asnails', '”', 'was', 'an', 'exaggeration', ',', 'there', 'was', 'a', 'grain', 'of', 'truth', 'in', 'it', '.', 'Shehad', ',', 'for', 'her', 'nineteen', 'years', ',', 'a', 'character', 'remarkably', 'definiteand', 'independent', '.', 'She', 'had', 'fortitude', ',', 'courage', ',', 'and', 'the', 'pride', 'ofLucifer', '.', 'She', 'had', 'come', 'here', ',', 'penniless', ',', 'solitary', ',', 'and', 'so', 'young', ',', 'direct', 'from', 'the', 'almost', 'cloistered', 'life', 'she', 'had', 'led', 'with', 'herinvalid', 'mother', ',', 'and', 'not', 'for', 'one', 'instant', 'had', 'she', 'been', 'dazzled', 'orswayed', 'by', 'the', 'luxury', 'and', 'the', 'feverish', 'gayety', 'about', 'her', '.', 'Shestayed', 'because', 'she', 'knew', 'no', 'other', 'way', 'to', 'earn', 'her', 'bread', ',', 'butall', 'her', 'salary', 'she', 'put', 'into', 'a', 'savings', 'bank', ',', 'and', 'would', 'not', 'toucha', 'penny', 'of', 'it', '.', 'When', 'there', 'was', 'enough', ',', 'she', 'meant', 'to', 'go', 'away', '.', 'She', 'would', 'learn', 'typing', 'and', 'shorthand', ',', 'find', 'work', 'in', 'an', 'office', ',', 'and', 'be', 'done', 'with', 'this', 'existence', 'which', 'she', 'hated', '.', 'She', 'lived', 'here', 'in', 'exile', ',', 'utterly', 'alien', 'and', 'lonely', ',', 'among', 'thesepeople', 'whom', 'she', 'neither', 'comprehended', 'nor', 'pitied', '.', 'Herpeople', 'had', 'been', 'gentlefolk', '.', 'She', 'had', 'been', 'brought', 'up', 'in', 'atradition', 'of', 'dignity', ',', 'honor', ',', 'and', 'reserve', ',', 'and', 'she', 'clung', 'to', 'thattradition', 'with', 'all', 'the', 'strength', 'of', 'her', 'loyal', 'heart', '.', 'What', 'herpeople', 'had', 'been', ',', 'she', 'would', 'be', '.', 'Their', 'ways', 'were', 'the', 'right', 'ways', '.', 'Their', 'manners', ',', 'their', 'speech', ',', 'their', 'tastes', ',', 'formed', 'the', 'standardsby', 'which', 'all', 'others', 'should', 'be', 'judged', '.', 'And', ',', 'so', 'judged', ',', 'Serenaand', 'her', 'friends', 'were', 'damned', '.', 'Geraldine', 'saw', 'no', 'good', 'in', 'themat', 'all', '.', 'They', 'were', 'base', ',', 'heartless', ',', 'and', 'vulgar', '.', 'She', 'walked', 'across', 'the', 'lawn', 'to', 'the', 'sea', 'wall', 'at', 'the', 'foot', 'of', 'thegarden', ',', 'and', 'jumped', 'down', 'to', 'the', 'beach', ',', 'a', 'few', 'feet', 'below', '.', 'Shewanted', 'to', 'be', 'alone', 'for', 'a', 'little', 'while', 'in', 'the', 'fresh', ',', 'sweet', 'summermorning', ',', 'in', 'the', 'sun', 'and', 'the', 'salt', 'wind', ',', 'and', 'to', 'forget', 'themonstrous', 'thing', 'she', 'had', 'seen', ';', 'but', 'she', 'could', 'not', 'forget', '.', 'Inanger', ',', 'in', 'contempt', ',', 'she', 'was', 'obliged', 'to', 'remember', 'Serena', '’s', 'faceat', 'the', 'mention', 'of', 'that', 'man', '’s', 'name', '.', 'Evidently', 'Serena', '“', 'loved', '”', 'this', 'man', 'with', 'the', 'mountebank', 'name', ',', 'and', 'her', 'friends', 'seemed', 'to', 'think', 'it', 'a', 'charming', 'idyl', '—', 'the', '“', 'love”of', 'a', 'woman', 'of', 'forty', ',', 'who', 'had', 'divorced', 'one', 'husband', 'and', 'wasliving', 'in', 'constant', 'bickering', 'with', 'a', 'second', '.', 'The', 'fact', 'of', 'her', 'beingmarried', 'was', 'simply', 'a', 'side', 'issue', '.', 'Faith', 'and', 'honor', 'had', 'nomeaning', 'at', 'all', 'for', 'these', 'people', ',', 'and', 'love', '—', 'that', 'was', 'what', 'theycalled', '“', 'love”!IIThe', 'summer', 'day', 'was', 'drawing', 'to', 'a', 'close', '.', 'The', 'shadows', 'of', 'thetrees', 'were', 'long', 'upon', 'the', 'grass', ',', 'the', 'sun', 'was', 'sinking', 'through', 'asky', 'wistful', 'and', 'delicate', ',', 'faint', 'rose', 'and', 'yellow', '.', 'There', 'was', 'a', 'blessed', 'quiet', 'all', 'through', 'the', 'house', '.', 'Serena', 'andher', 'friends', 'had', 'certainly', 'intended', 'to', 'be', 'back', 'for', 'tea', ',', 'but', 'theyhad', 'not', 'come', '.', 'They', 'never', 'could', 'do', 'what', 'they', 'meant', 'to', 'do', '.', 'Obstacles', 'intervened', ',', 'and', 'they', 'were', 'not', 'well', 'equipped', 'fordealing', 'with', 'obstacles', '.', 'It', 'took', 'so', 'little', 'to', 'stop', 'them', ',', 'to', 'bar', 'aroad', ',', 'to', 'turn', 'them', 'off', 'toward', 'a', 'new', 'destination', '.', 'They', 'had', 'notcome', 'back', ',', 'and', 'Geraldine', 'was', 'having', 'her', 'tea', 'alone', 'in', 'thelibrary', ',', 'reading', 'a', 'book', 'as', 'she', 'sipped', 'it', '.', 'That', 'was', 'how', 'Sambo', 'first', 'saw', 'her', ',', 'sitting', ',', 'very', 'straight', ',', 'in', 'ahigh', '-', 'backed', 'chair', ',', 'with', 'the', 'last', 'light', 'of', 'the', 'sunset', 'on', 'her', 'clear', ',', 'pale', 'face', '.', 'He', 'said', 'later', 'that', 'she', 'had', 'put', 'him', 'in', 'mind', 'of', 'aMadonna', ',', 'and', 'there', 'were', 'not', 'many', 'women', 'he', 'knew', 'whocould', 'do', 'that', '.', 'He', 'stood', 'in', 'the', 'doorway', ',', 'staring', 'at', 'her', ',', 'for', 'quitea', 'long', 'time', '—', 'so', 'long', 'that', 'he', 'never', 'afterward', 'forgot', 'how', 'shelooked', 'then', ',', 'so', 'still', ',', 'so', 'lovely', ',', 'so', 'aloof', '.', 'For', 'a', 'moment', 'he', 'was', 'almost', 'afraid', 'to', 'disturb', 'her', '.', 'But', 'the', 'fear', 'of', 'disturbing', 'other', 'persons', 'had', 'not', 'yet', 'greatlyinfluenced', 'young', 'Samuel', 'Randall', '.', 'He', 'was', 'a', 'conqueror', ',', 'nonchalant', 'and', 'superb', '.', 'He', 'took', 'whatever', 'things', 'pleased', 'himin', 'this', 'world', '.', 'Slender', ',', 'almost', 'slight', ',', 'with', 'his', 'fine', 'features', ',', 'hismournful', 'dark', 'eyes', ',', 'he', 'had', 'a', 'poetic', 'and', 'touching', 'look', 'abouthim', ';', 'but', 'it', 'belied', 'him', '.', 'He', 'was', 'not', 'poetic', '.', 'He', 'was', 'greedy', ',', 'andwillful', ',', 'and', 'reckless', '.', 'He', 'wanted', 'to', 'talk', 'to', 'this', 'lovely', 'image', ',', 'so', 'in', 'he', 'went', '.', '“This', 'a', 'gentle', 'hint', '?', '”', 'he', 'asked', '.', 'Geraldine', 'put', 'down', 'her', 'book', 'and', 'looked', 'at', 'him', '.', '“I', 'said', 'I', 'was', 'coming', 'to', '-', 'day', ',', '”', 'he', 'went', 'on', ',', '“', 'and', 'they', '’re', 'all', 'out', '.', 'That', 'mean', 'I', '’m', 'not', 'wanted?”And', 'he', 'smiled', 'his', 'charming', ',', 'arrogant', 'smile', ',', 'for', 'he', 'knew', 'sowell', 'that', 'he', 'was', 'always', 'wanted', '.', '“Mrs', '.', 'Page', 'meant', 'to', 'be', 'home', 'by', 'five', ',', '”', 'said', 'Geraldine', ',', 'with', 'nosmile', 'at', 'all', '.', '“', 'Something', 'must', 'have', 'delayed', 'her', '.', '”“Then', 'you', '’ll', 'give', 'me', 'a', 'cup', 'of', 'tea', ',', 'wo', 'n’t', 'you', '?', 'I', '’m', 'Randall', ',', 'youknow', '.', '”She', 'said', 'yes', ',', 'none', 'too', 'cordially', ',', 'and', 'rang', 'the', 'bell', 'for', 'fresh', 'tea', '.', 'He', 'sat', 'down', 'opposite', 'her', ',', 'slouching', 'in', 'his', 'chair', ',', 'his', 'handsomehead', 'thrown', 'back', ',', 'his', 'dark', 'eyes', 'watching', 'her', '.', '“I’m', 'Mrs.', 'Page', '’s', 'secretary', ',', '”', 'she', 'explained', 'with', 'cold', 'formality', '.', '“Lucky', ',', 'lucky', 'Mrs.', 'Page', '!', '”', 'said', 'he', '.', 'A', 'faint', 'color', 'rose', 'in', 'her', 'cheeks', '.', 'She', 'resented', 'his', 'attitude', ',', 'hiseasy', 'and', 'careless', 'manner', ',', 'his', 'appraising', 'glance', ',', 'and', 'he', 'readthe', 'resentment', 'in', 'her', 'face', '.', '“Prudish', '!', '”', 'he', 'thought', '.', 'This', 'did', 'not', 'annoy', 'him', '.', 'He', 'liked', 'this', 'tall', ',', 'dark', ',', 'unsmiling', 'girljust', 'as', 'she', 'was', ',', 'a', 'charming', 'novelty', ';', 'but', 'he', 'would', 'have', 'tochange', 'his', 'tactics', '.', '“You', 'were', 'reading', ',', 'were', 'n’t', 'you', '?', '”', 'he', 'said', 'respectfully', '.', '“', 'I', 'hope', 'Ididn’t', 'interrupt', 'you', '.', '”“No', ',', 'Mr.', 'Randall', ',', '”', 'she', 'answered', '.', 'Then', ',', 'suddenly', ',', 'his', 'undisciplined', 'soul', 'was', 'filled', 'with', 'a', 'sort', 'ofenvy', 'for', 'this', 'untroubled', 'and', 'superior', 'creature', 'who', 'read', 'books', '.', '“I', 'try', 'to', 'read', ',', '”', 'he', 'said', '.', '“', 'I', 'wish', 'to', 'Heaven', 'I', 'could', ';', 'but', 'it', '’s', 'toolate', 'now', '.', '”“I', 'do', 'n’t', 'see', 'how', 'it', 'could', 'ever', 'be', 'too', 'late', 'to', 'read', ',', '”', 'saidGeraldine', ',', 'with', 'a', 'trace', 'of', 'scorn', '.', 'He', 'had', 'straightened', 'up', 'in', 'his', 'chair', '.', 'He', 'was', 'no', 'longer', 'staring', 'ather', ',', 'but', 'at', 'the', 'unlighted', 'cigarette', 'that', 'he', 'was', 'rolling', 'betweenhis', 'fingers', '.', '“The', 'thing', 'is', ',', '”', 'he', 'said', ',', '“', 'I', '’ve', 'been', 'spoiled', '.', 'People', 'listen', 'to', 'me', '—', 'any', 'damned', 'nonsense', 'I', 'spout', '—', 'and', 'I', '’ve', 'got', 'out', 'of', 'the', 'way', 'oflistening', 'myself', '.', 'Now', ',', 'you', 'see', ',', 'when', 'I', 'take', 'up', 'a', 'book', 'that’sworth', 'reading', ',', 'I', 'feel', 'as', 'if', 'the', 'writer', 'fellow', 'had', 'got', 'me', 'into', 'acorner', ',', 'and', 'was', 'trying', 'to', 'lay', 'down', 'the', 'law', ';', 'so', 'I', 'want', 'tocontradict', 'him', ',', 'and', 'I', 'chuck', 'the', 'blamed', 'thing', 'across', 'the', 'room', '.', '”He', 'spoke', 'earnestly', ',', 'and', 'he', 'was', 'in', 'earnest', '.', 'It', 'was', 'his', 'greatcharm', 'that', 'he', 'was', 'always', 'sincere', '.', 'He', 'was', 'not', 'inventing', 'thingsto', 'say', 'to', 'this', 'girl', '.', 'He', 'was', 'simply', 'selecting', 'from', 'his', 'restless', ',', 'curious', 'mind', 'those', 'things', 'which', 'he', 'thought', 'would', 'interest', 'her', '.', 'He', 'was', 'succeeding', ',', 'too', '—', 'he', 'saw', 'that', '.', 'Geraldine', 'did', 'not', 'speak', ',', 'because', 'to', 'her', 'reserved', 'and', 'proudspirit', 'it', 'was', 'impossible', 'to', 'speak', 'easily', 'to', 'a', 'stranger', ';', 'but', 'shethought', 'over', 'his', 'words', 'with', 'an', 'odd', 'sensation', 'of', 'distress', '.', 'Shefelt', 'sorry', 'for', 'the', 'conquering', 'Sambo', '.', 'He', 'had', 'picked', 'up', 'her', 'book', ',', 'and', 'was', 'turning', 'the', 'pages', '.', 'It', 'was', 'acopy', 'of', '“', 'The', 'Hound', 'of', 'Heaven', ',', '”', 'which', 'her', 'father', 'had', 'given', 'herlong', 'ago', '.', '“Poetry', '!', '”', 'he', 'said', '.', '“', 'Queer', 'sort', 'of', 'stuff!”Then', 'he', 'read', 'aloud:“I', 'fled', 'Him', ',', 'down', 'the', 'nights', 'and', 'down', 'the', 'days;I', 'fled', 'Him', ',', 'down', 'the', 'arches', 'of', 'the', 'years;I', 'fled', 'Him', ',', 'down', 'the', 'labyrinthine', 'waysOf', 'my', 'own', 'mind—”He', 'stopped', ',', 'and', 'for', 'a', 'moment', 'he', 'sat', 'silent', '.', 'The', 'light', 'wasfading', 'out', 'of', 'the', 'sky', 'now', ',', 'and', 'in', 'the', 'dusk', 'his', 'face', 'looked', 'whiteand', 'strained', '.', 'The', 'echo', 'of', 'his', 'strong', 'young', 'voice', 'seemed', 'still', 'todrift', 'through', 'the', 'shadowy', 'room', '.', 'Looking', 'at', 'him', ',', 'Geraldine', 'had', 'an', 'extraordinary', 'fancy', ',', 'almost', 'avision', ',', 'of', 'his', 'terribly', 'defiant', 'soul', 'fleeing', ',', 'swift', 'and', 'laughing', ',', 'toits', 'own', 'destruction', '.', 'She', 'was', 'filled', 'with', 'an', 'austere', 'compassionand', 'wonder', '.', 'It', 'was', 'as', 'if', ',', 'in', 'an', 'instant', ',', 'and', 'without', 'a', 'wordspoken', ',', 'he', 'had', 'told', 'her', 'all', 'the', 'long', 'tale', 'of', 'his', 'wasted', 'years', '.', '“Sometimes', ',', '”', 'he', 'said', ',', '“', 'the', 'prey', 'gets', 'away', 'from', 'Him!”“No', '!', '”', 'said', 'Geraldine', 'steadily', '.', '“', 'No', '—', 'never!”He', 'struck', 'a', 'match', ',', 'and', 'by', 'the', 'flame', 'that', 'sprang', 'out', ',', 'vivid', 'inthe', 'gray', 'dusk', ',', 'she', 'had', 'a', 'glimpse', 'of', 'his', 'face', ',', 'with', 'eyes', 'halfclosed', ',', 'proud', 'and', 'sorrowful', ';', 'and', 'he', 'was', 'changed', 'in', 'her', 'sightforever', '.', 'She', 'saw', 'him', ',', 'not', 'as', 'a', 'puppet', 'in', 'a', 'shameful', 'drama', ',', 'butas', 'a', 'fellow', 'creature', 'with', 'a', 'soul', '.', '“You', 'know', ',', '”', 'he', 'said', ',', '“', 'I', '’ve', 'got', 'lost!”The', 'match', 'went', 'out', ',', 'and', 'the', 'room', 'seemed', 'very', 'dark', 'now', '.', 'Geraldine', 'wanted', 'to', 'speak', ',', 'to', 'tell', 'him', 'something', ',', 'but', 'she', 'couldnot', 'remember', ',', 'afterward', ',', 'what', 'incredible', 'words', 'had', 'come', 'toher', 'mind', '.', 'They', 'were', 'never', 'to', 'be', 'spoken', ',', 'however', ',', 'for', 'just', 'atthat', 'moment', 'Serena', 'came', 'home', '.', 'IIIIn', 'her', 'first', 'generous', 'enthusiasm', 'Serena', 'had', 'declared', 'that', 'the“sweet', 'child', '”', 'must', 'dine', 'with', 'them', ',', 'no', 'matter', 'who', 'was', 'there', ',', 'and', 'now', 'neither', 'she', 'nor', 'Geraldine', 'could', 'find', 'a', 'plausiblereason', 'for', 'altering', 'the', 'arrangement', 'which', 'had', 'grown', 'soirksome', '.', 'This', 'evening', ',', 'as', 'usual', ',', 'Geraldine', 'went', 'upstairs', 'to', 'puton', 'her', 'one', 'and', 'only', 'dinner', 'dress', '.', 'But', 'she', 'was', 'not', 'so', 'reluctant', 'as', 'usual', ',', 'nor', 'so', 'disdainful', '.', 'She', 'feltthat', 'she', 'was', 'no', 'longer', 'utterly', 'alone', '.', 'This', 'man', 'who', 'had', 'cometo', 'the', 'house', 'was', 'different', 'from', 'the', 'others', '.', 'She', 'rememberedhis', 'face', 'as', 'she', 'had', 'seen', 'it', 'in', 'the', 'flare', 'of', 'the', 'match', ',', 'andremembered', 'the', 'sound', 'of', 'his', 'voice', '.', 'If', 'he', 'was', 'lost', ',', 'it', 'wasbecause', 'he', 'had', 'been', 'misguided', '.', 'He', 'was', 'somehow', 'a', 'victim', '.', 'Nobody', 'noticed', 'Miss', 'Moriarty', 'when', 'she', 'came', 'to', 'the', 'table', ',', 'forthey', 'were', 'all', 'very', 'well', 'used', 'to', 'her', 'and', 'her', 'one', 'eveninggown', '—', 'that', 'is', ',', 'nobody', 'but', 'Sambo', ';', 'and', 'to', 'him', 'she', 'was', 'new', 'andlovely', 'and', 'profoundly', 'interesting', '.', 'He', 'thought', 'that', 'her', 'slenderhands', 'were', 'beautiful', '.', 'So', 'was', 'the', 'sweep', 'of', 'her', 'shining', 'blackhair', 'away', 'from', 'her', 'temples', ',', 'and', 'so', 'was', 'the', 'proud', 'arch', 'of', 'herbrows', ';', 'and', 'he', 'thought', 'that', 'her', 'poor', 'little', 'black', 'dress', ',', 'and', 'heryouth', 'and', 'her', 'disdainful', 'air', ',', 'were', 'beyond', 'measure', 'touching', '.', 'But', 'he', 'prudently', 'kept', 'his', 'interest', 'in', 'Miss', 'Moriarty', 'to', 'himself', ',', 'and', 'behaved', 'as', 'he', 'was', 'expected', 'to', 'behave', '.', 'The', 'diet', 'waspostponed', ',', 'and', 'Serena', 'had', 'asked', 'the', 'butler', 'to', 'see', 'that', 'therewas', '“', 'an', 'awfully', 'good', 'dinner', '.', '”', 'He', 'had', 'justified', 'her', 'blind', 'faith', 'inhim', ',', 'for', 'the', 'dinner', 'was', 'an', 'excellent', 'one', '.', 'From', 'the', 'well', 'stockedcellar', 'he', 'had', 'selected', 'the', 'proper', 'wines', ';', 'but', 'nobody', 'cared', 'forthese', '.', 'They', 'all', 'preferred', 'whisky', '.', 'Throughout', 'the', 'meal', 'theydrank', 'whisky', 'and', 'smoked', 'cigarettes', ',', 'and', 'their', 'talk', 'was', 'inkeeping', 'with', 'this', '.', '“It', '’s', 'not', 'my', 'business', ',', '”', 'thought', 'Geraldine', '.', '“', 'I', 'ca', 'n’t', 'change', 'theworld', '.', 'I', '’m', 'just', 'here', 'to', 'earn', 'a', 'living', '.', '”But', 'the', 'contempt', 'and', 'indifference', 'which', 'until', 'now', 'had', 'beenher', 'armor', 'failed', 'her', 'to', '-', 'night', '.', 'She', 'was', 'troubled', 'and', 'veryunhappy', '.', 'None', 'of', 'these', 'people', 'were', 'mere', 'puppets', 'any', 'longer', '.', 'They', 'had', 'come', 'alive', ',', 'and', 'they', 'were', 'pitiful', ',', 'and', 'a', 'little', 'horrible', '.', 'There', 'was', 'the', 'girl', 'they', 'called', 'Jinky', '—', 'tall', ',', 'gaunt', ',', 'with', 'a', 'sort', 'ofwasted', 'beauty', 'in', 'her', 'face', '.', 'A', 'year', 'ago', 'she', 'had', 'eloped', 'with', 'avery', 'young', 'millionaire', ',', 'and', ',', 'as', 'he', 'was', 'under', 'age', ',', 'his', 'parentshad', 'had', 'the', 'marriage', 'annulled', '—', 'annulled', ',', 'wiped', 'out', ',', 'so', 'thatJinky', 'had', 'come', 'back', 'from', 'her', 'wedding', 'trip', 'discredited', 'andshamed', 'before', 'all', 'her', 'world', '.', 'She', 'did', 'n’t', 'seem', 'to', 'care', '.', 'Sheseemed', 'hilariously', 'amused', 'by', 'the', 'whispered', 'conversation', 'ofLevering', ',', 'who', 'sat', 'next', 'her', ';', 'but', 'to', '-', 'night', 'Geraldine', 'felt', 'sure', 'thatJinky', 'did', 'care', '—', 'that', 'the', 'wound', 'had', 'left', 'a', 'cruel', 'scar', '.', 'There', 'was', 'Levering', 'himself', ',', 'with', 'his', 'supercilious', ',', 'high', '-', 'bredface', '.', 'He', 'had', 'married', 'for', 'money', ',', 'and', 'he', 'had', 'n’t', 'got', 'the', 'money', '.', 'It', 'was', 'a', 'notorious', 'joke', 'in', 'that', 'circle', 'that', 'his', 'middle', '-', 'aged', 'wifebegrudgedhimeverypenny', '.', 'Hesufferedhisignoblehumiliation', ',', 'and', 'his', 'wife', 'suffered', ',', 'too', ',', 'because', 'of', 'her', 'jealousand', 'bitter', 'infatuation', 'for', 'him', '.', 'There', 'was', 'the', 'chic', 'and', 'lively', 'little', 'Mrs.', 'Anson', ',', 'with', 'her', 'eternalscheming', 'for', 'invitations', 'and', 'other', 'benefits', '.', 'There', 'was', 'herhusband', ',', 'gray', '-', 'haired', ',', 'distinguished', 'in', 'appearance', ',', 'a', 'slave', 'toher', 'ambition', 'and', 'his', 'own', 'weakness', '.', 'There', 'was', 'Serena', ',', 'magnificent', 'in', 'her', 'diamonds', ',', 'talking', 'only', 'toSambo', ',', 'looking', 'only', 'at', 'Sambo', '.', 'There', 'was', 'Sambo', 'himself', ',', 'theman', 'who', 'had', 'said', 'that', 'he', 'was', 'lost', '.', 'He', 'listened', 'to', 'Serenacarelessly', ',', 'and', 'smiled', ',', 'even', 'when', 'her', 'face', 'was', 'anxious', 'andfrowning', '.', 'He', 'smoked', 'incessantly', '.', 'The', 'light', 'ashes', 'from', 'hiscigarettes', 'fell', 'upon', 'his', 'plate', ',', 'into', 'his', 'glass', ',', 'and', 'he', 'swallowedthem', ',', 'as', 'if', 'he', 'neither', 'knew', 'nor', 'cared', 'what', 'was', 'barren', 'ash', 'andwhat', 'life', '-', 'giving', 'food', '.', '“Now', 'what', '?', '”', 'cried', 'Serena', ',', 'jumping', 'up', '.', '“', 'Bridge', ',', 'or', 'dancing', ',', 'orwhat?”Geraldine', 'had', 'risen', ',', 'too', ',', 'and', 'she', 'fancied', 'that', 'she', 'heard', 'Mr', '.', 'Anson', ',', 'standing', 'beside', 'her', ',', 'mutter:“The', 'deluge!”He', 'was', 'unsteady', 'on', 'his', 'feet', ',', 'and', 'his', 'weary', 'face', 'was', 'a', 'curiousgray', '.', 'Geraldine', 'had', 'seen', 'him', 'like', 'this', 'before', '.', 'He', 'was', 'trying', 'toplay', ',', 'trying', 'to', 'be', 'one', 'of', 'them', ',', 'to', 'forget', '—', 'and', 'he', 'never', 'could', '.', '“Oh', ',', 'dancing', ',', 'of', 'course', '!', '”', 'said', 'Jinky', '.', 'They', 'all', 'went', 'into', 'thedrawing', '-', 'room', ',', 'and', 'one', 'of', 'the', 'servants', 'started', 'the', 'phonographplaying', '.', 'The', 'music', 'began', ',', 'the', 'thud', 'of', 'drums', 'like', 'bare', 'feetstamping', ',', 'the', 'sweet', 'whine', 'of', 'Hawaiian', 'guitars', ',', 'like', 'lazylaughter', '.', 'Geraldine', 'had', 'followed', 'the', 'others', ',', 'meaning', 'only', 'topass', 'through', 'on', 'her', 'way', 'to', 'the', 'garden', ',', 'but', 'halfway', 'across', 'theroom', 'Sambo', 'stopped', 'her', '.', 'Thank', 'You', 'for', 'previewing', 'this', 'eBook', 'You', 'can', 'read', 'the', 'full', 'version', 'of', 'this', 'eBook', 'in', 'different', 'formats', ':', '\\uf0d8', 'HTML', '(', 'Free', '/Available', 'to', 'everyone', ')', ' ', '\\uf0d8', 'PDF', '/', 'TXT', '(', 'Available', 'to', 'V.I.P.', 'members', '.', 'Free', 'Standard', 'members', 'can', 'access', 'up', 'to', '5', 'PDF', '/', 'TXT', 'eBooks', 'per', 'month', 'each', 'month', ')', ' ', '\\uf0d8', 'Epub', '&', 'Mobipocket', '(', 'Exclusive', 'to', 'V.I.P.', 'members', ')', 'To', 'download', 'this', 'full', 'book', ',', 'simply', 'select', 'the', 'format', 'you', 'desire', 'below', '   ']\n"
     ]
    }
   ],
   "source": [
    "tokens = [token.text for token in doc]\n",
    "print(tokens)"
   ]
  },
  {
   "cell_type": "code",
   "execution_count": 11,
   "id": "44bcd42f",
   "metadata": {},
   "outputs": [
    {
     "data": {
      "text/plain": [
       "'!\"#$%&\\'()*+,-./:;<=>?@[\\\\]^_`{|}~\\n'"
      ]
     },
     "execution_count": 11,
     "metadata": {},
     "output_type": "execute_result"
    }
   ],
   "source": [
    "punctuation = punctuation + '\\n'\n",
    "punctuation"
   ]
  },
  {
   "cell_type": "code",
   "execution_count": 12,
   "id": "72429858",
   "metadata": {},
   "outputs": [],
   "source": [
    "word_frequencies = {}\n",
    "for word in doc:\n",
    "    if word.text.lower() not in stopwords:\n",
    "        if word.text.lower() not in punctuation:\n",
    "            if word.text not in word_frequencies.keys():\n",
    "                word_frequencies[word.text] = 1\n",
    "            else:\n",
    "                word_frequencies[word.text] += 1"
   ]
  },
  {
   "cell_type": "code",
   "execution_count": 13,
   "id": "73411d74",
   "metadata": {},
   "outputs": [
    {
     "name": "stdout",
     "output_type": "stream",
     "text": [
      "{'LoveBy': 1, 'Elisabeth': 1, 'Sanxay': 1, 'HoldingTable': 1, 'ContentsIIIIIIIVVVIVIIVIIIIXThat': 1, 'LoveA': 1, 'gay': 2, 'world': 4, 'summer': 2, 'morning': 5, 'sprinkler': 1, 'lawnflung': 1, 'rainbow': 1, 'mist': 1, 'air': 4, 'left': 3, 'tiny': 1, 'diamondsshining': 1, 'grass': 2, 'blades': 1, 'astir': 1, '—': 28, 'leavesrustling': 1, 'trees': 1, 'flowers': 1, 'swaying': 1, 'stalks': 1, 'Curtains': 1, 'fluttered': 1, 'open': 1, 'windows': 1, 'cool': 1, 'bright': 1, 'house': 7, 'voices': 1, 'came': 7, 'floating': 2, 'light': 5, 'butterflies': 1, 'SerenaPage': 1, 'arisen': 1, 'sure': 3, 'told': 2, 'guests': 1, 'night': 3, 'thatjust': 1, 'reason': 1, 'elseshould': 1, 'disturbed': 2, 'outrageous': 1, 'hour': 3, 'half': 3, 'past': 2, 'eight;but': 1, 'everybody': 1, 'gettingup': 1, 'confusion': 1, 'Serena’sespecial': 1, 'talent': 1, 'create': 1, 'exciting': 1, 'sort': 4, 'bustle': 1, 'Serena': 28, 'awoman': 1, 'misnamed!She': 1, 'stairs': 1, 'filmy': 1, 'black': 6, 'negligee': 1, 'outbehind': 1, 'coming': 4, 'abreeze': 1, 'artificial': 1, 'breeze': 1, 'perfumed': 1, 'enervating': 1, 'bringing': 1, 'health': 1, 'color': 2, 'thisearly': 1, 'handsome': 1, 'haggard': 2, 'face': 10, 'pale': 2, 'eyeswere': 1, 'heavy': 1, 'entered': 1, 'breakfast': 4, 'room': 7, 'Moriartygirl': 1, 'standing': 2, 'window': 2, '“Good': 1, 'Mrs.': 8, 'Page': 8, '”': 44, 'said': 24, 'enigmatic': 1, 'smileof': 1, 'smiled': 3, 'faintly': 1, 'Geraldine': 21, 'Moriarty': 11, 'wasbeginning': 1, 'nerves': 2, 'badly': 1, 'longingfor': 1, 'excuse': 2, 'fly': 1, 'rage': 1, 'girl': 7, 'onlyway': 1, 'rid': 2, 'people': 4, 'incold': 1, 'blood': 1, 'taken': 1, 'outburst': 2, 'ofgenerosity': 1, 'angerbefore': 1, 'send': 1, 'away': 5, '“Had': 1, 'inquired': 1, '“No': 1, 'waiting': 1, '”Serena': 1, 'took': 4, 'place': 1, 'table': 4, 'Japanese': 1, 'butlercame': 1, 'forward': 2, 'serve': 1, 'know': 6, 'Shewas': 3, 'seen': 5, 'got': 5, 'herservants': 1, 'agency': 1, 'city': 1, 'demand': 1, 'wouldsend': 1, '“': 30, 'crew': 1, 'commanded': 1, 'butler': 5, 'Sometimesthings': 1, 'went': 9, 'wrong': 1, 'lot': 1, 'anothercrew': 1, 'promptly': 1, 'household': 1, 'suffered': 2, 'verylittle': 1, 'change': 3, 'art': 1, 'making': 1, 'home': 3, 'asimpersonal': 1, 'hotel': 1, 'notice': 1, 'smiledupon': 1, 'charmingly': 1, 'deferential': 1, 'pleased': 2, 'appreciate': 1, 'solemnity': 1, 'occasion': 2, 'important': 1, 'beginning': 1, 'ofSerena': 1, 'diet': 3, 'elegant': 1, 'luxurious': 1, 'creature': 3, 'thebutler': 1, 'set': 2, 'grapefruit': 1, 'slices': 1, 'Graham': 1, 'bread': 2, 'toastwithout': 1, 'butter': 1, 'cup': 2, 'coffee': 2, 'shuddered': 1, 'little': 8, 'closed': 1, 'eyes': 5, 'henceforth': 1, 'aset': 1, 'exercises': 1, 'cold': 2, 'shower': 1, 'come': 8, 'downstairs': 1, 'tothis': 1, 'able': 1, 'stand': 1, 'whopleased': 1, 'best': 1, 'absolutely': 2, 'need': 3, 'reducingdiet': 1, 'ill': 1, 'showed': 1, 'interest': 3, 'Serenaobserved': 1, 'slice': 2, 'grilled': 1, 'Virginia': 1, 'ham': 2, 'onher': 1, 'plate': 2, '“How': 2, 'Connie': 2, 'called': 3, 'sweet': 4, 'child': 4, 'shethought': 2, 'hard': 2, 'nails!”Some': 1, 'weeks': 1, 'ago': 3, 'Blanchard': 1, 'witha': 1, 'piteous': 1, 'tale': 2, '“Her': 1, 'mother': 2, 'school': 1, 'Paris': 1, 'hadsaid': 1, 'awful': 2, 'happened': 1, 'father': 2, 'bankrupt': 1, 'orlost': 1, 'mind': 4, 'remember': 3, 'andGeraldine': 1, 'simply': 6, 'penny': 2, 'Fine': 1, 'old': 1, 'Irish': 1, 'family': 1, 'youknow': 2, 'awfully': 2, 'educated': 1, 'love': 2, 'help': 1, 'butyou': 1, 'dear': 4, 'living': 2, 'hotels': 1, 'strong': 2, 'poor': 2, 'Serena!”Who': 1, 'engaged': 1, 'MissMoriarty': 1, 'secretary': 3, 'companion': 3, 'getting': 2, 'anice': 1, 'salary': 2, 'practically': 1, 'work': 2, 'Thesecretarial': 1, 'duties': 1, 'nonexistent': 1, 'veryseldom': 1, 'wrote': 1, 'answered': 2, 'letter': 1, 'friendscarried': 1, 'social': 1, 'activities': 1, 'telephone': 4, 'liked': 2, 'todo': 1, 'talking': 2, 'absurd': 1, 'alwayssurrounded': 1, 'companions': 2, 'mighty': 1, 'obliging': 1, 'ones': 1, 'penniless': 2, 'cousins': 1, 'ambitious': 1, 'ambiguous': 1, 'ladies': 1, 'sorts': 1, 'ofeager': 1, 'pliant': 1, 'creatures': 1, 'court': 2, 'whereSerena': 1, 'ruled': 1, 'magnificently': 1, 'dowas': 1, 'look': 3, 'course': 4, 'admire': 2, 'thissimple': 1, 'task': 1, 'utterly': 3, 'failed': 2, 'anybody': 1, 'evenherself': 1, 'ironically': 1, 'indifferent': 2, 'dark': 5, 'beauty': 2, 'decent': 1, 'clothes': 1, 'offered': 1, 'hersome': 1, 'good': 4, 'things': 4, 'tired': 1, 'hadrefused': 1, 'politely': 1, 'polite': 1, 'alwayscareful': 1, '“But': 2, 'thought': 7, 'quiteenough': 1, 'you!”She': 1, 'glanced': 1, 'silent': 2, '“Hopeless': 1, 'reflected': 1, 'Simply': 1, 'hopeless': 1, 'she’sgood': 1, 'looking': 2, 'way': 4, 'charm': 1, 'andno': 1, 'figure': 1, '”Miss': 1, 'eating': 1, 'excellent': 2, 'appetite': 1, 'talkative': 1, 'quiet': 3, 'whichSerena': 1, 'find': 3, 'restful': 1, 'soothing': 1, 'tall': 3, 'thinand': 1, 'supple': 1, 'careless': 2, 'grace': 1, 'movement': 1, 'facehad': 1, 'gypsy': 1, 'darkness': 1, 'high': 2, 'cheek': 1, 'bones': 1, 'features': 2, 'delicateand': 1, 'bold': 1, 'scornful': 1, 'dressed': 1, 'skirt': 1, 'jersey': 1, 'plain': 1, 'whiteblouse': 1, 'costume': 1, 'lanky': 1, 'thedieting': 1, 'caring': 1, '“For': 1, 'Heaven': 3, 'sake': 1, 'talk': 3, 'cried': 4, 'overcomeby': 1, 'exasperation': 1, 'edge': 1, 'makes': 1, 'mehorribly': 1, 'nervous': 1, 'sitting': 2, 'like': 5, 'gravenimage!”“I’ll': 1, 'try': 2, 'Miss': 4, 'obligingly': 1, 'thedelphiniums?”“Never': 1, 'heard': 2, 'Oh': 2, 'answer': 1, 'thatfor': 1, 'dear!”For': 1, 'generman”wanted': 1, 'speak': 4, 'inevitably': 1, 'Therewere': 1, 'telephones': 1, 'order': 1, 'tospeak': 1, 'friend': 1, 'miles': 1, 'nothave': 1, 'fatigue': 1, 'walking': 1, 'feet': 4, 'Geraldinetook': 1, 'receiver': 1, '“This': 2, 'themessage': 1, 'please?”“Tell': 1, 'Sambo': 10, 'curt': 1, 'clear': 2, 'masculinevoice': 1, '“It': 2, 'repeated': 1, 'turning': 2, 'surprised': 1, 'petulant': 1, 'Forgotten': 1, 'cruel': 2, 'sprang': 2, 'ran': 1, 'evenher': 1, 'voice': 3, 'changed': 2, '“Sambo': 1, 'Yes': 1, 'didn’tyou': 1, 'write': 1, 'reproaching': 1, 'silly': 1, 'boy!Only': 1, 'think': 2, 'time': 4, 'line': 1, 'day': 4, 'idea': 1, 'Surelysome': 1, 'right': 2, 'big': 1, 'boy!”She': 1, 'sank': 1, 'chair': 4, 'laughing': 2, '“I’ll': 1, 'creamfor': 1, 'Quick': 1, 'starving': 1, 'looked': 3, 'atGeraldine': 1, 'Sammy': 1, 'Randall': 4, 'announced': 1, 'nice': 1, 'missed': 1, 'irony': 1, 'words': 3, 'Mrs': 1, 'Anson': 6, 'appeared': 1, 'doorway': 2, 'her:“Betty': 1, 'day!”“My': 1, 'marvelous': 1, 'Betty': 2, 'withfervor': 1, 'expected': 2, 'fervor': 1, 'granted': 1, 'herfriends': 1, 'rejoice': 1, 'thequeen': 1, 'happy': 2, 'reaping': 1, 'thebenefits': 1, 'humor': 1, 'whispered': 2, '“She': 1, 'worse': 1, 'usual': 3, 'thematter': 1, 'ungrateful!”“Thosepeoplearealwaysenvious,”saidMrs': 1, '“Governesses': 1, 'they’re': 1, 'exactly': 1, 'servants': 2, 'ofeverything': 1, '”“I': 2, 'wish': 2, 'stay': 1, 'altogether': 1, 'wished': 2, 'thing': 4, 'stepped': 1, 'outthrough': 1, 'long': 5, 'lawn': 2, 'foot': 2, 'hated': 3, 'life': 3, 'times': 1, 'camedangerously': 1, 'close': 2, 'hating': 1, 'conclusion': 1, 'asnails': 1, 'exaggeration': 1, 'grain': 1, 'truth': 1, 'Shehad': 1, 'nineteen': 1, 'years': 2, 'character': 1, 'remarkably': 1, 'definiteand': 1, 'independent': 1, 'fortitude': 1, 'courage': 1, 'pride': 1, 'ofLucifer': 1, 'solitary': 1, 'young': 4, 'direct': 1, 'cloistered': 1, 'led': 1, 'herinvalid': 1, 'instant': 2, 'dazzled': 1, 'orswayed': 1, 'luxury': 1, 'feverish': 1, 'gayety': 1, 'Shestayed': 1, 'knew': 4, 'earn': 2, 'butall': 1, 'savings': 1, 'bank': 1, 'toucha': 1, 'meant': 3, 'learn': 1, 'typing': 1, 'shorthand': 1, 'office': 1, 'existence': 1, 'lived': 1, 'exile': 1, 'alien': 1, 'lonely': 1, 'thesepeople': 1, 'comprehended': 1, 'pitied': 1, 'Herpeople': 1, 'gentlefolk': 1, 'brought': 1, 'atradition': 1, 'dignity': 1, 'honor': 2, 'reserve': 1, 'clung': 1, 'thattradition': 1, 'strength': 1, 'loyal': 1, 'heart': 1, 'herpeople': 1, 'ways': 2, 'manners': 1, 'speech': 1, 'tastes': 1, 'formed': 1, 'standardsby': 1, 'judged': 2, 'Serenaand': 1, 'friends': 3, 'damned': 2, 'saw': 4, 'themat': 1, 'base': 1, 'heartless': 1, 'vulgar': 1, 'walked': 1, 'sea': 1, 'wall': 1, 'thegarden': 1, 'jumped': 1, 'beach': 1, 'Shewanted': 1, 'fresh': 2, 'summermorning': 1, 'sun': 2, 'salt': 1, 'wind': 1, 'forget': 3, 'themonstrous': 1, 'Inanger': 1, 'contempt': 2, 'obliged': 1, 'faceat': 1, 'mention': 1, 'man': 3, 'Evidently': 1, 'loved': 1, 'mountebank': 1, 'charming': 3, 'idyl': 1, 'love”of': 1, 'woman': 1, 'divorced': 1, 'husband': 1, 'wasliving': 1, 'constant': 1, 'bickering': 1, 'second': 1, 'fact': 1, 'beingmarried': 1, 'issue': 1, 'Faith': 1, 'nomeaning': 1, 'theycalled': 1, 'love”!IIThe': 1, 'drawing': 1, 'shadows': 1, 'thetrees': 1, 'sinking': 1, 'asky': 1, 'wistful': 1, 'delicate': 1, 'faint': 2, 'rose': 2, 'yellow': 1, 'blessed': 1, 'andher': 1, 'certainly': 1, 'intended': 1, 'tea': 4, 'theyhad': 1, 'Obstacles': 1, 'intervened': 1, 'equipped': 1, 'fordealing': 1, 'obstacles': 1, 'stop': 1, 'bar': 1, 'aroad': 1, 'turn': 1, 'new': 2, 'destination': 1, 'notcome': 1, 'having': 1, 'thelibrary': 1, 'reading': 3, 'book': 5, 'sipped': 1, 'straight': 1, 'ahigh': 1, 'backed': 1, 'sunset': 1, 'later': 1, 'aMadonna': 1, 'women': 1, 'whocould': 1, 'stood': 1, 'staring': 2, 'quitea': 1, 'afterward': 2, 'forgot': 1, 'shelooked': 1, 'lovely': 2, 'aloof': 1, 'moment': 3, 'afraid': 1, 'disturb': 1, 'fear': 1, 'disturbing': 1, 'persons': 1, 'greatlyinfluenced': 1, 'Samuel': 1, 'conqueror': 1, 'nonchalant': 1, 'superb': 1, 'himin': 1, 'Slender': 1, 'slight': 1, 'fine': 1, 'hismournful': 1, 'poetic': 2, 'touching': 2, 'abouthim': 1, 'belied': 1, 'greedy': 1, 'andwillful': 1, 'reckless': 1, 'wanted': 3, 'image': 1, 'gentle': 1, 'hint': 1, 'asked': 2, '“I': 2, 'mean': 1, 'wanted?”And': 1, 'arrogant': 1, 'smile': 1, 'sowell': 1, '“Mrs': 1, 'nosmile': 1, 'delayed': 1, '”“Then': 1, 'wo': 1, '”She': 1, 'yes': 1, 'cordially': 1, 'rang': 1, 'bell': 1, 'sat': 3, 'opposite': 1, 'slouching': 1, 'handsomehead': 1, 'thrown': 1, 'watching': 1, '“I’m': 1, 'explained': 1, 'formality': 1, '“Lucky': 1, 'lucky': 1, 'cheeks': 1, 'resented': 1, 'attitude': 1, 'hiseasy': 1, 'manner': 1, 'appraising': 1, 'glance': 1, 'readthe': 1, 'resentment': 1, '“Prudish': 1, 'annoy': 1, 'unsmiling': 1, 'girljust': 1, 'novelty': 1, 'tochange': 1, 'tactics': 1, '“You': 2, 'respectfully': 1, 'hope': 1, 'Ididn’t': 1, 'interrupt': 1, '”“No': 1, 'Mr.': 1, 'suddenly': 1, 'undisciplined': 1, 'soul': 3, 'filled': 2, 'ofenvy': 1, 'untroubled': 1, 'superior': 1, 'read': 5, 'books': 1, 'toolate': 1, 'late': 1, 'saidGeraldine': 1, 'trace': 1, 'scorn': 1, 'straightened': 1, 'longer': 3, 'ather': 1, 'unlighted': 1, 'cigarette': 1, 'rolling': 1, 'betweenhis': 1, 'fingers': 1, '“The': 1, 'spoiled': 1, 'People': 1, 'listen': 1, 'nonsense': 1, 'spout': 1, 'oflistening': 1, 'that’sworth': 1, 'feel': 1, 'writer': 1, 'fellow': 2, 'acorner': 1, 'trying': 3, 'lay': 1, 'law': 1, 'want': 1, 'tocontradict': 1, 'chuck': 1, 'blamed': 1, '”He': 1, 'spoke': 1, 'earnestly': 1, 'earnest': 1, 'greatcharm': 1, 'sincere': 1, 'inventing': 1, 'thingsto': 1, 'selecting': 1, 'restless': 1, 'curious': 1, 'succeeding': 1, 'reserved': 1, 'proudspirit': 1, 'impossible': 1, 'easily': 1, 'stranger': 1, 'odd': 1, 'sensation': 1, 'distress': 1, 'Shefelt': 1, 'sorry': 1, 'conquering': 1, 'picked': 1, 'pages': 1, 'acopy': 1, 'Hound': 1, 'given': 1, 'herlong': 1, '“Poetry': 1, 'Queer': 1, 'stuff!”Then': 1, 'aloud:“I': 1, 'fled': 3, 'nights': 1, 'days;I': 1, 'arches': 1, 'years;I': 1, 'labyrinthine': 1, 'waysOf': 1, 'mind—”He': 1, 'stopped': 2, 'wasfading': 1, 'sky': 1, 'dusk': 2, 'whiteand': 1, 'strained': 1, 'echo': 1, 'todrift': 1, 'shadowy': 1, 'Looking': 1, 'extraordinary': 1, 'fancy': 1, 'avision': 1, 'terribly': 1, 'defiant': 1, 'fleeing': 1, 'swift': 1, 'toits': 1, 'destruction': 1, 'austere': 1, 'compassionand': 1, 'wonder': 1, 'wordspoken': 1, 'wasted': 1, '“Sometimes': 1, 'prey': 1, 'gets': 1, 'Him!”“No': 1, 'steadily': 1, 'never!”He': 1, 'struck': 1, 'match': 3, 'flame': 1, 'vivid': 1, 'inthe': 1, 'gray': 2, 'glimpse': 1, 'halfclosed': 1, 'proud': 2, 'sorrowful': 1, 'sightforever': 1, 'puppet': 1, 'shameful': 1, 'drama': 1, 'butas': 1, 'lost!”The': 1, 'tell': 1, 'couldnot': 1, 'incredible': 1, 'toher': 2, 'spoken': 1, 'atthat': 1, 'IIIIn': 1, 'generous': 1, 'enthusiasm': 1, 'declared': 1, 'the“sweet': 1, 'dine': 1, 'matter': 1, 'plausiblereason': 1, 'altering': 1, 'arrangement': 1, 'grown': 1, 'soirksome': 1, 'evening': 1, 'upstairs': 1, 'puton': 1, 'dinner': 3, 'dress': 2, 'reluctant': 1, 'disdainful': 2, 'feltthat': 1, 'cometo': 1, 'different': 2, 'rememberedhis': 1, 'flare': 1, 'andremembered': 1, 'sound': 1, 'lost': 2, 'wasbecause': 1, 'misguided': 1, 'victim': 1, 'noticed': 1, 'forthey': 1, 'eveninggown': 1, 'andlovely': 1, 'profoundly': 1, 'interesting': 1, 'slenderhands': 1, 'beautiful': 1, 'sweep': 1, 'shining': 1, 'blackhair': 1, 'temples': 1, 'arch': 1, 'herbrows': 1, 'heryouth': 1, 'measure': 1, 'prudently': 1, 'kept': 1, 'behaved': 1, 'behave': 1, 'waspostponed': 1, 'therewas': 1, 'justified': 1, 'blind': 1, 'faith': 1, 'inhim': 1, 'stockedcellar': 1, 'selected': 1, 'proper': 1, 'wines': 1, 'cared': 2, 'forthese': 1, 'preferred': 1, 'whisky': 2, 'meal': 1, 'theydrank': 1, 'smoked': 2, 'cigarettes': 1, 'inkeeping': 1, 'business': 1, 'theworld': 1, '”But': 1, 'indifference': 1, 'beenher': 1, 'armor': 1, 'troubled': 1, 'veryunhappy': 1, 'mere': 1, 'puppets': 1, 'alive': 1, 'pitiful': 1, 'horrible': 1, 'Jinky': 2, 'gaunt': 1, 'ofwasted': 1, 'year': 1, 'eloped': 1, 'avery': 1, 'millionaire': 1, 'age': 1, 'parentshad': 1, 'marriage': 1, 'annulled': 2, 'wiped': 1, 'thatJinky': 2, 'wedding': 1, 'trip': 1, 'discredited': 1, 'andshamed': 1, 'care': 2, 'Sheseemed': 1, 'hilariously': 1, 'amused': 1, 'conversation': 1, 'ofLevering': 1, 'felt': 1, 'wound': 1, 'scar': 1, 'Levering': 1, 'supercilious': 1, 'bredface': 1, 'married': 1, 'money': 2, 'notorious': 1, 'joke': 1, 'circle': 1, 'middle': 1, 'aged': 1, 'wifebegrudgedhimeverypenny': 1, 'Hesufferedhisignoblehumiliation': 1, 'wife': 1, 'jealousand': 1, 'bitter': 1, 'infatuation': 1, 'chic': 1, 'lively': 1, 'eternalscheming': 1, 'invitations': 1, 'benefits': 1, 'herhusband': 1, 'haired': 1, 'distinguished': 1, 'appearance': 1, 'slave': 1, 'ambition': 1, 'weakness': 1, 'magnificent': 1, 'diamonds': 1, 'toSambo': 1, 'theman': 1, 'listened': 1, 'Serenacarelessly': 1, 'anxious': 1, 'andfrowning': 1, 'incessantly': 1, 'ashes': 1, 'hiscigarettes': 1, 'fell': 1, 'glass': 1, 'swallowedthem': 1, 'barren': 1, 'ash': 1, 'andwhat': 1, 'giving': 1, 'food': 1, '“Now': 1, 'jumping': 1, 'Bridge': 1, 'dancing': 2, 'orwhat?”Geraldine': 1, 'risen': 1, 'fancied': 1, 'Mr': 1, 'mutter:“The': 1, 'deluge!”He': 1, 'unsteady': 1, 'weary': 1, 'curiousgray': 1, 'toplay': 1, '“Oh': 1, 'thedrawing': 1, 'started': 1, 'phonographplaying': 1, 'music': 1, 'began': 1, 'thud': 1, 'drums': 1, 'bare': 1, 'feetstamping': 1, 'whine': 1, 'Hawaiian': 1, 'guitars': 1, 'lazylaughter': 1, 'followed': 1, 'meaning': 1, 'topass': 1, 'garden': 1, 'halfway': 1, 'theroom': 1, 'Thank': 1, 'previewing': 1, 'eBook': 2, 'version': 1, 'formats': 1, '\\uf0d8': 3, 'HTML': 1, 'Free': 2, '/Available': 1, ' ': 2, 'PDF': 2, 'TXT': 2, 'Available': 1, 'V.I.P.': 2, 'members': 3, 'Standard': 1, 'access': 1, '5': 1, 'eBooks': 1, 'month': 2, 'Epub': 1, 'Mobipocket': 1, 'Exclusive': 1, 'download': 1, 'select': 1, 'format': 1, 'desire': 1, '   ': 1}\n"
     ]
    }
   ],
   "source": [
    "print(word_frequencies)"
   ]
  },
  {
   "cell_type": "code",
   "execution_count": 14,
   "id": "9f66b455",
   "metadata": {},
   "outputs": [],
   "source": [
    "max_frequency = max(word_frequencies.values())"
   ]
  },
  {
   "cell_type": "code",
   "execution_count": 15,
   "id": "8577a177",
   "metadata": {},
   "outputs": [
    {
     "data": {
      "text/plain": [
       "44"
      ]
     },
     "execution_count": 15,
     "metadata": {},
     "output_type": "execute_result"
    }
   ],
   "source": [
    "max_frequency"
   ]
  },
  {
   "cell_type": "code",
   "execution_count": 16,
   "id": "b181adb5",
   "metadata": {},
   "outputs": [],
   "source": [
    "for word in word_frequencies.keys():\n",
    "    word_frequencies[word] = word_frequencies[word]/max_frequency"
   ]
  },
  {
   "cell_type": "code",
   "execution_count": 17,
   "id": "41e0100c",
   "metadata": {},
   "outputs": [
    {
     "name": "stdout",
     "output_type": "stream",
     "text": [
      "{'LoveBy': 0.022727272727272728, 'Elisabeth': 0.022727272727272728, 'Sanxay': 0.022727272727272728, 'HoldingTable': 0.022727272727272728, 'ContentsIIIIIIIVVVIVIIVIIIIXThat': 0.022727272727272728, 'LoveA': 0.022727272727272728, 'gay': 0.045454545454545456, 'world': 0.09090909090909091, 'summer': 0.045454545454545456, 'morning': 0.11363636363636363, 'sprinkler': 0.022727272727272728, 'lawnflung': 0.022727272727272728, 'rainbow': 0.022727272727272728, 'mist': 0.022727272727272728, 'air': 0.09090909090909091, 'left': 0.06818181818181818, 'tiny': 0.022727272727272728, 'diamondsshining': 0.022727272727272728, 'grass': 0.045454545454545456, 'blades': 0.022727272727272728, 'astir': 0.022727272727272728, '—': 0.6363636363636364, 'leavesrustling': 0.022727272727272728, 'trees': 0.022727272727272728, 'flowers': 0.022727272727272728, 'swaying': 0.022727272727272728, 'stalks': 0.022727272727272728, 'Curtains': 0.022727272727272728, 'fluttered': 0.022727272727272728, 'open': 0.022727272727272728, 'windows': 0.022727272727272728, 'cool': 0.022727272727272728, 'bright': 0.022727272727272728, 'house': 0.1590909090909091, 'voices': 0.022727272727272728, 'came': 0.1590909090909091, 'floating': 0.045454545454545456, 'light': 0.11363636363636363, 'butterflies': 0.022727272727272728, 'SerenaPage': 0.022727272727272728, 'arisen': 0.022727272727272728, 'sure': 0.06818181818181818, 'told': 0.045454545454545456, 'guests': 0.022727272727272728, 'night': 0.06818181818181818, 'thatjust': 0.022727272727272728, 'reason': 0.022727272727272728, 'elseshould': 0.022727272727272728, 'disturbed': 0.045454545454545456, 'outrageous': 0.022727272727272728, 'hour': 0.06818181818181818, 'half': 0.06818181818181818, 'past': 0.045454545454545456, 'eight;but': 0.022727272727272728, 'everybody': 0.022727272727272728, 'gettingup': 0.022727272727272728, 'confusion': 0.022727272727272728, 'Serena’sespecial': 0.022727272727272728, 'talent': 0.022727272727272728, 'create': 0.022727272727272728, 'exciting': 0.022727272727272728, 'sort': 0.09090909090909091, 'bustle': 0.022727272727272728, 'Serena': 0.6363636363636364, 'awoman': 0.022727272727272728, 'misnamed!She': 0.022727272727272728, 'stairs': 0.022727272727272728, 'filmy': 0.022727272727272728, 'black': 0.13636363636363635, 'negligee': 0.022727272727272728, 'outbehind': 0.022727272727272728, 'coming': 0.09090909090909091, 'abreeze': 0.022727272727272728, 'artificial': 0.022727272727272728, 'breeze': 0.022727272727272728, 'perfumed': 0.022727272727272728, 'enervating': 0.022727272727272728, 'bringing': 0.022727272727272728, 'health': 0.022727272727272728, 'color': 0.045454545454545456, 'thisearly': 0.022727272727272728, 'handsome': 0.022727272727272728, 'haggard': 0.045454545454545456, 'face': 0.22727272727272727, 'pale': 0.045454545454545456, 'eyeswere': 0.022727272727272728, 'heavy': 0.022727272727272728, 'entered': 0.022727272727272728, 'breakfast': 0.09090909090909091, 'room': 0.1590909090909091, 'Moriartygirl': 0.022727272727272728, 'standing': 0.045454545454545456, 'window': 0.045454545454545456, '“Good': 0.022727272727272728, 'Mrs.': 0.18181818181818182, 'Page': 0.18181818181818182, '”': 1.0, 'said': 0.5454545454545454, 'enigmatic': 0.022727272727272728, 'smileof': 0.022727272727272728, 'smiled': 0.06818181818181818, 'faintly': 0.022727272727272728, 'Geraldine': 0.4772727272727273, 'Moriarty': 0.25, 'wasbeginning': 0.022727272727272728, 'nerves': 0.045454545454545456, 'badly': 0.022727272727272728, 'longingfor': 0.022727272727272728, 'excuse': 0.045454545454545456, 'fly': 0.022727272727272728, 'rage': 0.022727272727272728, 'girl': 0.1590909090909091, 'onlyway': 0.022727272727272728, 'rid': 0.045454545454545456, 'people': 0.09090909090909091, 'incold': 0.022727272727272728, 'blood': 0.022727272727272728, 'taken': 0.022727272727272728, 'outburst': 0.045454545454545456, 'ofgenerosity': 0.022727272727272728, 'angerbefore': 0.022727272727272728, 'send': 0.022727272727272728, 'away': 0.11363636363636363, '“Had': 0.022727272727272728, 'inquired': 0.022727272727272728, '“No': 0.022727272727272728, 'waiting': 0.022727272727272728, '”Serena': 0.022727272727272728, 'took': 0.09090909090909091, 'place': 0.022727272727272728, 'table': 0.09090909090909091, 'Japanese': 0.022727272727272728, 'butlercame': 0.022727272727272728, 'forward': 0.045454545454545456, 'serve': 0.022727272727272728, 'know': 0.13636363636363635, 'Shewas': 0.06818181818181818, 'seen': 0.11363636363636363, 'got': 0.11363636363636363, 'herservants': 0.022727272727272728, 'agency': 0.022727272727272728, 'city': 0.022727272727272728, 'demand': 0.022727272727272728, 'wouldsend': 0.022727272727272728, '“': 0.6818181818181818, 'crew': 0.022727272727272728, 'commanded': 0.022727272727272728, 'butler': 0.11363636363636363, 'Sometimesthings': 0.022727272727272728, 'went': 0.20454545454545456, 'wrong': 0.022727272727272728, 'lot': 0.022727272727272728, 'anothercrew': 0.022727272727272728, 'promptly': 0.022727272727272728, 'household': 0.022727272727272728, 'suffered': 0.045454545454545456, 'verylittle': 0.022727272727272728, 'change': 0.06818181818181818, 'art': 0.022727272727272728, 'making': 0.022727272727272728, 'home': 0.06818181818181818, 'asimpersonal': 0.022727272727272728, 'hotel': 0.022727272727272728, 'notice': 0.022727272727272728, 'smiledupon': 0.022727272727272728, 'charmingly': 0.022727272727272728, 'deferential': 0.022727272727272728, 'pleased': 0.045454545454545456, 'appreciate': 0.022727272727272728, 'solemnity': 0.022727272727272728, 'occasion': 0.045454545454545456, 'important': 0.022727272727272728, 'beginning': 0.022727272727272728, 'ofSerena': 0.022727272727272728, 'diet': 0.06818181818181818, 'elegant': 0.022727272727272728, 'luxurious': 0.022727272727272728, 'creature': 0.06818181818181818, 'thebutler': 0.022727272727272728, 'set': 0.045454545454545456, 'grapefruit': 0.022727272727272728, 'slices': 0.022727272727272728, 'Graham': 0.022727272727272728, 'bread': 0.045454545454545456, 'toastwithout': 0.022727272727272728, 'butter': 0.022727272727272728, 'cup': 0.045454545454545456, 'coffee': 0.045454545454545456, 'shuddered': 0.022727272727272728, 'little': 0.18181818181818182, 'closed': 0.022727272727272728, 'eyes': 0.11363636363636363, 'henceforth': 0.022727272727272728, 'aset': 0.022727272727272728, 'exercises': 0.022727272727272728, 'cold': 0.045454545454545456, 'shower': 0.022727272727272728, 'come': 0.18181818181818182, 'downstairs': 0.022727272727272728, 'tothis': 0.022727272727272728, 'able': 0.022727272727272728, 'stand': 0.022727272727272728, 'whopleased': 0.022727272727272728, 'best': 0.022727272727272728, 'absolutely': 0.045454545454545456, 'need': 0.06818181818181818, 'reducingdiet': 0.022727272727272728, 'ill': 0.022727272727272728, 'showed': 0.022727272727272728, 'interest': 0.06818181818181818, 'Serenaobserved': 0.022727272727272728, 'slice': 0.045454545454545456, 'grilled': 0.022727272727272728, 'Virginia': 0.022727272727272728, 'ham': 0.045454545454545456, 'onher': 0.022727272727272728, 'plate': 0.045454545454545456, '“How': 0.045454545454545456, 'Connie': 0.045454545454545456, 'called': 0.06818181818181818, 'sweet': 0.09090909090909091, 'child': 0.09090909090909091, 'shethought': 0.045454545454545456, 'hard': 0.045454545454545456, 'nails!”Some': 0.022727272727272728, 'weeks': 0.022727272727272728, 'ago': 0.06818181818181818, 'Blanchard': 0.022727272727272728, 'witha': 0.022727272727272728, 'piteous': 0.022727272727272728, 'tale': 0.045454545454545456, '“Her': 0.022727272727272728, 'mother': 0.045454545454545456, 'school': 0.022727272727272728, 'Paris': 0.022727272727272728, 'hadsaid': 0.022727272727272728, 'awful': 0.045454545454545456, 'happened': 0.022727272727272728, 'father': 0.045454545454545456, 'bankrupt': 0.022727272727272728, 'orlost': 0.022727272727272728, 'mind': 0.09090909090909091, 'remember': 0.06818181818181818, 'andGeraldine': 0.022727272727272728, 'simply': 0.13636363636363635, 'penny': 0.045454545454545456, 'Fine': 0.022727272727272728, 'old': 0.022727272727272728, 'Irish': 0.022727272727272728, 'family': 0.022727272727272728, 'youknow': 0.045454545454545456, 'awfully': 0.045454545454545456, 'educated': 0.022727272727272728, 'love': 0.045454545454545456, 'help': 0.022727272727272728, 'butyou': 0.022727272727272728, 'dear': 0.09090909090909091, 'living': 0.045454545454545456, 'hotels': 0.022727272727272728, 'strong': 0.045454545454545456, 'poor': 0.045454545454545456, 'Serena!”Who': 0.022727272727272728, 'engaged': 0.022727272727272728, 'MissMoriarty': 0.022727272727272728, 'secretary': 0.06818181818181818, 'companion': 0.06818181818181818, 'getting': 0.045454545454545456, 'anice': 0.022727272727272728, 'salary': 0.045454545454545456, 'practically': 0.022727272727272728, 'work': 0.045454545454545456, 'Thesecretarial': 0.022727272727272728, 'duties': 0.022727272727272728, 'nonexistent': 0.022727272727272728, 'veryseldom': 0.022727272727272728, 'wrote': 0.022727272727272728, 'answered': 0.045454545454545456, 'letter': 0.022727272727272728, 'friendscarried': 0.022727272727272728, 'social': 0.022727272727272728, 'activities': 0.022727272727272728, 'telephone': 0.09090909090909091, 'liked': 0.045454545454545456, 'todo': 0.022727272727272728, 'talking': 0.045454545454545456, 'absurd': 0.022727272727272728, 'alwayssurrounded': 0.022727272727272728, 'companions': 0.045454545454545456, 'mighty': 0.022727272727272728, 'obliging': 0.022727272727272728, 'ones': 0.022727272727272728, 'penniless': 0.045454545454545456, 'cousins': 0.022727272727272728, 'ambitious': 0.022727272727272728, 'ambiguous': 0.022727272727272728, 'ladies': 0.022727272727272728, 'sorts': 0.022727272727272728, 'ofeager': 0.022727272727272728, 'pliant': 0.022727272727272728, 'creatures': 0.022727272727272728, 'court': 0.045454545454545456, 'whereSerena': 0.022727272727272728, 'ruled': 0.022727272727272728, 'magnificently': 0.022727272727272728, 'dowas': 0.022727272727272728, 'look': 0.06818181818181818, 'course': 0.09090909090909091, 'admire': 0.045454545454545456, 'thissimple': 0.022727272727272728, 'task': 0.022727272727272728, 'utterly': 0.06818181818181818, 'failed': 0.045454545454545456, 'anybody': 0.022727272727272728, 'evenherself': 0.022727272727272728, 'ironically': 0.022727272727272728, 'indifferent': 0.045454545454545456, 'dark': 0.11363636363636363, 'beauty': 0.045454545454545456, 'decent': 0.022727272727272728, 'clothes': 0.022727272727272728, 'offered': 0.022727272727272728, 'hersome': 0.022727272727272728, 'good': 0.09090909090909091, 'things': 0.09090909090909091, 'tired': 0.022727272727272728, 'hadrefused': 0.022727272727272728, 'politely': 0.022727272727272728, 'polite': 0.022727272727272728, 'alwayscareful': 0.022727272727272728, '“But': 0.045454545454545456, 'thought': 0.1590909090909091, 'quiteenough': 0.022727272727272728, 'you!”She': 0.022727272727272728, 'glanced': 0.022727272727272728, 'silent': 0.045454545454545456, '“Hopeless': 0.022727272727272728, 'reflected': 0.022727272727272728, 'Simply': 0.022727272727272728, 'hopeless': 0.022727272727272728, 'she’sgood': 0.022727272727272728, 'looking': 0.045454545454545456, 'way': 0.09090909090909091, 'charm': 0.022727272727272728, 'andno': 0.022727272727272728, 'figure': 0.022727272727272728, '”Miss': 0.022727272727272728, 'eating': 0.022727272727272728, 'excellent': 0.045454545454545456, 'appetite': 0.022727272727272728, 'talkative': 0.022727272727272728, 'quiet': 0.06818181818181818, 'whichSerena': 0.022727272727272728, 'find': 0.06818181818181818, 'restful': 0.022727272727272728, 'soothing': 0.022727272727272728, 'tall': 0.06818181818181818, 'thinand': 0.022727272727272728, 'supple': 0.022727272727272728, 'careless': 0.045454545454545456, 'grace': 0.022727272727272728, 'movement': 0.022727272727272728, 'facehad': 0.022727272727272728, 'gypsy': 0.022727272727272728, 'darkness': 0.022727272727272728, 'high': 0.045454545454545456, 'cheek': 0.022727272727272728, 'bones': 0.022727272727272728, 'features': 0.045454545454545456, 'delicateand': 0.022727272727272728, 'bold': 0.022727272727272728, 'scornful': 0.022727272727272728, 'dressed': 0.022727272727272728, 'skirt': 0.022727272727272728, 'jersey': 0.022727272727272728, 'plain': 0.022727272727272728, 'whiteblouse': 0.022727272727272728, 'costume': 0.022727272727272728, 'lanky': 0.022727272727272728, 'thedieting': 0.022727272727272728, 'caring': 0.022727272727272728, '“For': 0.022727272727272728, 'Heaven': 0.06818181818181818, 'sake': 0.022727272727272728, 'talk': 0.06818181818181818, 'cried': 0.09090909090909091, 'overcomeby': 0.022727272727272728, 'exasperation': 0.022727272727272728, 'edge': 0.022727272727272728, 'makes': 0.022727272727272728, 'mehorribly': 0.022727272727272728, 'nervous': 0.022727272727272728, 'sitting': 0.045454545454545456, 'like': 0.11363636363636363, 'gravenimage!”“I’ll': 0.022727272727272728, 'try': 0.045454545454545456, 'Miss': 0.09090909090909091, 'obligingly': 0.022727272727272728, 'thedelphiniums?”“Never': 0.022727272727272728, 'heard': 0.045454545454545456, 'Oh': 0.045454545454545456, 'answer': 0.022727272727272728, 'thatfor': 0.022727272727272728, 'dear!”For': 0.022727272727272728, 'generman”wanted': 0.022727272727272728, 'speak': 0.09090909090909091, 'inevitably': 0.022727272727272728, 'Therewere': 0.022727272727272728, 'telephones': 0.022727272727272728, 'order': 0.022727272727272728, 'tospeak': 0.022727272727272728, 'friend': 0.022727272727272728, 'miles': 0.022727272727272728, 'nothave': 0.022727272727272728, 'fatigue': 0.022727272727272728, 'walking': 0.022727272727272728, 'feet': 0.09090909090909091, 'Geraldinetook': 0.022727272727272728, 'receiver': 0.022727272727272728, '“This': 0.045454545454545456, 'themessage': 0.022727272727272728, 'please?”“Tell': 0.022727272727272728, 'Sambo': 0.22727272727272727, 'curt': 0.022727272727272728, 'clear': 0.045454545454545456, 'masculinevoice': 0.022727272727272728, '“It': 0.045454545454545456, 'repeated': 0.022727272727272728, 'turning': 0.045454545454545456, 'surprised': 0.022727272727272728, 'petulant': 0.022727272727272728, 'Forgotten': 0.022727272727272728, 'cruel': 0.045454545454545456, 'sprang': 0.045454545454545456, 'ran': 0.022727272727272728, 'evenher': 0.022727272727272728, 'voice': 0.06818181818181818, 'changed': 0.045454545454545456, '“Sambo': 0.022727272727272728, 'Yes': 0.022727272727272728, 'didn’tyou': 0.022727272727272728, 'write': 0.022727272727272728, 'reproaching': 0.022727272727272728, 'silly': 0.022727272727272728, 'boy!Only': 0.022727272727272728, 'think': 0.045454545454545456, 'time': 0.09090909090909091, 'line': 0.022727272727272728, 'day': 0.09090909090909091, 'idea': 0.022727272727272728, 'Surelysome': 0.022727272727272728, 'right': 0.045454545454545456, 'big': 0.022727272727272728, 'boy!”She': 0.022727272727272728, 'sank': 0.022727272727272728, 'chair': 0.09090909090909091, 'laughing': 0.045454545454545456, '“I’ll': 0.022727272727272728, 'creamfor': 0.022727272727272728, 'Quick': 0.022727272727272728, 'starving': 0.022727272727272728, 'looked': 0.06818181818181818, 'atGeraldine': 0.022727272727272728, 'Sammy': 0.022727272727272728, 'Randall': 0.09090909090909091, 'announced': 0.022727272727272728, 'nice': 0.022727272727272728, 'missed': 0.022727272727272728, 'irony': 0.022727272727272728, 'words': 0.06818181818181818, 'Mrs': 0.022727272727272728, 'Anson': 0.13636363636363635, 'appeared': 0.022727272727272728, 'doorway': 0.045454545454545456, 'her:“Betty': 0.022727272727272728, 'day!”“My': 0.022727272727272728, 'marvelous': 0.022727272727272728, 'Betty': 0.045454545454545456, 'withfervor': 0.022727272727272728, 'expected': 0.045454545454545456, 'fervor': 0.022727272727272728, 'granted': 0.022727272727272728, 'herfriends': 0.022727272727272728, 'rejoice': 0.022727272727272728, 'thequeen': 0.022727272727272728, 'happy': 0.045454545454545456, 'reaping': 0.022727272727272728, 'thebenefits': 0.022727272727272728, 'humor': 0.022727272727272728, 'whispered': 0.045454545454545456, '“She': 0.022727272727272728, 'worse': 0.022727272727272728, 'usual': 0.06818181818181818, 'thematter': 0.022727272727272728, 'ungrateful!”“Thosepeoplearealwaysenvious,”saidMrs': 0.022727272727272728, '“Governesses': 0.022727272727272728, 'they’re': 0.022727272727272728, 'exactly': 0.022727272727272728, 'servants': 0.045454545454545456, 'ofeverything': 0.022727272727272728, '”“I': 0.045454545454545456, 'wish': 0.045454545454545456, 'stay': 0.022727272727272728, 'altogether': 0.022727272727272728, 'wished': 0.045454545454545456, 'thing': 0.09090909090909091, 'stepped': 0.022727272727272728, 'outthrough': 0.022727272727272728, 'long': 0.11363636363636363, 'lawn': 0.045454545454545456, 'foot': 0.045454545454545456, 'hated': 0.06818181818181818, 'life': 0.06818181818181818, 'times': 0.022727272727272728, 'camedangerously': 0.022727272727272728, 'close': 0.045454545454545456, 'hating': 0.022727272727272728, 'conclusion': 0.022727272727272728, 'asnails': 0.022727272727272728, 'exaggeration': 0.022727272727272728, 'grain': 0.022727272727272728, 'truth': 0.022727272727272728, 'Shehad': 0.022727272727272728, 'nineteen': 0.022727272727272728, 'years': 0.045454545454545456, 'character': 0.022727272727272728, 'remarkably': 0.022727272727272728, 'definiteand': 0.022727272727272728, 'independent': 0.022727272727272728, 'fortitude': 0.022727272727272728, 'courage': 0.022727272727272728, 'pride': 0.022727272727272728, 'ofLucifer': 0.022727272727272728, 'solitary': 0.022727272727272728, 'young': 0.09090909090909091, 'direct': 0.022727272727272728, 'cloistered': 0.022727272727272728, 'led': 0.022727272727272728, 'herinvalid': 0.022727272727272728, 'instant': 0.045454545454545456, 'dazzled': 0.022727272727272728, 'orswayed': 0.022727272727272728, 'luxury': 0.022727272727272728, 'feverish': 0.022727272727272728, 'gayety': 0.022727272727272728, 'Shestayed': 0.022727272727272728, 'knew': 0.09090909090909091, 'earn': 0.045454545454545456, 'butall': 0.022727272727272728, 'savings': 0.022727272727272728, 'bank': 0.022727272727272728, 'toucha': 0.022727272727272728, 'meant': 0.06818181818181818, 'learn': 0.022727272727272728, 'typing': 0.022727272727272728, 'shorthand': 0.022727272727272728, 'office': 0.022727272727272728, 'existence': 0.022727272727272728, 'lived': 0.022727272727272728, 'exile': 0.022727272727272728, 'alien': 0.022727272727272728, 'lonely': 0.022727272727272728, 'thesepeople': 0.022727272727272728, 'comprehended': 0.022727272727272728, 'pitied': 0.022727272727272728, 'Herpeople': 0.022727272727272728, 'gentlefolk': 0.022727272727272728, 'brought': 0.022727272727272728, 'atradition': 0.022727272727272728, 'dignity': 0.022727272727272728, 'honor': 0.045454545454545456, 'reserve': 0.022727272727272728, 'clung': 0.022727272727272728, 'thattradition': 0.022727272727272728, 'strength': 0.022727272727272728, 'loyal': 0.022727272727272728, 'heart': 0.022727272727272728, 'herpeople': 0.022727272727272728, 'ways': 0.045454545454545456, 'manners': 0.022727272727272728, 'speech': 0.022727272727272728, 'tastes': 0.022727272727272728, 'formed': 0.022727272727272728, 'standardsby': 0.022727272727272728, 'judged': 0.045454545454545456, 'Serenaand': 0.022727272727272728, 'friends': 0.06818181818181818, 'damned': 0.045454545454545456, 'saw': 0.09090909090909091, 'themat': 0.022727272727272728, 'base': 0.022727272727272728, 'heartless': 0.022727272727272728, 'vulgar': 0.022727272727272728, 'walked': 0.022727272727272728, 'sea': 0.022727272727272728, 'wall': 0.022727272727272728, 'thegarden': 0.022727272727272728, 'jumped': 0.022727272727272728, 'beach': 0.022727272727272728, 'Shewanted': 0.022727272727272728, 'fresh': 0.045454545454545456, 'summermorning': 0.022727272727272728, 'sun': 0.045454545454545456, 'salt': 0.022727272727272728, 'wind': 0.022727272727272728, 'forget': 0.06818181818181818, 'themonstrous': 0.022727272727272728, 'Inanger': 0.022727272727272728, 'contempt': 0.045454545454545456, 'obliged': 0.022727272727272728, 'faceat': 0.022727272727272728, 'mention': 0.022727272727272728, 'man': 0.06818181818181818, 'Evidently': 0.022727272727272728, 'loved': 0.022727272727272728, 'mountebank': 0.022727272727272728, 'charming': 0.06818181818181818, 'idyl': 0.022727272727272728, 'love”of': 0.022727272727272728, 'woman': 0.022727272727272728, 'divorced': 0.022727272727272728, 'husband': 0.022727272727272728, 'wasliving': 0.022727272727272728, 'constant': 0.022727272727272728, 'bickering': 0.022727272727272728, 'second': 0.022727272727272728, 'fact': 0.022727272727272728, 'beingmarried': 0.022727272727272728, 'issue': 0.022727272727272728, 'Faith': 0.022727272727272728, 'nomeaning': 0.022727272727272728, 'theycalled': 0.022727272727272728, 'love”!IIThe': 0.022727272727272728, 'drawing': 0.022727272727272728, 'shadows': 0.022727272727272728, 'thetrees': 0.022727272727272728, 'sinking': 0.022727272727272728, 'asky': 0.022727272727272728, 'wistful': 0.022727272727272728, 'delicate': 0.022727272727272728, 'faint': 0.045454545454545456, 'rose': 0.045454545454545456, 'yellow': 0.022727272727272728, 'blessed': 0.022727272727272728, 'andher': 0.022727272727272728, 'certainly': 0.022727272727272728, 'intended': 0.022727272727272728, 'tea': 0.09090909090909091, 'theyhad': 0.022727272727272728, 'Obstacles': 0.022727272727272728, 'intervened': 0.022727272727272728, 'equipped': 0.022727272727272728, 'fordealing': 0.022727272727272728, 'obstacles': 0.022727272727272728, 'stop': 0.022727272727272728, 'bar': 0.022727272727272728, 'aroad': 0.022727272727272728, 'turn': 0.022727272727272728, 'new': 0.045454545454545456, 'destination': 0.022727272727272728, 'notcome': 0.022727272727272728, 'having': 0.022727272727272728, 'thelibrary': 0.022727272727272728, 'reading': 0.06818181818181818, 'book': 0.11363636363636363, 'sipped': 0.022727272727272728, 'straight': 0.022727272727272728, 'ahigh': 0.022727272727272728, 'backed': 0.022727272727272728, 'sunset': 0.022727272727272728, 'later': 0.022727272727272728, 'aMadonna': 0.022727272727272728, 'women': 0.022727272727272728, 'whocould': 0.022727272727272728, 'stood': 0.022727272727272728, 'staring': 0.045454545454545456, 'quitea': 0.022727272727272728, 'afterward': 0.045454545454545456, 'forgot': 0.022727272727272728, 'shelooked': 0.022727272727272728, 'lovely': 0.045454545454545456, 'aloof': 0.022727272727272728, 'moment': 0.06818181818181818, 'afraid': 0.022727272727272728, 'disturb': 0.022727272727272728, 'fear': 0.022727272727272728, 'disturbing': 0.022727272727272728, 'persons': 0.022727272727272728, 'greatlyinfluenced': 0.022727272727272728, 'Samuel': 0.022727272727272728, 'conqueror': 0.022727272727272728, 'nonchalant': 0.022727272727272728, 'superb': 0.022727272727272728, 'himin': 0.022727272727272728, 'Slender': 0.022727272727272728, 'slight': 0.022727272727272728, 'fine': 0.022727272727272728, 'hismournful': 0.022727272727272728, 'poetic': 0.045454545454545456, 'touching': 0.045454545454545456, 'abouthim': 0.022727272727272728, 'belied': 0.022727272727272728, 'greedy': 0.022727272727272728, 'andwillful': 0.022727272727272728, 'reckless': 0.022727272727272728, 'wanted': 0.06818181818181818, 'image': 0.022727272727272728, 'gentle': 0.022727272727272728, 'hint': 0.022727272727272728, 'asked': 0.045454545454545456, '“I': 0.045454545454545456, 'mean': 0.022727272727272728, 'wanted?”And': 0.022727272727272728, 'arrogant': 0.022727272727272728, 'smile': 0.022727272727272728, 'sowell': 0.022727272727272728, '“Mrs': 0.022727272727272728, 'nosmile': 0.022727272727272728, 'delayed': 0.022727272727272728, '”“Then': 0.022727272727272728, 'wo': 0.022727272727272728, '”She': 0.022727272727272728, 'yes': 0.022727272727272728, 'cordially': 0.022727272727272728, 'rang': 0.022727272727272728, 'bell': 0.022727272727272728, 'sat': 0.06818181818181818, 'opposite': 0.022727272727272728, 'slouching': 0.022727272727272728, 'handsomehead': 0.022727272727272728, 'thrown': 0.022727272727272728, 'watching': 0.022727272727272728, '“I’m': 0.022727272727272728, 'explained': 0.022727272727272728, 'formality': 0.022727272727272728, '“Lucky': 0.022727272727272728, 'lucky': 0.022727272727272728, 'cheeks': 0.022727272727272728, 'resented': 0.022727272727272728, 'attitude': 0.022727272727272728, 'hiseasy': 0.022727272727272728, 'manner': 0.022727272727272728, 'appraising': 0.022727272727272728, 'glance': 0.022727272727272728, 'readthe': 0.022727272727272728, 'resentment': 0.022727272727272728, '“Prudish': 0.022727272727272728, 'annoy': 0.022727272727272728, 'unsmiling': 0.022727272727272728, 'girljust': 0.022727272727272728, 'novelty': 0.022727272727272728, 'tochange': 0.022727272727272728, 'tactics': 0.022727272727272728, '“You': 0.045454545454545456, 'respectfully': 0.022727272727272728, 'hope': 0.022727272727272728, 'Ididn’t': 0.022727272727272728, 'interrupt': 0.022727272727272728, '”“No': 0.022727272727272728, 'Mr.': 0.022727272727272728, 'suddenly': 0.022727272727272728, 'undisciplined': 0.022727272727272728, 'soul': 0.06818181818181818, 'filled': 0.045454545454545456, 'ofenvy': 0.022727272727272728, 'untroubled': 0.022727272727272728, 'superior': 0.022727272727272728, 'read': 0.11363636363636363, 'books': 0.022727272727272728, 'toolate': 0.022727272727272728, 'late': 0.022727272727272728, 'saidGeraldine': 0.022727272727272728, 'trace': 0.022727272727272728, 'scorn': 0.022727272727272728, 'straightened': 0.022727272727272728, 'longer': 0.06818181818181818, 'ather': 0.022727272727272728, 'unlighted': 0.022727272727272728, 'cigarette': 0.022727272727272728, 'rolling': 0.022727272727272728, 'betweenhis': 0.022727272727272728, 'fingers': 0.022727272727272728, '“The': 0.022727272727272728, 'spoiled': 0.022727272727272728, 'People': 0.022727272727272728, 'listen': 0.022727272727272728, 'nonsense': 0.022727272727272728, 'spout': 0.022727272727272728, 'oflistening': 0.022727272727272728, 'that’sworth': 0.022727272727272728, 'feel': 0.022727272727272728, 'writer': 0.022727272727272728, 'fellow': 0.045454545454545456, 'acorner': 0.022727272727272728, 'trying': 0.06818181818181818, 'lay': 0.022727272727272728, 'law': 0.022727272727272728, 'want': 0.022727272727272728, 'tocontradict': 0.022727272727272728, 'chuck': 0.022727272727272728, 'blamed': 0.022727272727272728, '”He': 0.022727272727272728, 'spoke': 0.022727272727272728, 'earnestly': 0.022727272727272728, 'earnest': 0.022727272727272728, 'greatcharm': 0.022727272727272728, 'sincere': 0.022727272727272728, 'inventing': 0.022727272727272728, 'thingsto': 0.022727272727272728, 'selecting': 0.022727272727272728, 'restless': 0.022727272727272728, 'curious': 0.022727272727272728, 'succeeding': 0.022727272727272728, 'reserved': 0.022727272727272728, 'proudspirit': 0.022727272727272728, 'impossible': 0.022727272727272728, 'easily': 0.022727272727272728, 'stranger': 0.022727272727272728, 'odd': 0.022727272727272728, 'sensation': 0.022727272727272728, 'distress': 0.022727272727272728, 'Shefelt': 0.022727272727272728, 'sorry': 0.022727272727272728, 'conquering': 0.022727272727272728, 'picked': 0.022727272727272728, 'pages': 0.022727272727272728, 'acopy': 0.022727272727272728, 'Hound': 0.022727272727272728, 'given': 0.022727272727272728, 'herlong': 0.022727272727272728, '“Poetry': 0.022727272727272728, 'Queer': 0.022727272727272728, 'stuff!”Then': 0.022727272727272728, 'aloud:“I': 0.022727272727272728, 'fled': 0.06818181818181818, 'nights': 0.022727272727272728, 'days;I': 0.022727272727272728, 'arches': 0.022727272727272728, 'years;I': 0.022727272727272728, 'labyrinthine': 0.022727272727272728, 'waysOf': 0.022727272727272728, 'mind—”He': 0.022727272727272728, 'stopped': 0.045454545454545456, 'wasfading': 0.022727272727272728, 'sky': 0.022727272727272728, 'dusk': 0.045454545454545456, 'whiteand': 0.022727272727272728, 'strained': 0.022727272727272728, 'echo': 0.022727272727272728, 'todrift': 0.022727272727272728, 'shadowy': 0.022727272727272728, 'Looking': 0.022727272727272728, 'extraordinary': 0.022727272727272728, 'fancy': 0.022727272727272728, 'avision': 0.022727272727272728, 'terribly': 0.022727272727272728, 'defiant': 0.022727272727272728, 'fleeing': 0.022727272727272728, 'swift': 0.022727272727272728, 'toits': 0.022727272727272728, 'destruction': 0.022727272727272728, 'austere': 0.022727272727272728, 'compassionand': 0.022727272727272728, 'wonder': 0.022727272727272728, 'wordspoken': 0.022727272727272728, 'wasted': 0.022727272727272728, '“Sometimes': 0.022727272727272728, 'prey': 0.022727272727272728, 'gets': 0.022727272727272728, 'Him!”“No': 0.022727272727272728, 'steadily': 0.022727272727272728, 'never!”He': 0.022727272727272728, 'struck': 0.022727272727272728, 'match': 0.06818181818181818, 'flame': 0.022727272727272728, 'vivid': 0.022727272727272728, 'inthe': 0.022727272727272728, 'gray': 0.045454545454545456, 'glimpse': 0.022727272727272728, 'halfclosed': 0.022727272727272728, 'proud': 0.045454545454545456, 'sorrowful': 0.022727272727272728, 'sightforever': 0.022727272727272728, 'puppet': 0.022727272727272728, 'shameful': 0.022727272727272728, 'drama': 0.022727272727272728, 'butas': 0.022727272727272728, 'lost!”The': 0.022727272727272728, 'tell': 0.022727272727272728, 'couldnot': 0.022727272727272728, 'incredible': 0.022727272727272728, 'toher': 0.045454545454545456, 'spoken': 0.022727272727272728, 'atthat': 0.022727272727272728, 'IIIIn': 0.022727272727272728, 'generous': 0.022727272727272728, 'enthusiasm': 0.022727272727272728, 'declared': 0.022727272727272728, 'the“sweet': 0.022727272727272728, 'dine': 0.022727272727272728, 'matter': 0.022727272727272728, 'plausiblereason': 0.022727272727272728, 'altering': 0.022727272727272728, 'arrangement': 0.022727272727272728, 'grown': 0.022727272727272728, 'soirksome': 0.022727272727272728, 'evening': 0.022727272727272728, 'upstairs': 0.022727272727272728, 'puton': 0.022727272727272728, 'dinner': 0.06818181818181818, 'dress': 0.045454545454545456, 'reluctant': 0.022727272727272728, 'disdainful': 0.045454545454545456, 'feltthat': 0.022727272727272728, 'cometo': 0.022727272727272728, 'different': 0.045454545454545456, 'rememberedhis': 0.022727272727272728, 'flare': 0.022727272727272728, 'andremembered': 0.022727272727272728, 'sound': 0.022727272727272728, 'lost': 0.045454545454545456, 'wasbecause': 0.022727272727272728, 'misguided': 0.022727272727272728, 'victim': 0.022727272727272728, 'noticed': 0.022727272727272728, 'forthey': 0.022727272727272728, 'eveninggown': 0.022727272727272728, 'andlovely': 0.022727272727272728, 'profoundly': 0.022727272727272728, 'interesting': 0.022727272727272728, 'slenderhands': 0.022727272727272728, 'beautiful': 0.022727272727272728, 'sweep': 0.022727272727272728, 'shining': 0.022727272727272728, 'blackhair': 0.022727272727272728, 'temples': 0.022727272727272728, 'arch': 0.022727272727272728, 'herbrows': 0.022727272727272728, 'heryouth': 0.022727272727272728, 'measure': 0.022727272727272728, 'prudently': 0.022727272727272728, 'kept': 0.022727272727272728, 'behaved': 0.022727272727272728, 'behave': 0.022727272727272728, 'waspostponed': 0.022727272727272728, 'therewas': 0.022727272727272728, 'justified': 0.022727272727272728, 'blind': 0.022727272727272728, 'faith': 0.022727272727272728, 'inhim': 0.022727272727272728, 'stockedcellar': 0.022727272727272728, 'selected': 0.022727272727272728, 'proper': 0.022727272727272728, 'wines': 0.022727272727272728, 'cared': 0.045454545454545456, 'forthese': 0.022727272727272728, 'preferred': 0.022727272727272728, 'whisky': 0.045454545454545456, 'meal': 0.022727272727272728, 'theydrank': 0.022727272727272728, 'smoked': 0.045454545454545456, 'cigarettes': 0.022727272727272728, 'inkeeping': 0.022727272727272728, 'business': 0.022727272727272728, 'theworld': 0.022727272727272728, '”But': 0.022727272727272728, 'indifference': 0.022727272727272728, 'beenher': 0.022727272727272728, 'armor': 0.022727272727272728, 'troubled': 0.022727272727272728, 'veryunhappy': 0.022727272727272728, 'mere': 0.022727272727272728, 'puppets': 0.022727272727272728, 'alive': 0.022727272727272728, 'pitiful': 0.022727272727272728, 'horrible': 0.022727272727272728, 'Jinky': 0.045454545454545456, 'gaunt': 0.022727272727272728, 'ofwasted': 0.022727272727272728, 'year': 0.022727272727272728, 'eloped': 0.022727272727272728, 'avery': 0.022727272727272728, 'millionaire': 0.022727272727272728, 'age': 0.022727272727272728, 'parentshad': 0.022727272727272728, 'marriage': 0.022727272727272728, 'annulled': 0.045454545454545456, 'wiped': 0.022727272727272728, 'thatJinky': 0.045454545454545456, 'wedding': 0.022727272727272728, 'trip': 0.022727272727272728, 'discredited': 0.022727272727272728, 'andshamed': 0.022727272727272728, 'care': 0.045454545454545456, 'Sheseemed': 0.022727272727272728, 'hilariously': 0.022727272727272728, 'amused': 0.022727272727272728, 'conversation': 0.022727272727272728, 'ofLevering': 0.022727272727272728, 'felt': 0.022727272727272728, 'wound': 0.022727272727272728, 'scar': 0.022727272727272728, 'Levering': 0.022727272727272728, 'supercilious': 0.022727272727272728, 'bredface': 0.022727272727272728, 'married': 0.022727272727272728, 'money': 0.045454545454545456, 'notorious': 0.022727272727272728, 'joke': 0.022727272727272728, 'circle': 0.022727272727272728, 'middle': 0.022727272727272728, 'aged': 0.022727272727272728, 'wifebegrudgedhimeverypenny': 0.022727272727272728, 'Hesufferedhisignoblehumiliation': 0.022727272727272728, 'wife': 0.022727272727272728, 'jealousand': 0.022727272727272728, 'bitter': 0.022727272727272728, 'infatuation': 0.022727272727272728, 'chic': 0.022727272727272728, 'lively': 0.022727272727272728, 'eternalscheming': 0.022727272727272728, 'invitations': 0.022727272727272728, 'benefits': 0.022727272727272728, 'herhusband': 0.022727272727272728, 'haired': 0.022727272727272728, 'distinguished': 0.022727272727272728, 'appearance': 0.022727272727272728, 'slave': 0.022727272727272728, 'ambition': 0.022727272727272728, 'weakness': 0.022727272727272728, 'magnificent': 0.022727272727272728, 'diamonds': 0.022727272727272728, 'toSambo': 0.022727272727272728, 'theman': 0.022727272727272728, 'listened': 0.022727272727272728, 'Serenacarelessly': 0.022727272727272728, 'anxious': 0.022727272727272728, 'andfrowning': 0.022727272727272728, 'incessantly': 0.022727272727272728, 'ashes': 0.022727272727272728, 'hiscigarettes': 0.022727272727272728, 'fell': 0.022727272727272728, 'glass': 0.022727272727272728, 'swallowedthem': 0.022727272727272728, 'barren': 0.022727272727272728, 'ash': 0.022727272727272728, 'andwhat': 0.022727272727272728, 'giving': 0.022727272727272728, 'food': 0.022727272727272728, '“Now': 0.022727272727272728, 'jumping': 0.022727272727272728, 'Bridge': 0.022727272727272728, 'dancing': 0.045454545454545456, 'orwhat?”Geraldine': 0.022727272727272728, 'risen': 0.022727272727272728, 'fancied': 0.022727272727272728, 'Mr': 0.022727272727272728, 'mutter:“The': 0.022727272727272728, 'deluge!”He': 0.022727272727272728, 'unsteady': 0.022727272727272728, 'weary': 0.022727272727272728, 'curiousgray': 0.022727272727272728, 'toplay': 0.022727272727272728, '“Oh': 0.022727272727272728, 'thedrawing': 0.022727272727272728, 'started': 0.022727272727272728, 'phonographplaying': 0.022727272727272728, 'music': 0.022727272727272728, 'began': 0.022727272727272728, 'thud': 0.022727272727272728, 'drums': 0.022727272727272728, 'bare': 0.022727272727272728, 'feetstamping': 0.022727272727272728, 'whine': 0.022727272727272728, 'Hawaiian': 0.022727272727272728, 'guitars': 0.022727272727272728, 'lazylaughter': 0.022727272727272728, 'followed': 0.022727272727272728, 'meaning': 0.022727272727272728, 'topass': 0.022727272727272728, 'garden': 0.022727272727272728, 'halfway': 0.022727272727272728, 'theroom': 0.022727272727272728, 'Thank': 0.022727272727272728, 'previewing': 0.022727272727272728, 'eBook': 0.045454545454545456, 'version': 0.022727272727272728, 'formats': 0.022727272727272728, '\\uf0d8': 0.06818181818181818, 'HTML': 0.022727272727272728, 'Free': 0.045454545454545456, '/Available': 0.022727272727272728, ' ': 0.045454545454545456, 'PDF': 0.045454545454545456, 'TXT': 0.045454545454545456, 'Available': 0.022727272727272728, 'V.I.P.': 0.045454545454545456, 'members': 0.06818181818181818, 'Standard': 0.022727272727272728, 'access': 0.022727272727272728, '5': 0.022727272727272728, 'eBooks': 0.022727272727272728, 'month': 0.045454545454545456, 'Epub': 0.022727272727272728, 'Mobipocket': 0.022727272727272728, 'Exclusive': 0.022727272727272728, 'download': 0.022727272727272728, 'select': 0.022727272727272728, 'format': 0.022727272727272728, 'desire': 0.022727272727272728, '   ': 0.022727272727272728}\n"
     ]
    }
   ],
   "source": [
    "print(word_frequencies)"
   ]
  },
  {
   "cell_type": "code",
   "execution_count": 18,
   "id": "b4d47771",
   "metadata": {},
   "outputs": [
    {
     "name": "stdout",
     "output_type": "stream",
     "text": [
      "[That’s, Not LoveBy Elisabeth Sanxay HoldingTable of ContentsIIIIIIIVVVIVIIVIIIIXThat’s, Not LoveA gay world, that summer morning!, The sprinkler on the lawnflung a rainbow mist into the air, and left tiny diamondsshining on the grass blades., Everything was astir—the leavesrustling on the trees, gay flowers swaying on their stalks., Curtains fluttered at the open windows, and through the cool,bright house voices came floating, light as butterflies., SerenaPage had arisen., To be sure, she had told her house guests the night before thatjust because she had to get up, was no reason why any one elseshould be disturbed at the outrageous hour of half past, eight;but, somehow everybody was disturbed., Somehow her gettingup made confusion all through the house; for that was Serena’sespecial talent—to create an exciting sort of bustle about her,without herself doing anything at all., Serena!, Never was awoman so misnamed!She came down the stairs, her filmy black negligee floating outbehind her, so that she seemed, as always, to be coming in abreeze—an artificial breeze, though, perfumed and enervating,bringing no health or color., She was without make-up at thisearly hour., Her handsome, haggard face was pale,, her eyeswere heavy., She entered the breakfast room, and there was the Moriartygirl, standing by the window., “Good morning, Mrs. Page,” she said, with that enigmatic smileof hers., Serena smiled, too, but faintly., Geraldine Moriarty wasbeginning to get on her nerves very badly, and she was longingfor an excuse to fly into a rage with the girl., That was the onlyway Serena could get rid of people., She could do nothing incold blood., She had taken on Geraldine in an outburst ofgenerosity, and she would have to have an outburst of angerbefore she could send her away., “Had breakfast?”, she inquired., “No, —I was waiting for you, Mrs. Page., ”Serena took her place at the table, and the Japanese butlercame forward to serve her., She did not know his name., Shewas not even sure that she had seen him before., She got herservants from an agency in the city, which upon demand wouldsend her out a “crew” commanded by a butler., Sometimesthings went wrong, and the whole lot left together; but anothercrew always came promptly, and her household suffered verylittle from the change., She had the art of making her home asimpersonal as a hotel; but she did notice this butler., She smiledupon him, because his charmingly deferential air pleased her., He seemed to appreciate the solemnity of the occasion., It was indeed an important occasion., It was the beginning ofSerena’s diet., Before this elegant and luxurious creature thebutler set half of a grapefruit, two slices of Graham bread toastwithout butter, and a cup of black coffee., She shuddered a little, and closed her eyes., Every morning,henceforth, she was to get up at half past eight, go through aset of exercises, take a cold shower, and come downstairs—tothis!, Every one said she wouldn’t be able to stand it., Those whopleased, her best said she had absolutely no need of a reducingdiet, and would be made ill by it., Only the Moriarty girl showed no interest at all., Serenaobserved that Geraldine had a slice of grilled Virginia ham onher plate., “How, Connie could ever have called her a sweet child!”, shethought., “She’s as hard as nails!”Some six weeks ago Connie Blanchard had come to Serena witha most piteous tale about Geraldine Moriarty., “Her mother and I went to the same school in Paris,” she hadsaid; “and now this sweet child’s all alone in the world., Something awful happened to her father., He went bankrupt, orlost his mind, or something—, I can’t remember now—andGeraldine simply hasn’t a penny., Fine old Irish family, youknow, and she’s awfully well educated., I’d love to help her, , butyou know how it is with me, my dear, living as I do in hotels—, and I’m not strong., Do please do something for the poor child,Serena!”Who could have done more?, Serena had at once engaged MissMoriarty as secretary-companion, and here she was, getting anice little salary, and with practically no work to do., Thesecretarial duties were almost nonexistent, for Serena veryseldom wrote or even answered a letter., She and her friendscarried on their social activities by telephone, and they liked todo their own talking., As for the companion part, that was absurd., Serena was alwayssurrounded by companions, and mighty obliging ones, too—penniless cousins, ambitious and ambiguous ladies, all sorts ofeager and pliant creatures, who made up a little court, whereSerena ruled magnificently., No—all the Moriarty girl had to dowas to look on, and of course to admire; and it was at thissimple task that she so utterly failed., She didn’t seem to admire anything or anybody, not evenherself., She was ironically indifferent to her own dark beauty., She had no decent clothes, and when Serena had offered hersome very good things that she was tired of, Geraldine hadrefused—, politely, of course., She was always polite, alwayscareful not to give Serena any excuse for getting rid of her., “But, you’ll go, my dear!”, thought Serena., “I’ve done quiteenough for you!”She glanced across the table at her silent companion., “Hopeless!”, she reflected., “Simply hopeless!, Of course she’sgood-looking, in a way—but she has absolutely no charm, andno figure., ”Miss, Moriarty went on eating with an excellent appetite., Shewas never talkative., She was quiet, but with a quiet whichSerena did not find restful or soothing., She was a tall girl, thinand supple, with a careless grace in every movement., Her facehad a gypsy darkness, with high cheek bones, features delicateand yet bold, and black eyes with a scornful light in them., Shewas dressed in a black skirt, a black jersey, and a plain whiteblouse—a costume that made her look lanky, thought thedieting Serena; and she had that air of not caring., “For, Heaven’s sake, do talk, my dear!”, cried Serena, overcomeby exasperation., “I’m all on edge this morning, and, it makes mehorribly nervous to see you sitting there like a—like a gravenimage!”“I’ll try,” said Miss Moriarty obligingly., “Have you seen thedelphiniums?”“Never heard of the things,” said Serena., “Oh, do answer thatfor me, my dear!”For, the butler had come forward to say that a “generman”wanted to speak to Mrs. Page on the telephone., There was, inevitably, a telephone in the breakfast room., Therewere telephones everywhere in that house, so that, in order tospeak to a friend perhaps a hundred miles away, , one need nothave the fatigue of walking more than twenty feet., Geraldinetook up the receiver., “This is Mrs. Page’s secretary,” she said., “Will you give me themessage, please?”“Tell Mrs. Page it, ’s, Sambo,” said a curt and very clear masculinevoice., “It, ’s, Sambo,” repeated Miss Moriarty, turning toward Serena., She was surprised by the change that came over that haggard,petulant face., Forgotten were the nerves and the cruel diet., Serena sprang to her feet and ran to the telephone, and evenher voice was changed., “Sambo!”, she cried., “What an hour!, Yes, I know,, but why didn’tyou write me, just once?, I’m not reproaching you,, silly, boy!Only, I did think you’d have time just for a line., No, no!, To-day,Sambo?, But can’t you give me some idea what time?, Surelysome time to-day?, Oh, all right!, By-by, big boy!”She came back to the table and sank into her chair, laughing., “I’ll take a slice of that ham,” she said to the butler, “and creamfor my coffee., Quick!, I’m starving!”, Then she looked atGeraldine., “Sammy Randall is coming,” she announced., “How nice,” said Geraldine., But Serena missed any irony there may have been in the words., Mrs., Anson had appeared in the doorway, and she called to her:“Betty, Sambo’s coming out to-day!”“My dear, how simply marvelous!”, cried Betty Anson, withfervor., Serena expected that fervor., She took it for granted that all herfriends would rejoice with her; and so they did., Serena, thequeen, was happy, and all her court was happy, too, reaping thebenefits of her good humor., “But, that awful Moriarty!”, she whispered to Betty Anson., “She’s worse than usual this morning., I don’t know, what’s thematter with her., She’s so indifferent and ungrateful!”“Thosepeoplearealwaysenvious,”saidMrs., Anson., “Governesses and companions—, they’re not exactly servants,you know, and yet they’re not—, well, they’re simply out ofeverything., ”“I wish she’d stay out altogether!”, said Serena., Geraldine Moriarty wished the same thing., As she stepped outthrough the long window of the breakfast room to the lawn,she wished that she need never set foot in that house again., She hated it, she hated the life there, and at times she camedangerously close to hating the people in it., For, though Serena’s conclusion that the girl was “as hard asnails” was an exaggeration, there was a grain of truth in it., Shehad, for her nineteen years, a character remarkably definiteand independent., She had fortitude, courage, and the pride ofLucifer., She had come here, penniless, solitary, and so young,direct from the almost cloistered life she had led with herinvalid mother, and not for one instant had she been dazzled orswayed by the luxury and the feverish gayety about her., Shestayed because she knew no other way to earn her bread, butall her salary she put into a savings bank, and would not toucha penny of it., When there was enough, she meant to go away., She would learn typing and shorthand, find work in an office,and be done with this existence which she hated., She lived here in exile, utterly alien and lonely, among thesepeople whom she neither comprehended nor pitied., Herpeople had been gentlefolk., She had been brought up in atradition of dignity, honor, and reserve, and she clung to thattradition with all the strength of her loyal heart., What herpeople had been, she would be., Their ways were the right ways., Their manners, their speech, their tastes, formed the standardsby which all others should be judged., And, so judged, Serenaand, her friends were damned., Geraldine saw no good in themat all., They were base, heartless, and vulgar., She walked across the lawn to the sea wall at the foot of thegarden, and jumped down to the beach, a few feet below., Shewanted to be alone for a little while in the fresh, sweet summermorning, in the sun and the salt wind, and to forget themonstrous thing she had seen; but she could not forget., Inanger, in contempt, she was obliged to remember Serena, ’s, faceat the mention of that man’s name., Evidently Serena “loved” this man with the mountebank name,and her friends seemed to think it a charming idyl—the “love”of a woman of forty, who had divorced one husband and wasliving in constant bickering with a second., The fact of her beingmarried was simply a side issue., Faith and honor had nomeaning at all for these people, and love—that was, what theycalled “love”!IIThe summer day was drawing to a close., The shadows of thetrees were long upon the grass, the sun was sinking through asky wistful and delicate, faint rose and yellow., There was a blessed quiet all through the house., Serena andher friends had certainly intended to be back for tea, but theyhad not come., They never could do what they meant to do., Obstacles intervened, and they were not well equipped fordealing with obstacles., It took so little to stop them, to bar aroad, to turn them off toward a new destination., They had notcome back, and Geraldine was having her tea alone in thelibrary, reading a book as she sipped it., That was how Sambo first saw her, sitting, very straight, in ahigh-backed chair, with the last light of the sunset on her clear,pale face., He said later that she had put him in mind of aMadonna, and there were not many women he knew, whocould do that., He stood in the doorway, staring at her, for quitea long time—so long that he never afterward forgot how shelooked then, so still, so lovely, so aloof., For a moment he was almost afraid to disturb her., But the fear of disturbing other persons had not yet greatlyinfluenced young Samuel Randall., He was a conqueror,nonchalant and superb., He took whatever things pleased himin this world., Slender, almost slight, with his fine features, hismournful dark eyes, he had a poetic and touching look abouthim; but it belied him., He was not poetic., He was greedy, andwillful, and reckless., He wanted to talk to this lovely image, so in he went., “This, a gentle hint?”, he asked., Geraldine put down her book and looked at him., “I said I was coming to-day,” he went on, “and they’re all out., That mean I’m not wanted?”And, he smiled his charming, arrogant smile, for he knew sowell that he was always wanted., “Mrs., Page meant to be home by five,” said Geraldine, with nosmile at all., “Something must have delayed her., ”“Then you’ll give me a cup of tea, won’t you?, I’m Randall, youknow., ”She said yes, none too cordially, and rang the bell for fresh tea., He sat down opposite her, slouching in his chair, his handsomehead thrown back, his dark eyes watching her., “I’m, Mrs. Page’s secretary,” she explained with cold formality., “Lucky, lucky Mrs. Page!” said he., A faint color rose in her cheeks., She resented his attitude, hiseasy and careless manner, his appraising glance, and he readthe resentment in her face., “Prudish!”, he thought., This did not annoy him., He liked this tall, dark, unsmiling girljust as she was, a charming novelty; but he would have tochange his tactics., “You were reading, weren’t you?”, he said respectfully., “I hope Ididn’t interrupt you., ”“No, Mr. Randall,” she answered., Then, suddenly, his undisciplined soul was filled with a sort ofenvy for this untroubled and superior creature who read books., “I try to read,” he said., “I wish to Heaven I could; but it’s toolate now., ”“I don’t see how it could ever be too late to read,” saidGeraldine, with a trace of scorn., He had straightened up in his chair., He was no longer staring ather, but at the unlighted cigarette that he was rolling betweenhis fingers., “The thing is,” he said, “I’ve been spoiled., People listen to me—any damned nonsense I spout—, and I’ve got out of the way oflistening myself., Now, you see, when I take up a book, that’sworth reading, I feel as if the writer fellow had got me into acorner, and was trying to lay down the law; so I want tocontradict him, and I chuck the blamed thing across the room., ”He spoke earnestly, and he was in earnest., It was his greatcharm that he was always sincere., He was not inventing thingsto, say to this girl., He was simply selecting from his restless,curious mind those things which he thought would interest her., He was succeeding, too—he saw that., Geraldine did not speak, because to her reserved and proudspirit, it was impossible to speak easily to a stranger; but shethought over his words with an odd sensation of distress., Shefelt sorry for the conquering Sambo., He had picked up her book, and was turning the pages., It was acopy of “The Hound of Heaven,” which her father had given herlong ago., “Poetry!”, he said., “Queer sort of stuff!”Then he read aloud:“I fled Him, down the nights and down the days;I fled Him, down, the arches of the years;I fled Him, down the labyrinthine waysOf my own mind—”He stopped, and for a moment he sat silent., The light wasfading out of the sky now, and in the dusk his face looked whiteand strained., The echo of his strong young voice seemed still todrift through the shadowy room., Looking at him, Geraldine had an extraordinary fancy, almost avision, of his terribly defiant soul fleeing, swift and laughing, toits own destruction., She was filled with an austere compassionand wonder., It was as if, in an instant, and without a wordspoken, he had told her all the long tale of his wasted years., “Sometimes,” he said, “the prey gets away from Him!”“No!”, said Geraldine steadily., “No—never!”He struck a match, and by the flame that sprang out, vivid inthe gray dusk, she had a glimpse of his face, with eyes halfclosed, proud and sorrowful; and he was changed in her sightforever., She saw him, not as a puppet in a shameful drama, butas a fellow creature with a soul., “You know,” he said, “I’ve got lost!”The match went out, and the room seemed very dark now., Geraldine wanted to speak, to tell him something, but, she couldnot remember, afterward, what incredible words had come toher mind., They were never to be spoken, however, for just atthat moment, Serena came home., IIIIn her first generous enthusiasm Serena had declared that the“sweet child” must dine with them, no matter who was there,and now neither she nor Geraldine could find a plausiblereason for altering the arrangement which had grown soirksome., This evening, as usual, Geraldine went upstairs to puton her one and only dinner dress., But she was not so reluctant as usual, nor so disdainful., She feltthat, she was no longer utterly alone., This man who had cometo the house was different from the others., She rememberedhis face as she had seen it in the flare of the match, andremembered the sound of his voice., If he was lost, it wasbecause he had been misguided., He was somehow a victim., Nobody noticed Miss Moriarty when she came to the table, forthey were all very well used to her and her one, eveninggown—, that is, nobody but Sambo; and to him she was new andlovely and profoundly interesting., He thought that her slenderhands were beautiful., So was the sweep of her shining blackhair away from her temples, and so was the proud arch of herbrows; and he thought that her poor little black dress, and heryouth and her disdainful air, were beyond measure touching., But he prudently kept his interest in Miss Moriarty to himself,and behaved as he was expected to behave., The diet waspostponed, and Serena had asked the butler to see that therewas “an awfully good dinner.”, He had justified her blind faith inhim, for the dinner was an excellent one., From the well stockedcellar he had selected the proper wines; but nobody cared forthese., They all preferred whisky., Throughout the meal theydrank whisky and smoked cigarettes, and their talk was inkeeping with this., “It, ’s, not my business,” thought Geraldine., “I can’t change theworld., I’m just here to earn a living., ”But, the contempt and indifference which until now had beenher armor failed her to-night., She was troubled and veryunhappy., None of these people were mere puppets any longer., They had come alive, and they were pitiful, and a little horrible., There was the girl they called Jinky—tall, gaunt, with a sort ofwasted beauty in her face., A year ago she had eloped with avery young millionaire, and, as he was under age, his parentshad had the marriage annulled, —annulled, wiped out, so thatJinky had come back from her wedding trip discredited andshamed before all her world., She didn’t seem to care., Sheseemed hilariously amused by the whispered conversation ofLevering, who sat next her; but to-night Geraldine felt sure thatJinky did care—that the wound had left a cruel scar., There was Levering himself, with his supercilious, high-bredface., He had married for money, and he hadn’t got the money., It was a notorious joke in that circle that his middle-aged wifebegrudgedhimeverypenny., Hesufferedhisignoblehumiliation, and his wife suffered, too, because of her jealousand bitter infatuation for him., There was the chic and lively little Mrs. Anson, with her eternalscheming for invitations and other benefits., There was herhusband, gray-haired, distinguished in appearance, a slave toher ambition and his own weakness., There was Serena, magnificent in her diamonds, talking only toSambo, looking only at Sambo., There was Sambo himself, theman who had said that he was lost., He listened to Serenacarelessly, and smiled, even when her face was anxious andfrowning., He smoked incessantly., The light ashes from hiscigarettes fell upon his plate, into his glass, and he swallowedthem, as if he neither knew nor cared what was barren ash andwhat life-giving food., “Now, what?”, cried Serena, jumping up., “Bridge, or dancing, orwhat?”Geraldine had risen, too, and she fancied that she heard Mr., Anson, standing beside her, mutter:“The deluge!”He was unsteady on his feet, and his weary face was a curiousgray., Geraldine had seen him like this before., He was trying toplay, trying to be one of them, to forget—and he never could., “Oh, dancing, of course!” said Jinky., They all went into thedrawing-room, and one of the servants started the phonographplaying., The music began, the thud of drums like bare feetstamping, the sweet whine of Hawaiian guitars, like lazylaughter., Geraldine had followed the others, meaning only topass through on her way to the garden, but halfway across theroom Sambo stopped her., Thank You for previewing this eBook, You can read the full version of this eBook in different formats:,  HTML, (Free /Available to everyone)  ,  PDF / TXT, (Available to V.I.P. members., Free Standard members can access up to 5 PDF/TXT eBooks per month each month)   Epub & Mobipocket (Exclusive to V.I.P. members), To download this full book, simply select the format you desire below    ]\n"
     ]
    }
   ],
   "source": [
    "sentence_tokens = [sent for sent in doc.sents]\n",
    "print(sentence_tokens)"
   ]
  },
  {
   "cell_type": "code",
   "execution_count": 19,
   "id": "d6eef5bd",
   "metadata": {},
   "outputs": [],
   "source": [
    "sentence_scores = {}\n",
    "for sent in sentence_tokens:\n",
    "    for word in sent:\n",
    "        if word.text.lower() in word_frequencies.keys():\n",
    "            if sent not in sentence_scores.keys():\n",
    "                sentence_scores[sent] = word_frequencies[word.text.lower()]\n",
    "            else:\n",
    "                sentence_scores[sent] += word_frequencies[word.text.lower()]"
   ]
  },
  {
   "cell_type": "code",
   "execution_count": 20,
   "id": "8d937c39",
   "metadata": {},
   "outputs": [
    {
     "data": {
      "text/plain": [
       "{Not LoveA gay world, that summer morning!: 0.29545454545454547,\n",
       " The sprinkler on the lawnflung a rainbow mist into the air, and left tiny diamondsshining on the grass blades.: 0.3636363636363636,\n",
       " Everything was astir—the leavesrustling on the trees, gay flowers swaying on their stalks.: 0.818181818181818,\n",
       " Curtains fluttered at the open windows, and through the cool,bright house voices came floating, light as butterflies.: 0.6363636363636362,\n",
       " SerenaPage had arisen.: 0.022727272727272728,\n",
       " To be sure, she had told her house guests the night before thatjust because she had to get up: 0.3863636363636363,\n",
       " was no reason why any one elseshould be disturbed at the outrageous hour of half past: 0.29545454545454547,\n",
       " eight;but: 0.022727272727272728,\n",
       " somehow everybody was disturbed.: 0.06818181818181818,\n",
       " Somehow her gettingup made confusion all through the house; for that was Serena’sespecial talent—to create an exciting sort of bustle about her,without herself doing anything at all.: 1.0227272727272727,\n",
       " Never was awoman so misnamed!She came down the stairs, her filmy black negligee floating outbehind her, so that she seemed, as always, to be coming in abreeze—an artificial breeze, though, perfumed and enervating,bringing no health or color.: 1.3863636363636362,\n",
       " She was without make-up at thisearly hour.: 0.09090909090909091,\n",
       " Her handsome, haggard face was pale,: 0.3409090909090909,\n",
       " her eyeswere heavy.: 0.045454545454545456,\n",
       " She entered the breakfast room, and there was the Moriartygirl, standing by the window.: 0.36363636363636365,\n",
       " “Good morning, Mrs. Page,” she said, with that enigmatic smileof hers.: 1.7045454545454544,\n",
       " Serena smiled, too, but faintly.: 0.09090909090909091,\n",
       " Geraldine Moriarty wasbeginning to get on her nerves very badly, and she was longingfor an excuse to fly into a rage with the girl.: 0.36363636363636365,\n",
       " That was the onlyway Serena could get rid of people.: 0.1590909090909091,\n",
       " She could do nothing incold blood.: 0.045454545454545456,\n",
       " She had taken on Geraldine in an outburst ofgenerosity, and she would have to have an outburst of angerbefore she could send her away.: 0.29545454545454547,\n",
       " “Had breakfast?”: 1.0909090909090908,\n",
       " she inquired.: 0.022727272727272728,\n",
       " —I was waiting for you, Mrs. Page.: 0.6590909090909091,\n",
       " ”Serena took her place at the table, and the Japanese butlercame forward to serve her.: 0.29545454545454547,\n",
       " She did not know his name.: 0.13636363636363635,\n",
       " Shewas not even sure that she had seen him before.: 0.18181818181818182,\n",
       " She got herservants from an agency in the city, which upon demand wouldsend her out a “crew” commanded by a butler.: 2.068181818181818,\n",
       " Sometimesthings went wrong, and the whole lot left together; but anothercrew always came promptly, and her household suffered verylittle from the change.: 0.6818181818181817,\n",
       " She had the art of making her home asimpersonal as a hotel; but she did notice this butler.: 0.29545454545454547,\n",
       " She smiledupon him, because his charmingly deferential air pleased her.: 0.20454545454545453,\n",
       " He seemed to appreciate the solemnity of the occasion.: 0.09090909090909091,\n",
       " It was indeed an important occasion.: 0.06818181818181818,\n",
       " It was the beginning ofSerena’s diet.: 0.09090909090909091,\n",
       " Before this elegant and luxurious creature thebutler set half of a grapefruit, two slices of Graham bread toastwithout butter, and a cup of black coffee.: 0.6136363636363635,\n",
       " She shuddered a little, and closed her eyes.: 0.34090909090909094,\n",
       " Every morning,henceforth, she was to get up at half past eight, go through aset of exercises, take a cold shower, and come downstairs—tothis!: 1.2272727272727273,\n",
       " Every one said she wouldn’t be able to stand it.: 0.5909090909090908,\n",
       " Those whopleased: 0.022727272727272728,\n",
       " her best said she had absolutely no need of a reducingdiet, and would be made ill by it.: 0.7272727272727271,\n",
       " Only the Moriarty girl showed no interest at all.: 0.25,\n",
       " Serenaobserved that Geraldine had a slice of grilled Virginia ham onher plate.: 0.18181818181818182,\n",
       " Connie could ever have called her a sweet child!”: 1.25,\n",
       " shethought.: 0.045454545454545456,\n",
       " “She’s as hard as nails!”Some six weeks ago Connie Blanchard had come to Serena witha most piteous tale about Geraldine Moriarty.: 1.0909090909090908,\n",
       " “Her mother and I went to the same school in Paris,” she hadsaid; “and now this sweet child’s all alone in the world.: 2.2499999999999996,\n",
       " Something awful happened to her father.: 0.11363636363636363,\n",
       " He went bankrupt, orlost his mind, or something—: 0.9772727272727273,\n",
       " I can’t remember now—andGeraldine simply hasn’t a penny.: 0.8863636363636364,\n",
       " Fine old Irish family, youknow, and she’s awfully well educated.: 0.18181818181818182,\n",
       " I’d love to help her: 0.06818181818181818,\n",
       " , butyou know how it is with me, my dear, living as I do in hotels—: 0.9545454545454546,\n",
       " and I’m not strong.: 0.045454545454545456,\n",
       " Do please do something for the poor child,Serena!”Who could have done more?: 0.13636363636363635,\n",
       " Serena had at once engaged MissMoriarty as secretary-companion, and here she was, getting anice little salary, and with practically no work to do.: 0.5227272727272727,\n",
       " Thesecretarial duties were almost nonexistent, for Serena veryseldom wrote or even answered a letter.: 0.1590909090909091,\n",
       " She and her friendscarried on their social activities by telephone, and they liked todo their own talking.: 0.2727272727272727,\n",
       " As for the companion part, that was absurd.: 0.09090909090909091,\n",
       " Serena was alwayssurrounded by companions, and mighty obliging ones, too—penniless cousins, ambitious and ambiguous ladies, all sorts ofeager and pliant creatures, who made up a little court: 1.227272727272727,\n",
       " whereSerena ruled magnificently.: 0.045454545454545456,\n",
       " No—all the Moriarty girl had to dowas to look on, and of course to admire; and it was at thissimple task that she so utterly failed.: 1.1818181818181817,\n",
       " She didn’t seem to admire anything or anybody, not evenherself.: 0.09090909090909091,\n",
       " She was ironically indifferent to her own dark beauty.: 0.2272727272727273,\n",
       " She had no decent clothes, and when Serena had offered hersome very good things that she was tired of, Geraldine hadrefused—: 0.9545454545454545,\n",
       " politely, of course.: 0.11363636363636365,\n",
       " She was always polite, alwayscareful not to give Serena any excuse for getting rid of her.: 0.18181818181818182,\n",
       " you’ll go, my dear!”: 1.0909090909090908,\n",
       " thought Serena.: 0.1590909090909091,\n",
       " “I’ve done quiteenough for you!”She glanced across the table at her silent companion.: 0.9318181818181817,\n",
       " “Hopeless!”: 1.0,\n",
       " she reflected.: 0.022727272727272728,\n",
       " “Simply hopeless!: 0.8409090909090908,\n",
       " Of course she’sgood-looking, in a way—but she has absolutely no charm, andno figure.: 0.9999999999999999,\n",
       " Moriarty went on eating with an excellent appetite.: 0.29545454545454547,\n",
       " Shewas never talkative.: 0.022727272727272728,\n",
       " She was quiet, but with a quiet whichSerena did not find restful or soothing.: 0.25,\n",
       " She was a tall girl, thinand supple, with a careless grace in every movement.: 0.3636363636363636,\n",
       " Her facehad a gypsy darkness, with high cheek bones, features delicateand yet bold, and black eyes with a scornful light in them.: 0.6363636363636364,\n",
       " Shewas dressed in a black skirt, a black jersey, and a plain whiteblouse—a costume that made her look lanky, thought thedieting Serena; and she had that air of not caring.: 1.4318181818181817,\n",
       " Heaven’s sake, do talk, my dear!”: 1.1818181818181819,\n",
       " cried Serena, overcomeby exasperation.: 0.13636363636363638,\n",
       " “I’m all on edge this morning, and: 0.8181818181818181,\n",
       " it makes mehorribly nervous to see you sitting there like a—like a gravenimage!”“I’ll try,” said Miss Moriarty obligingly.: 2.590909090909091,\n",
       " “Have you seen thedelphiniums?”“Never heard of the things,” said Serena.: 2.477272727272727,\n",
       " “Oh, do answer thatfor me, my dear!”For: 0.7272727272727272,\n",
       " the butler had come forward to say that a “generman”wanted to speak to Mrs. Page on the telephone.: 1.227272727272727,\n",
       " There was, inevitably, a telephone in the breakfast room.: 0.36363636363636365,\n",
       " Therewere telephones everywhere in that house, so that, in order tospeak to a friend perhaps a hundred miles away: 0.38636363636363635,\n",
       " , one need nothave the fatigue of walking more than twenty feet.: 0.2272727272727273,\n",
       " Geraldinetook up the receiver.: 0.022727272727272728,\n",
       " “This is Mrs. Page’s secretary,” she said.: 1.6136363636363635,\n",
       " “Will you give me themessage, please?”“Tell Mrs. Page it: 0.7045454545454545,\n",
       " Sambo,” said a curt and very clear masculinevoice.: 1.6363636363636362,\n",
       " Sambo,” repeated Miss Moriarty, turning toward Serena.: 1.0681818181818181,\n",
       " She was surprised by the change that came over that haggard,petulant face.: 0.5454545454545454,\n",
       " Forgotten were the nerves and the cruel diet.: 0.1590909090909091,\n",
       " Serena sprang to her feet and ran to the telephone, and evenher voice was changed.: 0.38636363636363635,\n",
       " “Sambo!”: 1.0,\n",
       " she cried.: 0.09090909090909091,\n",
       " “What an hour!: 0.75,\n",
       " Yes, I know,: 0.1590909090909091,\n",
       " but why didn’tyou write me, just once?: 0.045454545454545456,\n",
       " I’m not reproaching you,: 0.022727272727272728,\n",
       " silly: 0.022727272727272728,\n",
       " I did think you’d have time just for a line.: 0.1590909090909091,\n",
       " To-day,Sambo?: 0.09090909090909091,\n",
       " But can’t you give me some idea what time?: 0.11363636363636365,\n",
       " Surelysome time to-day?: 0.18181818181818182,\n",
       " Oh, all right!: 0.045454545454545456,\n",
       " By-by, big boy!”She came back to the table and sank into her chair, laughing.: 0.4318181818181818,\n",
       " “I’ll take a slice of that ham,” she said to the butler, “and creamfor my coffee.: 2.5,\n",
       " I’m starving!”: 1.0227272727272727,\n",
       " Then she looked atGeraldine.: 0.06818181818181818,\n",
       " “Sammy Randall is coming,” she announced.: 1.7954545454545454,\n",
       " “How nice,” said Geraldine.: 1.5681818181818181,\n",
       " But Serena missed any irony there may have been in the words.: 0.11363636363636363,\n",
       " Anson had appeared in the doorway, and she called to her:“Betty, Sambo’s coming out to-day!”“My dear, how simply marvelous!”: 1.4772727272727273,\n",
       " cried Betty Anson, withfervor.: 0.11363636363636365,\n",
       " Serena expected that fervor.: 0.06818181818181818,\n",
       " She took it for granted that all herfriends would rejoice with her; and so they did.: 0.15909090909090912,\n",
       " Serena, thequeen, was happy, and all her court was happy, too, reaping thebenefits of her good humor.: 0.3181818181818182,\n",
       " that awful Moriarty!”: 1.0454545454545454,\n",
       " she whispered to Betty Anson.: 0.045454545454545456,\n",
       " “She’s worse than usual this morning.: 0.20454545454545453,\n",
       " I don’t know: 0.13636363636363635,\n",
       " what’s thematter with her.: 0.022727272727272728,\n",
       " She’s so indifferent and ungrateful!”“Thosepeoplearealwaysenvious,”saidMrs.: 0.045454545454545456,\n",
       " “Governesses and companions—: 0.6818181818181818,\n",
       " they’re not exactly servants,you know, and yet they’re not—: 0.8636363636363636,\n",
       " well, they’re simply out ofeverything.: 0.1590909090909091,\n",
       " ”“I wish she’d stay out altogether!”: 1.0909090909090908,\n",
       " said Serena.: 0.5454545454545454,\n",
       " Geraldine Moriarty wished the same thing.: 0.13636363636363635,\n",
       " As she stepped outthrough the long window of the breakfast room to the lawn,she wished that she need never set foot in that house again.: 0.8636363636363634,\n",
       " She hated it, she hated the life there, and at times she camedangerously close to hating the people in it.: 0.40909090909090906,\n",
       " For, though Serena’s conclusion that the girl was “as hard asnails” was an exaggeration, there was a grain of truth in it.: 1.9999999999999998,\n",
       " Shehad, for her nineteen years, a character remarkably definiteand independent.: 0.15909090909090912,\n",
       " She had fortitude, courage, and the pride ofLucifer.: 0.06818181818181818,\n",
       " She had come here, penniless, solitary, and so young,direct from the almost cloistered life she had led with herinvalid mother, and not for one instant had she been dazzled orswayed by the luxury and the feverish gayety about her.: 0.7045454545454544,\n",
       " Shestayed because she knew no other way to earn her bread, butall her salary she put into a savings bank, and would not toucha penny of it.: 0.45454545454545453,\n",
       " When there was enough, she meant to go away.: 0.18181818181818182,\n",
       " She would learn typing and shorthand, find work in an office,and be done with this existence which she hated.: 0.29545454545454547,\n",
       " She lived here in exile, utterly alien and lonely, among thesepeople whom she neither comprehended nor pitied.: 0.2272727272727273,\n",
       " Herpeople had been gentlefolk.: 0.045454545454545456,\n",
       " She had been brought up in atradition of dignity, honor, and reserve, and she clung to thattradition with all the strength of her loyal heart.: 0.25,\n",
       " What herpeople had been, she would be.: 0.022727272727272728,\n",
       " Their ways were the right ways.: 0.13636363636363635,\n",
       " Their manners, their speech, their tastes, formed the standardsby which all others should be judged.: 0.15909090909090912,\n",
       " And, so judged, Serenaand: 0.045454545454545456,\n",
       " her friends were damned.: 0.11363636363636363,\n",
       " Geraldine saw no good in themat all.: 0.20454545454545456,\n",
       " They were base, heartless, and vulgar.: 0.06818181818181818,\n",
       " She walked across the lawn to the sea wall at the foot of thegarden, and jumped down to the beach, a few feet below.: 0.31818181818181823,\n",
       " Shewanted to be alone for a little while in the fresh, sweet summermorning, in the sun and the salt wind, and to forget themonstrous thing she had seen; but she could not forget.: 0.7954545454545454,\n",
       " Inanger, in contempt, she was obliged to remember Serena: 0.13636363636363635,\n",
       " faceat the mention of that man’s name.: 0.11363636363636363,\n",
       " Evidently Serena “loved” this man with the mountebank name,and her friends seemed to think it a charming idyl—the “love”of a woman of forty, who had divorced one husband and wasliving in constant bickering with a second.: 3.5000000000000013,\n",
       " The fact of her beingmarried was simply a side issue.: 0.20454545454545456,\n",
       " Faith and honor had nomeaning at all for these people, and love—that was: 0.8636363636363636,\n",
       " what theycalled “love”!IIThe summer day was drawing to a close.: 0.909090909090909,\n",
       " The shadows of thetrees were long upon the grass, the sun was sinking through asky wistful and delicate, faint rose and yellow.: 0.4545454545454545,\n",
       " There was a blessed quiet all through the house.: 0.25,\n",
       " Serena andher friends had certainly intended to be back for tea, but theyhad not come.: 0.4318181818181818,\n",
       " They never could do what they meant to do.: 0.06818181818181818,\n",
       " Obstacles intervened, and they were not well equipped fordealing with obstacles.: 0.11363636363636365,\n",
       " It took so little to stop them, to bar aroad, to turn them off toward a new destination.: 0.4318181818181817,\n",
       " They had notcome back, and Geraldine was having her tea alone in thelibrary, reading a book as she sipped it.: 0.3636363636363636,\n",
       " That was how Sambo first saw her, sitting, very straight, in ahigh-backed chair, with the last light of the sunset on her clear,pale face.: 0.75,\n",
       " He said later that she had put him in mind of aMadonna, and there were not many women he knew: 0.7727272727272727,\n",
       " whocould do that.: 0.022727272727272728,\n",
       " He stood in the doorway, staring at her, for quitea long time—so long that he never afterward forgot how shelooked then, so still, so lovely, so aloof.: 1.2499999999999998,\n",
       " For a moment he was almost afraid to disturb her.: 0.11363636363636365,\n",
       " But the fear of disturbing other persons had not yet greatlyinfluenced young Samuel Randall.: 0.18181818181818182,\n",
       " He was a conqueror,nonchalant and superb.: 0.06818181818181818,\n",
       " He took whatever things pleased himin this world.: 0.34090909090909094,\n",
       " Slender, almost slight, with his fine features, hismournful dark eyes, he had a poetic and touching look abouthim; but it belied him.: 0.5454545454545454,\n",
       " He was not poetic.: 0.045454545454545456,\n",
       " He was greedy, andwillful, and reckless.: 0.06818181818181818,\n",
       " He wanted to talk to this lovely image, so in he went.: 0.4090909090909091,\n",
       " a gentle hint?”: 1.0454545454545454,\n",
       " he asked.: 0.045454545454545456,\n",
       " Geraldine put down her book and looked at him.: 0.18181818181818182,\n",
       " “I said I was coming to-day,” he went on, “and they’re all out.: 2.6136363636363638,\n",
       " That mean I’m not wanted?”And: 0.022727272727272728,\n",
       " he smiled his charming, arrogant smile, for he knew sowell that he was always wanted.: 0.3636363636363636,\n",
       " Page meant to be home by five,” said Geraldine, with nosmile at all.: 1.7045454545454544,\n",
       " “Something must have delayed her.: 0.7045454545454545,\n",
       " ”“Then you’ll give me a cup of tea, won’t you?: 0.1590909090909091,\n",
       " I’m Randall, youknow.: 0.045454545454545456,\n",
       " ”She said yes, none too cordially, and rang the bell for fresh tea.: 0.7727272727272726,\n",
       " He sat down opposite her, slouching in his chair, his handsomehead thrown back, his dark eyes watching her.: 0.5,\n",
       " Mrs. Page’s secretary,” she explained with cold formality.: 1.159090909090909,\n",
       " “Lucky, lucky Mrs. Page!” said he.: 1.5681818181818181,\n",
       " A faint color rose in her cheeks.: 0.1590909090909091,\n",
       " She resented his attitude, hiseasy and careless manner, his appraising glance, and he readthe resentment in her face.: 0.4545454545454546,\n",
       " “Prudish!”: 1.0,\n",
       " he thought.: 0.1590909090909091,\n",
       " This did not annoy him.: 0.022727272727272728,\n",
       " He liked this tall, dark, unsmiling girljust as she was, a charming novelty; but he would have tochange his tactics.: 0.409090909090909,\n",
       " “You were reading, weren’t you?”: 1.0681818181818181,\n",
       " he said respectfully.: 0.5681818181818181,\n",
       " “I hope Ididn’t interrupt you.: 0.7272727272727272,\n",
       " ”“No, Mr. Randall,” she answered.: 1.0454545454545454,\n",
       " Then, suddenly, his undisciplined soul was filled with a sort ofenvy for this untroubled and superior creature who read books.: 0.5227272727272727,\n",
       " “I try to read,” he said.: 1.7045454545454546,\n",
       " “I wish to Heaven I could; but it’s toolate now.: 0.7499999999999999,\n",
       " ”“I don’t see how it could ever be too late to read,” saidGeraldine, with a trace of scorn.: 1.1818181818181817,\n",
       " He had straightened up in his chair.: 0.11363636363636365,\n",
       " He was no longer staring ather, but at the unlighted cigarette that he was rolling betweenhis fingers.: 0.25,\n",
       " “The thing is,” he said, “I’ve been spoiled.: 2.340909090909091,\n",
       " People listen to me—any damned nonsense I spout—: 1.477272727272727,\n",
       " and I’ve got out of the way oflistening myself.: 0.22727272727272727,\n",
       " Now, you see, when I take up a book: 0.11363636363636363,\n",
       " that’sworth reading, I feel as if the writer fellow had got me into acorner, and was trying to lay down the law; so I want tocontradict him, and I chuck the blamed thing across the room.: 0.7727272727272726,\n",
       " ”He spoke earnestly, and he was in earnest.: 0.06818181818181818,\n",
       " It was his greatcharm that he was always sincere.: 0.045454545454545456,\n",
       " He was not inventing thingsto: 0.045454545454545456,\n",
       " say to this girl.: 0.1590909090909091,\n",
       " He was simply selecting from his restless,curious mind those things which he thought would interest her.: 0.6136363636363635,\n",
       " He was succeeding, too—he saw that.: 0.75,\n",
       " Geraldine did not speak, because to her reserved and proudspirit: 0.13636363636363638,\n",
       " it was impossible to speak easily to a stranger; but shethought over his words with an odd sensation of distress.: 0.3409090909090909,\n",
       " Shefelt sorry for the conquering Sambo.: 0.045454545454545456,\n",
       " He had picked up her book, and was turning the pages.: 0.20454545454545456,\n",
       " It was acopy of “The Hound of Heaven,” which her father had given herlong ago.: 1.8636363636363635,\n",
       " “Poetry!”: 1.0,\n",
       " he said.: 0.5454545454545454,\n",
       " “Queer sort of stuff!”Then he read aloud:“I fled Him, down the nights and down the days;I fled Him, down: 1.0454545454545454,\n",
       " the arches of the years;I fled Him, down the labyrinthine waysOf my own mind—”He stopped, and for a moment he sat silent.: 0.34090909090909094,\n",
       " The light wasfading out of the sky now, and in the dusk his face looked whiteand strained.: 0.5454545454545454,\n",
       " The echo of his strong young voice seemed still todrift through the shadowy room.: 0.43181818181818177,\n",
       " Looking at him, Geraldine had an extraordinary fancy, almost avision, of his terribly defiant soul fleeing, swift and laughing, toits own destruction.: 0.3636363636363636,\n",
       " She was filled with an austere compassionand wonder.: 0.11363636363636365,\n",
       " It was as if, in an instant, and without a wordspoken, he had told her all the long tale of his wasted years.: 0.3409090909090909,\n",
       " “Sometimes,” he said, “the prey gets away from Him!”“No!”: 3.3863636363636367,\n",
       " said Geraldine steadily.: 0.5681818181818181,\n",
       " “No—never!”He struck a match, and by the flame that sprang out, vivid inthe gray dusk, she had a glimpse of his face, with eyes halfclosed, proud and sorrowful; and he was changed in her sightforever.: 2.1363636363636362,\n",
       " She saw him, not as a puppet in a shameful drama, butas a fellow creature with a soul.: 0.36363636363636365,\n",
       " “You know,” he said, “I’ve got lost!”The match went out, and the room seemed very dark now.: 3.022727272727273,\n",
       " Geraldine wanted to speak, to tell him something, but: 0.18181818181818182,\n",
       " she couldnot remember, afterward, what incredible words had come toher mind.: 0.5454545454545454,\n",
       " They were never to be spoken, however, for just atthat moment: 0.11363636363636363,\n",
       " Serena came home.: 0.22727272727272727,\n",
       " IIIIn her first generous enthusiasm Serena had declared that the“sweet child” must dine with them, no matter who was there,and now neither she nor Geraldine could find a plausiblereason for altering the arrangement which had grown soirksome.: 1.409090909090909,\n",
       " This evening, as usual, Geraldine went upstairs to puton her one and only dinner dress.: 0.45454545454545453,\n",
       " But she was not so reluctant as usual, nor so disdainful.: 0.13636363636363635,\n",
       " She feltthat: 0.022727272727272728,\n",
       " she was no longer utterly alone.: 0.13636363636363635,\n",
       " This man who had cometo the house was different from the others.: 0.29545454545454547,\n",
       " She rememberedhis face as she had seen it in the flare of the match, andremembered the sound of his voice.: 0.5681818181818181,\n",
       " If he was lost, it wasbecause he had been misguided.: 0.09090909090909091,\n",
       " He was somehow a victim.: 0.022727272727272728,\n",
       " Nobody noticed Miss Moriarty when she came to the table, forthey were all very well used to her and her one: 0.2954545454545454,\n",
       " eveninggown—: 0.6590909090909091,\n",
       " that is, nobody but Sambo; and to him she was new andlovely and profoundly interesting.: 0.11363636363636365,\n",
       " He thought that her slenderhands were beautiful.: 0.20454545454545456,\n",
       " So was the sweep of her shining blackhair away from her temples, and so was the proud arch of herbrows; and he thought that her poor little black dress, and heryouth and her disdainful air, were beyond measure touching.: 1.0909090909090906,\n",
       " But he prudently kept his interest in Miss Moriarty to himself,and behaved as he was expected to behave.: 0.20454545454545456,\n",
       " The diet waspostponed, and Serena had asked the butler to see that therewas “an awfully good dinner.”: 2.159090909090909,\n",
       " He had justified her blind faith inhim, for the dinner was an excellent one.: 0.20454545454545453,\n",
       " From the well stockedcellar he had selected the proper wines; but nobody cared forthese.: 0.1590909090909091,\n",
       " They all preferred whisky.: 0.06818181818181818,\n",
       " Throughout the meal theydrank whisky and smoked cigarettes, and their talk was inkeeping with this.: 0.25,\n",
       " not my business,” thought Geraldine.: 1.1818181818181819,\n",
       " “I can’t change theworld.: 0.7727272727272727,\n",
       " I’m just here to earn a living.: 0.09090909090909091,\n",
       " the contempt and indifference which until now had beenher armor failed her to-night.: 0.2272727272727273,\n",
       " She was troubled and veryunhappy.: 0.045454545454545456,\n",
       " None of these people were mere puppets any longer.: 0.20454545454545456,\n",
       " They had come alive, and they were pitiful, and a little horrible.: 0.4318181818181818,\n",
       " There was the girl they called Jinky—tall, gaunt, with a sort ofwasted beauty in her face.: 1.3409090909090908,\n",
       " A year ago she had eloped with avery young millionaire, and, as he was under age, his parentshad had the marriage annulled: 0.3636363636363636,\n",
       " —annulled, wiped out, so thatJinky had come back from her wedding trip discredited andshamed before all her world.: 1.068181818181818,\n",
       " She didn’t seem to care.: 0.045454545454545456,\n",
       " Sheseemed hilariously amused by the whispered conversation ofLevering, who sat next her; but to-night Geraldine felt sure thatJinky did care—that the wound had left a cruel scar.: 1.1818181818181817,\n",
       " There was Levering himself, with his supercilious, high-bredface.: 0.09090909090909091,\n",
       " He had married for money, and he hadn’t got the money.: 0.2272727272727273,\n",
       " It was a notorious joke in that circle that his middle-aged wifebegrudgedhimeverypenny.: 0.13636363636363638,\n",
       " Hesufferedhisignoblehumiliation, and his wife suffered, too, because of her jealousand bitter infatuation for him.: 0.13636363636363638,\n",
       " There was the chic and lively little Mrs. Anson, with her eternalscheming for invitations and other benefits.: 0.2954545454545454,\n",
       " There was herhusband, gray-haired, distinguished in appearance, a slave toher ambition and his own weakness.: 0.25000000000000006,\n",
       " There was Serena, magnificent in her diamonds, talking only toSambo, looking only at Sambo.: 0.13636363636363635,\n",
       " There was Sambo himself, theman who had said that he was lost.: 0.6136363636363635,\n",
       " He listened to Serenacarelessly, and smiled, even when her face was anxious andfrowning.: 0.3636363636363636,\n",
       " He smoked incessantly.: 0.06818181818181818,\n",
       " The light ashes from hiscigarettes fell upon his plate, into his glass, and he swallowedthem, as if he neither knew nor cared what was barren ash andwhat life-giving food.: 0.5909090909090908,\n",
       " what?”: 1.0,\n",
       " cried Serena, jumping up.: 0.11363636363636365,\n",
       " “Bridge, or dancing, orwhat?”Geraldine had risen, too, and she fancied that she heard Mr.: 0.818181818181818,\n",
       " Anson, standing beside her, mutter:“The deluge!”He was unsteady on his feet, and his weary face was a curiousgray.: 0.43181818181818177,\n",
       " Geraldine had seen him like this before.: 0.22727272727272727,\n",
       " He was trying toplay, trying to be one of them, to forget—and he never could.: 0.8636363636363636,\n",
       " “Oh, dancing, of course!” said Jinky.: 1.6818181818181817,\n",
       " They all went into thedrawing-room, and one of the servants started the phonographplaying.: 0.47727272727272724,\n",
       " The music began, the thud of drums like bare feetstamping, the sweet whine of Hawaiian guitars, like lazylaughter.: 0.5227272727272727,\n",
       " Geraldine had followed the others, meaning only topass through on her way to the garden, but halfway across theroom Sambo stopped her.: 0.27272727272727276,\n",
       " Thank You for previewing this eBook: 0.022727272727272728,\n",
       " You can read the full version of this eBook in different formats:: 0.20454545454545456,\n",
       "  HTML: 0.06818181818181818,\n",
       " (Free /Available to everyone)  : 0.045454545454545456,\n",
       "  PDF / TXT: 0.06818181818181818,\n",
       " (Available to V.I.P. members.: 0.06818181818181818,\n",
       " Free Standard members can access up to 5 PDF/TXT eBooks per month each month)   Epub & Mobipocket (Exclusive to V.I.P. members): 0.3863636363636364,\n",
       " To download this full book, simply select the format you desire below    : 0.36363636363636354}"
      ]
     },
     "execution_count": 20,
     "metadata": {},
     "output_type": "execute_result"
    }
   ],
   "source": [
    "sentence_scores"
   ]
  },
  {
   "cell_type": "code",
   "execution_count": 21,
   "id": "a25300e8",
   "metadata": {},
   "outputs": [],
   "source": [
    "from heapq import nlargest"
   ]
  },
  {
   "cell_type": "code",
   "execution_count": 22,
   "id": "873eb63f",
   "metadata": {},
   "outputs": [
    {
     "data": {
      "text/plain": [
       "32"
      ]
     },
     "execution_count": 22,
     "metadata": {},
     "output_type": "execute_result"
    }
   ],
   "source": [
    "select_length = int(len(sentence_tokens)*0.1)\n",
    "select_length"
   ]
  },
  {
   "cell_type": "code",
   "execution_count": 23,
   "id": "f1f27caf",
   "metadata": {},
   "outputs": [],
   "source": [
    "summary = nlargest(select_length, sentence_scores, key = sentence_scores.get)"
   ]
  },
  {
   "cell_type": "code",
   "execution_count": 24,
   "id": "ca6a8ce8",
   "metadata": {},
   "outputs": [
    {
     "data": {
      "text/plain": [
       "[Evidently Serena “loved” this man with the mountebank name,and her friends seemed to think it a charming idyl—the “love”of a woman of forty, who had divorced one husband and wasliving in constant bickering with a second.,\n",
       " “Sometimes,” he said, “the prey gets away from Him!”“No!”,\n",
       " “You know,” he said, “I’ve got lost!”The match went out, and the room seemed very dark now.,\n",
       " “I said I was coming to-day,” he went on, “and they’re all out.,\n",
       " it makes mehorribly nervous to see you sitting there like a—like a gravenimage!”“I’ll try,” said Miss Moriarty obligingly.,\n",
       " “I’ll take a slice of that ham,” she said to the butler, “and creamfor my coffee.,\n",
       " “Have you seen thedelphiniums?”“Never heard of the things,” said Serena.,\n",
       " “The thing is,” he said, “I’ve been spoiled.,\n",
       " “Her mother and I went to the same school in Paris,” she hadsaid; “and now this sweet child’s all alone in the world.,\n",
       " The diet waspostponed, and Serena had asked the butler to see that therewas “an awfully good dinner.”,\n",
       " “No—never!”He struck a match, and by the flame that sprang out, vivid inthe gray dusk, she had a glimpse of his face, with eyes halfclosed, proud and sorrowful; and he was changed in her sightforever.,\n",
       " She got herservants from an agency in the city, which upon demand wouldsend her out a “crew” commanded by a butler.,\n",
       " For, though Serena’s conclusion that the girl was “as hard asnails” was an exaggeration, there was a grain of truth in it.,\n",
       " It was acopy of “The Hound of Heaven,” which her father had given herlong ago.,\n",
       " “Sammy Randall is coming,” she announced.,\n",
       " “I try to read,” he said.,\n",
       " “Good morning, Mrs. Page,” she said, with that enigmatic smileof hers.,\n",
       " Page meant to be home by five,” said Geraldine, with nosmile at all.,\n",
       " “Oh, dancing, of course!” said Jinky.,\n",
       " Sambo,” said a curt and very clear masculinevoice.,\n",
       " “This is Mrs. Page’s secretary,” she said.,\n",
       " “How nice,” said Geraldine.,\n",
       " “Lucky, lucky Mrs. Page!” said he.,\n",
       " Anson had appeared in the doorway, and she called to her:“Betty, Sambo’s coming out to-day!”“My dear, how simply marvelous!”,\n",
       " People listen to me—any damned nonsense I spout—,\n",
       " Shewas dressed in a black skirt, a black jersey, and a plain whiteblouse—a costume that made her look lanky, thought thedieting Serena; and she had that air of not caring.,\n",
       " IIIIn her first generous enthusiasm Serena had declared that the“sweet child” must dine with them, no matter who was there,and now neither she nor Geraldine could find a plausiblereason for altering the arrangement which had grown soirksome.,\n",
       " Never was awoman so misnamed!She came down the stairs, her filmy black negligee floating outbehind her, so that she seemed, as always, to be coming in abreeze—an artificial breeze, though, perfumed and enervating,bringing no health or color.,\n",
       " There was the girl they called Jinky—tall, gaunt, with a sort ofwasted beauty in her face.,\n",
       " Connie could ever have called her a sweet child!”,\n",
       " He stood in the doorway, staring at her, for quitea long time—so long that he never afterward forgot how shelooked then, so still, so lovely, so aloof.,\n",
       " Every morning,henceforth, she was to get up at half past eight, go through aset of exercises, take a cold shower, and come downstairs—tothis!]"
      ]
     },
     "execution_count": 24,
     "metadata": {},
     "output_type": "execute_result"
    }
   ],
   "source": [
    "summary"
   ]
  },
  {
   "cell_type": "code",
   "execution_count": 25,
   "id": "0d6f063f",
   "metadata": {},
   "outputs": [],
   "source": [
    "final_summary = [word.text for word in summary]"
   ]
  },
  {
   "cell_type": "code",
   "execution_count": 26,
   "id": "2218f914",
   "metadata": {},
   "outputs": [
    {
     "data": {
      "text/plain": [
       "['Evidently Serena “loved” this man with the mountebank name,and her friends seemed to think it a charming idyl—the “love”of a woman of forty, who had divorced one husband and wasliving in constant bickering with a second.',\n",
       " '“Sometimes,” he said, “the prey gets away from Him!”“No!”',\n",
       " '“You know,” he said, “I’ve got lost!”The match went out, and the room seemed very dark now.',\n",
       " '“I said I was coming to-day,” he went on, “and they’re all out.',\n",
       " 'it makes mehorribly nervous to see you sitting there like a—like a gravenimage!”“I’ll try,” said Miss Moriarty obligingly.',\n",
       " '“I’ll take a slice of that ham,” she said to the butler, “and creamfor my coffee.',\n",
       " '“Have you seen thedelphiniums?”“Never heard of the things,” said Serena.',\n",
       " '“The thing is,” he said, “I’ve been spoiled.',\n",
       " '“Her mother and I went to the same school in Paris,” she hadsaid; “and now this sweet child’s all alone in the world.',\n",
       " 'The diet waspostponed, and Serena had asked the butler to see that therewas “an awfully good dinner.”',\n",
       " '“No—never!”He struck a match, and by the flame that sprang out, vivid inthe gray dusk, she had a glimpse of his face, with eyes halfclosed, proud and sorrowful; and he was changed in her sightforever.',\n",
       " 'She got herservants from an agency in the city, which upon demand wouldsend her out a “crew” commanded by a butler.',\n",
       " 'For, though Serena’s conclusion that the girl was “as hard asnails” was an exaggeration, there was a grain of truth in it.',\n",
       " 'It was acopy of “The Hound of Heaven,” which her father had given herlong ago.',\n",
       " '“Sammy Randall is coming,” she announced.',\n",
       " '“I try to read,” he said.',\n",
       " '“Good morning, Mrs. Page,” she said, with that enigmatic smileof hers.',\n",
       " 'Page meant to be home by five,” said Geraldine, with nosmile at all.',\n",
       " '“Oh, dancing, of course!” said Jinky.',\n",
       " 'Sambo,” said a curt and very clear masculinevoice.',\n",
       " '“This is Mrs. Page’s secretary,” she said.',\n",
       " '“How nice,” said Geraldine.',\n",
       " '“Lucky, lucky Mrs. Page!” said he.',\n",
       " 'Anson had appeared in the doorway, and she called to her:“Betty, Sambo’s coming out to-day!”“My dear, how simply marvelous!”',\n",
       " 'People listen to me—any damned nonsense I spout—',\n",
       " 'Shewas dressed in a black skirt, a black jersey, and a plain whiteblouse—a costume that made her look lanky, thought thedieting Serena; and she had that air of not caring.',\n",
       " 'IIIIn her first generous enthusiasm Serena had declared that the“sweet child” must dine with them, no matter who was there,and now neither she nor Geraldine could find a plausiblereason for altering the arrangement which had grown soirksome.',\n",
       " 'Never was awoman so misnamed!She came down the stairs, her filmy black negligee floating outbehind her, so that she seemed, as always, to be coming in abreeze—an artificial breeze, though, perfumed and enervating,bringing no health or color.',\n",
       " 'There was the girl they called Jinky—tall, gaunt, with a sort ofwasted beauty in her face.',\n",
       " 'Connie could ever have called her a sweet child!”',\n",
       " 'He stood in the doorway, staring at her, for quitea long time—so long that he never afterward forgot how shelooked then, so still, so lovely, so aloof.',\n",
       " 'Every morning,henceforth, she was to get up at half past eight, go through aset of exercises, take a cold shower, and come downstairs—tothis!']"
      ]
     },
     "execution_count": 26,
     "metadata": {},
     "output_type": "execute_result"
    }
   ],
   "source": [
    "final_summary"
   ]
  },
  {
   "cell_type": "code",
   "execution_count": 27,
   "id": "4cd64802",
   "metadata": {},
   "outputs": [],
   "source": [
    "summary = ' '.join(final_summary)"
   ]
  },
  {
   "cell_type": "code",
   "execution_count": 28,
   "id": "259127f8",
   "metadata": {},
   "outputs": [
    {
     "name": "stdout",
     "output_type": "stream",
     "text": [
      "Evidently Serena “loved” this man with the mountebank name,and her friends seemed to think it a charming idyl—the “love”of a woman of forty, who had divorced one husband and wasliving in constant bickering with a second. “Sometimes,” he said, “the prey gets away from Him!”“No!” “You know,” he said, “I’ve got lost!”The match went out, and the room seemed very dark now. “I said I was coming to-day,” he went on, “and they’re all out. it makes mehorribly nervous to see you sitting there like a—like a gravenimage!”“I’ll try,” said Miss Moriarty obligingly. “I’ll take a slice of that ham,” she said to the butler, “and creamfor my coffee. “Have you seen thedelphiniums?”“Never heard of the things,” said Serena. “The thing is,” he said, “I’ve been spoiled. “Her mother and I went to the same school in Paris,” she hadsaid; “and now this sweet child’s all alone in the world. The diet waspostponed, and Serena had asked the butler to see that therewas “an awfully good dinner.” “No—never!”He struck a match, and by the flame that sprang out, vivid inthe gray dusk, she had a glimpse of his face, with eyes halfclosed, proud and sorrowful; and he was changed in her sightforever. She got herservants from an agency in the city, which upon demand wouldsend her out a “crew” commanded by a butler. For, though Serena’s conclusion that the girl was “as hard asnails” was an exaggeration, there was a grain of truth in it. It was acopy of “The Hound of Heaven,” which her father had given herlong ago. “Sammy Randall is coming,” she announced. “I try to read,” he said. “Good morning, Mrs. Page,” she said, with that enigmatic smileof hers. Page meant to be home by five,” said Geraldine, with nosmile at all. “Oh, dancing, of course!” said Jinky. Sambo,” said a curt and very clear masculinevoice. “This is Mrs. Page’s secretary,” she said. “How nice,” said Geraldine. “Lucky, lucky Mrs. Page!” said he. Anson had appeared in the doorway, and she called to her:“Betty, Sambo’s coming out to-day!”“My dear, how simply marvelous!” People listen to me—any damned nonsense I spout— Shewas dressed in a black skirt, a black jersey, and a plain whiteblouse—a costume that made her look lanky, thought thedieting Serena; and she had that air of not caring. IIIIn her first generous enthusiasm Serena had declared that the“sweet child” must dine with them, no matter who was there,and now neither she nor Geraldine could find a plausiblereason for altering the arrangement which had grown soirksome. Never was awoman so misnamed!She came down the stairs, her filmy black negligee floating outbehind her, so that she seemed, as always, to be coming in abreeze—an artificial breeze, though, perfumed and enervating,bringing no health or color. There was the girl they called Jinky—tall, gaunt, with a sort ofwasted beauty in her face. Connie could ever have called her a sweet child!” He stood in the doorway, staring at her, for quitea long time—so long that he never afterward forgot how shelooked then, so still, so lovely, so aloof. Every morning,henceforth, she was to get up at half past eight, go through aset of exercises, take a cold shower, and come downstairs—tothis!\n"
     ]
    }
   ],
   "source": [
    "print(summary)"
   ]
  },
  {
   "cell_type": "code",
   "execution_count": 29,
   "id": "31d98c13",
   "metadata": {},
   "outputs": [
    {
     "data": {
      "text/plain": [
       "20803"
      ]
     },
     "execution_count": 29,
     "metadata": {},
     "output_type": "execute_result"
    }
   ],
   "source": [
    "len(tx)"
   ]
  },
  {
   "cell_type": "code",
   "execution_count": 30,
   "id": "27075700",
   "metadata": {},
   "outputs": [
    {
     "data": {
      "text/plain": [
       "3164"
      ]
     },
     "execution_count": 30,
     "metadata": {},
     "output_type": "execute_result"
    }
   ],
   "source": [
    "len(summary)"
   ]
  },
  {
   "cell_type": "code",
   "execution_count": 31,
   "id": "bbe7eac0",
   "metadata": {},
   "outputs": [],
   "source": [
    "import pandas as pd\n",
    "import numpy as np"
   ]
  },
  {
   "cell_type": "code",
   "execution_count": 51,
   "id": "e4d10581",
   "metadata": {},
   "outputs": [
    {
     "data": {
      "text/html": [
       "<div>\n",
       "<style scoped>\n",
       "    .dataframe tbody tr th:only-of-type {\n",
       "        vertical-align: middle;\n",
       "    }\n",
       "\n",
       "    .dataframe tbody tr th {\n",
       "        vertical-align: top;\n",
       "    }\n",
       "\n",
       "    .dataframe thead th {\n",
       "        text-align: right;\n",
       "    }\n",
       "</style>\n",
       "<table border=\"1\" class=\"dataframe\">\n",
       "  <thead>\n",
       "    <tr style=\"text-align: right;\">\n",
       "      <th></th>\n",
       "      <th>Reviews</th>\n",
       "      <th>Sentiment</th>\n",
       "    </tr>\n",
       "  </thead>\n",
       "  <tbody>\n",
       "    <tr>\n",
       "      <th>0</th>\n",
       "      <td>When I first tuned in on this morning news, I ...</td>\n",
       "      <td>neg</td>\n",
       "    </tr>\n",
       "    <tr>\n",
       "      <th>1</th>\n",
       "      <td>Mere thoughts of \"Going Overboard\" (aka \"Babes...</td>\n",
       "      <td>neg</td>\n",
       "    </tr>\n",
       "    <tr>\n",
       "      <th>2</th>\n",
       "      <td>Why does this movie fall WELL below standards?...</td>\n",
       "      <td>neg</td>\n",
       "    </tr>\n",
       "    <tr>\n",
       "      <th>3</th>\n",
       "      <td>Wow and I thought that any Steven Segal movie ...</td>\n",
       "      <td>neg</td>\n",
       "    </tr>\n",
       "    <tr>\n",
       "      <th>4</th>\n",
       "      <td>The story is seen before, but that does'n matt...</td>\n",
       "      <td>neg</td>\n",
       "    </tr>\n",
       "    <tr>\n",
       "      <th>...</th>\n",
       "      <td>...</td>\n",
       "      <td>...</td>\n",
       "    </tr>\n",
       "    <tr>\n",
       "      <th>24995</th>\n",
       "      <td>Everyone plays their part pretty well in this ...</td>\n",
       "      <td>pos</td>\n",
       "    </tr>\n",
       "    <tr>\n",
       "      <th>24996</th>\n",
       "      <td>It happened with Assault on Prescient 13 in 20...</td>\n",
       "      <td>neg</td>\n",
       "    </tr>\n",
       "    <tr>\n",
       "      <th>24997</th>\n",
       "      <td>My God. This movie was awful. I can't complain...</td>\n",
       "      <td>neg</td>\n",
       "    </tr>\n",
       "    <tr>\n",
       "      <th>24998</th>\n",
       "      <td>When I first popped in Happy Birthday to Me, I...</td>\n",
       "      <td>neg</td>\n",
       "    </tr>\n",
       "    <tr>\n",
       "      <th>24999</th>\n",
       "      <td>So why does this show suck? Unfortunately, tha...</td>\n",
       "      <td>neg</td>\n",
       "    </tr>\n",
       "  </tbody>\n",
       "</table>\n",
       "<p>25000 rows × 2 columns</p>\n",
       "</div>"
      ],
      "text/plain": [
       "                                                 Reviews Sentiment\n",
       "0      When I first tuned in on this morning news, I ...       neg\n",
       "1      Mere thoughts of \"Going Overboard\" (aka \"Babes...       neg\n",
       "2      Why does this movie fall WELL below standards?...       neg\n",
       "3      Wow and I thought that any Steven Segal movie ...       neg\n",
       "4      The story is seen before, but that does'n matt...       neg\n",
       "...                                                  ...       ...\n",
       "24995  Everyone plays their part pretty well in this ...       pos\n",
       "24996  It happened with Assault on Prescient 13 in 20...       neg\n",
       "24997  My God. This movie was awful. I can't complain...       neg\n",
       "24998  When I first popped in Happy Birthday to Me, I...       neg\n",
       "24999  So why does this show suck? Unfortunately, tha...       neg\n",
       "\n",
       "[25000 rows x 2 columns]"
      ]
     },
     "execution_count": 51,
     "metadata": {},
     "output_type": "execute_result"
    }
   ],
   "source": [
    "df = pd.read_excel('train.xlsx')\n",
    "df"
   ]
  },
  {
   "cell_type": "code",
   "execution_count": 33,
   "id": "fb39b811",
   "metadata": {},
   "outputs": [],
   "source": [
    "from sklearn.feature_extraction.text import TfidfVectorizer\n",
    "from sklearn.model_selection import train_test_split\n",
    "from sklearn.svm import LinearSVC\n",
    "from sklearn.metrics import classification_report"
   ]
  },
  {
   "cell_type": "code",
   "execution_count": 34,
   "id": "4052cc89",
   "metadata": {},
   "outputs": [
    {
     "name": "stdout",
     "output_type": "stream",
     "text": [
      "Collecting git+https://github.com/laxmimerit/preprocess_kgptalkie.git\n",
      "  Cloning https://github.com/laxmimerit/preprocess_kgptalkie.git to c:\\users\\akash kundu\\appdata\\local\\temp\\pip-req-build-45u7ql6v\n",
      "Building wheels for collected packages: preprocess-kgptalkie\n",
      "  Building wheel for preprocess-kgptalkie (setup.py): started\n",
      "  Building wheel for preprocess-kgptalkie (setup.py): finished with status 'done'\n",
      "  Created wheel for preprocess-kgptalkie: filename=preprocess_kgptalkie-0.1.3-py3-none-any.whl size=7634 sha256=77f7ec843fd5fa4ef47e598b975efca82bbe5f823ab3e09510aea25bd162e9be\n",
      "  Stored in directory: C:\\Users\\Akash Kundu\\AppData\\Local\\Temp\\pip-ephem-wheel-cache-w_wl21a3\\wheels\\fd\\71\\47\\e04f208ad659a295ccb69022e14de7d20ccc6fc30a5a935f09\n",
      "Successfully built preprocess-kgptalkie\n",
      "Installing collected packages: preprocess-kgptalkie\n",
      "Successfully installed preprocess-kgptalkie-0.1.3\n"
     ]
    },
    {
     "name": "stderr",
     "output_type": "stream",
     "text": [
      "  Running command git clone -q https://github.com/laxmimerit/preprocess_kgptalkie.git 'C:\\Users\\Akash Kundu\\AppData\\Local\\Temp\\pip-req-build-45u7ql6v'\n"
     ]
    }
   ],
   "source": [
    "!pip install git+https://github.com/laxmimerit/preprocess_kgptalkie.git --upgrade --force-reinstall"
   ]
  },
  {
   "cell_type": "code",
   "execution_count": 39,
   "id": "938963d3",
   "metadata": {},
   "outputs": [
    {
     "name": "stdout",
     "output_type": "stream",
     "text": [
      "Collecting textblob==0.15.3\n",
      "  Downloading textblob-0.15.3-py2.py3-none-any.whl (636 kB)\n",
      "Requirement already satisfied: nltk>=3.1 in c:\\users\\akash kundu\\anaconda3\\lib\\site-packages (from textblob==0.15.3) (3.4.5)\n",
      "Requirement already satisfied: six in c:\\users\\akash kundu\\anaconda3\\lib\\site-packages (from nltk>=3.1->textblob==0.15.3) (1.15.0)\n",
      "Installing collected packages: textblob\n",
      "Successfully installed textblob-0.15.3\n"
     ]
    }
   ],
   "source": [
    "!pip install textblob==0.15.3\n",
    "import preprocess_kgptalkie as ps\n",
    "import re\n",
    "def get_clean(x):\n",
    "    x = str(x).lower().replace('\\\\', '').replace('_', ' ')\n",
    "    x = ps.cont_exp(x)\n",
    "    x = ps.remove_emails(x)\n",
    "    x = ps.remove_urls(x)\n",
    "    x = ps.remove_html_tags(x)\n",
    "    x = ps.remove_rt(x)\n",
    "    x = ps.remove_accented_chars(x)\n",
    "    x = ps.remove_special_chars(x)\n",
    "    x = re.sub(\"(.)\\\\1{2,}\", \"\\\\1\", x)\n",
    "    return x"
   ]
  },
  {
   "cell_type": "code",
   "execution_count": 40,
   "id": "4bf3f1eb",
   "metadata": {},
   "outputs": [],
   "source": [
    "df['Reviews'] = df['Reviews'].apply(lambda x: get_clean(x))"
   ]
  },
  {
   "cell_type": "code",
   "execution_count": 41,
   "id": "0c4026f7",
   "metadata": {},
   "outputs": [
    {
     "data": {
      "text/html": [
       "<div>\n",
       "<style scoped>\n",
       "    .dataframe tbody tr th:only-of-type {\n",
       "        vertical-align: middle;\n",
       "    }\n",
       "\n",
       "    .dataframe tbody tr th {\n",
       "        vertical-align: top;\n",
       "    }\n",
       "\n",
       "    .dataframe thead th {\n",
       "        text-align: right;\n",
       "    }\n",
       "</style>\n",
       "<table border=\"1\" class=\"dataframe\">\n",
       "  <thead>\n",
       "    <tr style=\"text-align: right;\">\n",
       "      <th></th>\n",
       "      <th>Reviews</th>\n",
       "      <th>Sentiment</th>\n",
       "    </tr>\n",
       "  </thead>\n",
       "  <tbody>\n",
       "    <tr>\n",
       "      <th>0</th>\n",
       "      <td>when i first tuned in on this morning news i t...</td>\n",
       "      <td>neg</td>\n",
       "    </tr>\n",
       "    <tr>\n",
       "      <th>1</th>\n",
       "      <td>mere thoughts of going overboard aka babes aho...</td>\n",
       "      <td>neg</td>\n",
       "    </tr>\n",
       "    <tr>\n",
       "      <th>2</th>\n",
       "      <td>why does this movie fall well below standards ...</td>\n",
       "      <td>neg</td>\n",
       "    </tr>\n",
       "    <tr>\n",
       "      <th>3</th>\n",
       "      <td>wow and i thought that any steven segal movie ...</td>\n",
       "      <td>neg</td>\n",
       "    </tr>\n",
       "    <tr>\n",
       "      <th>4</th>\n",
       "      <td>the story is seen before but that doesand matt...</td>\n",
       "      <td>neg</td>\n",
       "    </tr>\n",
       "  </tbody>\n",
       "</table>\n",
       "</div>"
      ],
      "text/plain": [
       "                                             Reviews Sentiment\n",
       "0  when i first tuned in on this morning news i t...       neg\n",
       "1  mere thoughts of going overboard aka babes aho...       neg\n",
       "2  why does this movie fall well below standards ...       neg\n",
       "3  wow and i thought that any steven segal movie ...       neg\n",
       "4  the story is seen before but that doesand matt...       neg"
      ]
     },
     "execution_count": 41,
     "metadata": {},
     "output_type": "execute_result"
    }
   ],
   "source": [
    "df.head()"
   ]
  },
  {
   "cell_type": "code",
   "execution_count": 42,
   "id": "256abb40",
   "metadata": {},
   "outputs": [],
   "source": [
    "tfidf = TfidfVectorizer(max_features=10000)\n",
    "X = df['Reviews']\n",
    "Y = df['Sentiment']"
   ]
  },
  {
   "cell_type": "code",
   "execution_count": 43,
   "id": "51e1dd04",
   "metadata": {},
   "outputs": [],
   "source": [
    "X = tfidf.fit_transform(X)"
   ]
  },
  {
   "cell_type": "code",
   "execution_count": 44,
   "id": "36e88920",
   "metadata": {},
   "outputs": [
    {
     "data": {
      "text/plain": [
       "<25000x10000 sparse matrix of type '<class 'numpy.float64'>'\n",
       "\twith 3051917 stored elements in Compressed Sparse Row format>"
      ]
     },
     "execution_count": 44,
     "metadata": {},
     "output_type": "execute_result"
    }
   ],
   "source": [
    "X"
   ]
  },
  {
   "cell_type": "code",
   "execution_count": 45,
   "id": "cffe49bd",
   "metadata": {},
   "outputs": [],
   "source": [
    "X_train, X_test, Y_train, Y_test = train_test_split(X, Y, test_size = 0.2, random_state = 0)"
   ]
  },
  {
   "cell_type": "code",
   "execution_count": 46,
   "id": "c2a652bf",
   "metadata": {},
   "outputs": [
    {
     "data": {
      "text/plain": [
       "LinearSVC()"
      ]
     },
     "execution_count": 46,
     "metadata": {},
     "output_type": "execute_result"
    }
   ],
   "source": [
    "clf = LinearSVC()\n",
    "clf.fit(X_train, Y_train)"
   ]
  },
  {
   "cell_type": "code",
   "execution_count": 47,
   "id": "b044db3a",
   "metadata": {},
   "outputs": [],
   "source": [
    "Y_pred = clf.predict(X_test)"
   ]
  },
  {
   "cell_type": "code",
   "execution_count": 48,
   "id": "e2a536d7",
   "metadata": {},
   "outputs": [
    {
     "name": "stdout",
     "output_type": "stream",
     "text": [
      "              precision    recall  f1-score   support\n",
      "\n",
      "         neg       0.88      0.88      0.88      2480\n",
      "         pos       0.88      0.89      0.88      2520\n",
      "\n",
      "    accuracy                           0.88      5000\n",
      "   macro avg       0.88      0.88      0.88      5000\n",
      "weighted avg       0.88      0.88      0.88      5000\n",
      "\n"
     ]
    }
   ],
   "source": [
    "print(classification_report(Y_test,Y_pred))"
   ]
  },
  {
   "cell_type": "code",
   "execution_count": 49,
   "id": "1c3af7bc",
   "metadata": {},
   "outputs": [],
   "source": [
    "x = get_clean(summary)\n",
    "vec = tfidf.transform([x])"
   ]
  },
  {
   "cell_type": "code",
   "execution_count": 50,
   "id": "0b53c131",
   "metadata": {},
   "outputs": [
    {
     "data": {
      "text/plain": [
       "array(['pos'], dtype=object)"
      ]
     },
     "execution_count": 50,
     "metadata": {},
     "output_type": "execute_result"
    }
   ],
   "source": [
    "clf.predict(vec)"
   ]
  },
  {
   "cell_type": "code",
   "execution_count": null,
   "id": "463060c3",
   "metadata": {},
   "outputs": [],
   "source": []
  }
 ],
 "metadata": {
  "kernelspec": {
   "display_name": "Python 3",
   "language": "python",
   "name": "python3"
  },
  "language_info": {
   "codemirror_mode": {
    "name": "ipython",
    "version": 3
   },
   "file_extension": ".py",
   "mimetype": "text/x-python",
   "name": "python",
   "nbconvert_exporter": "python",
   "pygments_lexer": "ipython3",
   "version": "3.8.8"
  }
 },
 "nbformat": 4,
 "nbformat_minor": 5
}
